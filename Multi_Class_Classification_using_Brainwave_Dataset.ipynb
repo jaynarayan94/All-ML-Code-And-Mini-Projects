{
  "nbformat": 4,
  "nbformat_minor": 0,
  "metadata": {
    "colab": {
      "name": "Multi-Class Classification using Brainwave Dataset.ipynb",
      "version": "0.3.2",
      "provenance": [],
      "include_colab_link": true
    },
    "kernelspec": {
      "name": "python3",
      "display_name": "Python 3"
    }
  },
  "cells": [
    {
      "cell_type": "markdown",
      "metadata": {
        "id": "view-in-github",
        "colab_type": "text"
      },
      "source": [
        "<a href=\"https://colab.research.google.com/github/jaynarayan94/All-ML-Code-And-Mini-Projects/blob/master/Multi_Class_Classification_using_Brainwave_Dataset.ipynb\" target=\"_parent\"><img src=\"https://colab.research.google.com/assets/colab-badge.svg\" alt=\"Open In Colab\"/></a>"
      ]
    },
    {
      "cell_type": "markdown",
      "metadata": {
        "id": "9_7V2ieBsk3t",
        "colab_type": "text"
      },
      "source": [
        "### From the Blog : [Multi-Class classification with Sci-kit learn & XGBoost: A case study using Brainwave data](https://medium.com/free-code-camp/multi-class-classification-with-sci-kit-learn-xgboost-a-case-study-using-brainwave-data-363d7fca5f69)"
      ]
    },
    {
      "cell_type": "code",
      "metadata": {
        "id": "sllA6qhMpzBZ",
        "colab_type": "code",
        "colab": {}
      },
      "source": [
        "import pandas as pd\n",
        "import numpy as np\n",
        "import matplotlib.pyplot as plt\n",
        "import seaborn as sns\n",
        "from collections import Counter\n",
        "\n",
        "import warnings\n",
        "warnings.filterwarnings('ignore')\n",
        "np.random.seed(1234)"
      ],
      "execution_count": 0,
      "outputs": []
    },
    {
      "cell_type": "code",
      "metadata": {
        "id": "Ay2rkIf7soin",
        "colab_type": "code",
        "colab": {
          "resources": {
            "http://localhost:8080/nbextensions/google.colab/files.js": {
              "data": "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",
              "ok": true,
              "headers": [
                [
                  "content-type",
                  "application/javascript"
                ]
              ],
              "status": 200,
              "status_text": "OK"
            }
          },
          "base_uri": "https://localhost:8080/",
          "height": 91
        },
        "outputId": "430ed528-b781-490c-a529-86a71ebaa59d"
      },
      "source": [
        "from google.colab import files\n",
        "\n",
        "uploaded = files.upload()\n"
      ],
      "execution_count": 3,
      "outputs": [
        {
          "output_type": "display_data",
          "data": {
            "text/html": [
              "\n",
              "     <input type=\"file\" id=\"files-0e956cee-e08e-4d04-8b93-652bc5f9c90c\" name=\"files[]\" multiple disabled />\n",
              "     <output id=\"result-0e956cee-e08e-4d04-8b93-652bc5f9c90c\">\n",
              "      Upload widget is only available when the cell has been executed in the\n",
              "      current browser session. Please rerun this cell to enable.\n",
              "      </output>\n",
              "      <script src=\"/nbextensions/google.colab/files.js\"></script> "
            ],
            "text/plain": [
              "<IPython.core.display.HTML object>"
            ]
          },
          "metadata": {
            "tags": []
          }
        },
        {
          "output_type": "stream",
          "text": [
            "Saving emotions.csv to emotions.csv\n",
            "User uploaded file \"emotions.csv\" with length 51200113 bytes\n"
          ],
          "name": "stdout"
        }
      ]
    },
    {
      "cell_type": "code",
      "metadata": {
        "id": "ICVTIBrEt2oD",
        "colab_type": "code",
        "colab": {
          "base_uri": "https://localhost:8080/",
          "height": 34
        },
        "outputId": "71088183-cfdf-4691-8e47-227dccd0f711"
      },
      "source": [
        "for fn in uploaded.keys():\n",
        "  print('User uploaded file \"{name}\" with length {length} bytes'.format(\n",
        "      name=fn, length=len(uploaded[fn])))"
      ],
      "execution_count": 4,
      "outputs": [
        {
          "output_type": "stream",
          "text": [
            "User uploaded file \"emotions.csv\" with length 51200113 bytes\n"
          ],
          "name": "stdout"
        }
      ]
    },
    {
      "cell_type": "code",
      "metadata": {
        "id": "6hgjFq20s8gn",
        "colab_type": "code",
        "colab": {}
      },
      "source": [
        "import io\n",
        "brainwave_df = pd.read_csv(io.StringIO(uploaded['emotions.csv'].decode('utf-8')))"
      ],
      "execution_count": 0,
      "outputs": []
    },
    {
      "cell_type": "code",
      "metadata": {
        "id": "DFw2rmKR2Yvx",
        "colab_type": "code",
        "colab": {
          "base_uri": "https://localhost:8080/",
          "height": 261
        },
        "outputId": "e569beba-8889-406d-cdcf-bd6de3f6842e"
      },
      "source": [
        "brainwave_df.head()"
      ],
      "execution_count": 6,
      "outputs": [
        {
          "output_type": "execute_result",
          "data": {
            "text/html": [
              "<div>\n",
              "<style scoped>\n",
              "    .dataframe tbody tr th:only-of-type {\n",
              "        vertical-align: middle;\n",
              "    }\n",
              "\n",
              "    .dataframe tbody tr th {\n",
              "        vertical-align: top;\n",
              "    }\n",
              "\n",
              "    .dataframe thead th {\n",
              "        text-align: right;\n",
              "    }\n",
              "</style>\n",
              "<table border=\"1\" class=\"dataframe\">\n",
              "  <thead>\n",
              "    <tr style=\"text-align: right;\">\n",
              "      <th></th>\n",
              "      <th># mean_0_a</th>\n",
              "      <th>mean_1_a</th>\n",
              "      <th>mean_2_a</th>\n",
              "      <th>mean_3_a</th>\n",
              "      <th>mean_4_a</th>\n",
              "      <th>mean_d_0_a</th>\n",
              "      <th>mean_d_1_a</th>\n",
              "      <th>mean_d_2_a</th>\n",
              "      <th>mean_d_3_a</th>\n",
              "      <th>mean_d_4_a</th>\n",
              "      <th>mean_d_0_a2</th>\n",
              "      <th>mean_d_1_a2</th>\n",
              "      <th>mean_d_2_a2</th>\n",
              "      <th>mean_d_3_a2</th>\n",
              "      <th>mean_d_4_a2</th>\n",
              "      <th>mean_d_5_a</th>\n",
              "      <th>mean_d_6_a</th>\n",
              "      <th>mean_d_7_a</th>\n",
              "      <th>mean_d_8_a</th>\n",
              "      <th>mean_d_9_a</th>\n",
              "      <th>mean_d_10_a</th>\n",
              "      <th>mean_d_11_a</th>\n",
              "      <th>mean_d_12_a</th>\n",
              "      <th>mean_d_13_a</th>\n",
              "      <th>mean_d_14_a</th>\n",
              "      <th>mean_d_15_a</th>\n",
              "      <th>mean_d_16_a</th>\n",
              "      <th>mean_d_17_a</th>\n",
              "      <th>mean_d_18_a</th>\n",
              "      <th>mean_d_19_a</th>\n",
              "      <th>mean_d_20_a</th>\n",
              "      <th>mean_d_21_a</th>\n",
              "      <th>mean_d_22_a</th>\n",
              "      <th>mean_d_23_a</th>\n",
              "      <th>mean_d_24_a</th>\n",
              "      <th>mean_d_25_a</th>\n",
              "      <th>mean_d_26_a</th>\n",
              "      <th>mean_d_27_a</th>\n",
              "      <th>mean_d_28_a</th>\n",
              "      <th>mean_d_29_a</th>\n",
              "      <th>...</th>\n",
              "      <th>fft_711_b</th>\n",
              "      <th>fft_712_b</th>\n",
              "      <th>fft_713_b</th>\n",
              "      <th>fft_714_b</th>\n",
              "      <th>fft_715_b</th>\n",
              "      <th>fft_716_b</th>\n",
              "      <th>fft_717_b</th>\n",
              "      <th>fft_718_b</th>\n",
              "      <th>fft_719_b</th>\n",
              "      <th>fft_720_b</th>\n",
              "      <th>fft_721_b</th>\n",
              "      <th>fft_722_b</th>\n",
              "      <th>fft_723_b</th>\n",
              "      <th>fft_724_b</th>\n",
              "      <th>fft_725_b</th>\n",
              "      <th>fft_726_b</th>\n",
              "      <th>fft_727_b</th>\n",
              "      <th>fft_728_b</th>\n",
              "      <th>fft_729_b</th>\n",
              "      <th>fft_730_b</th>\n",
              "      <th>fft_731_b</th>\n",
              "      <th>fft_732_b</th>\n",
              "      <th>fft_733_b</th>\n",
              "      <th>fft_734_b</th>\n",
              "      <th>fft_735_b</th>\n",
              "      <th>fft_736_b</th>\n",
              "      <th>fft_737_b</th>\n",
              "      <th>fft_738_b</th>\n",
              "      <th>fft_739_b</th>\n",
              "      <th>fft_740_b</th>\n",
              "      <th>fft_741_b</th>\n",
              "      <th>fft_742_b</th>\n",
              "      <th>fft_743_b</th>\n",
              "      <th>fft_744_b</th>\n",
              "      <th>fft_745_b</th>\n",
              "      <th>fft_746_b</th>\n",
              "      <th>fft_747_b</th>\n",
              "      <th>fft_748_b</th>\n",
              "      <th>fft_749_b</th>\n",
              "      <th>label</th>\n",
              "    </tr>\n",
              "  </thead>\n",
              "  <tbody>\n",
              "    <tr>\n",
              "      <th>0</th>\n",
              "      <td>4.62</td>\n",
              "      <td>30.3</td>\n",
              "      <td>-356.0</td>\n",
              "      <td>15.6</td>\n",
              "      <td>26.3</td>\n",
              "      <td>1.070</td>\n",
              "      <td>0.411</td>\n",
              "      <td>-15.70</td>\n",
              "      <td>2.06</td>\n",
              "      <td>3.15</td>\n",
              "      <td>2.15</td>\n",
              "      <td>29.5</td>\n",
              "      <td>-353.0</td>\n",
              "      <td>14.40</td>\n",
              "      <td>21.5</td>\n",
              "      <td>5.98</td>\n",
              "      <td>30.7</td>\n",
              "      <td>-343.0</td>\n",
              "      <td>14.7</td>\n",
              "      <td>27.9</td>\n",
              "      <td>3.17</td>\n",
              "      <td>32.2</td>\n",
              "      <td>-368.0</td>\n",
              "      <td>15.9</td>\n",
              "      <td>36.4</td>\n",
              "      <td>7.08</td>\n",
              "      <td>28.8</td>\n",
              "      <td>-359.0</td>\n",
              "      <td>17.3</td>\n",
              "      <td>19.6</td>\n",
              "      <td>-3.8300</td>\n",
              "      <td>-1.230</td>\n",
              "      <td>-10.80000</td>\n",
              "      <td>-0.363</td>\n",
              "      <td>-6.41</td>\n",
              "      <td>-1.03</td>\n",
              "      <td>-2.780</td>\n",
              "      <td>14.60</td>\n",
              "      <td>-1.540</td>\n",
              "      <td>-14.900000</td>\n",
              "      <td>...</td>\n",
              "      <td>30.90</td>\n",
              "      <td>-24.4</td>\n",
              "      <td>-24.4</td>\n",
              "      <td>30.90</td>\n",
              "      <td>-442.0</td>\n",
              "      <td>388.0</td>\n",
              "      <td>-197.0</td>\n",
              "      <td>-197.0</td>\n",
              "      <td>388.0</td>\n",
              "      <td>-564.0</td>\n",
              "      <td>500.00</td>\n",
              "      <td>-245.00</td>\n",
              "      <td>-245.00</td>\n",
              "      <td>500.00</td>\n",
              "      <td>-88.8</td>\n",
              "      <td>214.0</td>\n",
              "      <td>-88.8</td>\n",
              "      <td>-88.8</td>\n",
              "      <td>214.0</td>\n",
              "      <td>-606.0</td>\n",
              "      <td>509.000</td>\n",
              "      <td>-261.0</td>\n",
              "      <td>-261.0</td>\n",
              "      <td>509.000</td>\n",
              "      <td>-399.0</td>\n",
              "      <td>374.0</td>\n",
              "      <td>-185.00</td>\n",
              "      <td>-185.00</td>\n",
              "      <td>374.0</td>\n",
              "      <td>74.3</td>\n",
              "      <td>23.5</td>\n",
              "      <td>20.3</td>\n",
              "      <td>20.3</td>\n",
              "      <td>23.5</td>\n",
              "      <td>-215.0</td>\n",
              "      <td>280.00</td>\n",
              "      <td>-162.00</td>\n",
              "      <td>-162.00</td>\n",
              "      <td>280.00</td>\n",
              "      <td>NEGATIVE</td>\n",
              "    </tr>\n",
              "    <tr>\n",
              "      <th>1</th>\n",
              "      <td>28.80</td>\n",
              "      <td>33.1</td>\n",
              "      <td>32.0</td>\n",
              "      <td>25.8</td>\n",
              "      <td>22.8</td>\n",
              "      <td>6.550</td>\n",
              "      <td>1.680</td>\n",
              "      <td>2.88</td>\n",
              "      <td>3.83</td>\n",
              "      <td>-4.82</td>\n",
              "      <td>25.60</td>\n",
              "      <td>32.8</td>\n",
              "      <td>29.6</td>\n",
              "      <td>21.50</td>\n",
              "      <td>17.4</td>\n",
              "      <td>25.50</td>\n",
              "      <td>31.7</td>\n",
              "      <td>31.5</td>\n",
              "      <td>26.2</td>\n",
              "      <td>32.9</td>\n",
              "      <td>31.80</td>\n",
              "      <td>33.1</td>\n",
              "      <td>33.2</td>\n",
              "      <td>28.5</td>\n",
              "      <td>26.8</td>\n",
              "      <td>32.40</td>\n",
              "      <td>34.7</td>\n",
              "      <td>33.8</td>\n",
              "      <td>27.0</td>\n",
              "      <td>14.2</td>\n",
              "      <td>0.0342</td>\n",
              "      <td>1.100</td>\n",
              "      <td>-1.87000</td>\n",
              "      <td>-4.690</td>\n",
              "      <td>-15.40</td>\n",
              "      <td>-6.22</td>\n",
              "      <td>-0.328</td>\n",
              "      <td>-3.53</td>\n",
              "      <td>-6.980</td>\n",
              "      <td>-9.370000</td>\n",
              "      <td>...</td>\n",
              "      <td>-5.99</td>\n",
              "      <td>-19.1</td>\n",
              "      <td>-19.1</td>\n",
              "      <td>-5.99</td>\n",
              "      <td>163.0</td>\n",
              "      <td>-11.0</td>\n",
              "      <td>-10.7</td>\n",
              "      <td>-10.7</td>\n",
              "      <td>-11.0</td>\n",
              "      <td>117.0</td>\n",
              "      <td>-3.93</td>\n",
              "      <td>17.90</td>\n",
              "      <td>17.90</td>\n",
              "      <td>-3.93</td>\n",
              "      <td>112.0</td>\n",
              "      <td>-13.9</td>\n",
              "      <td>25.5</td>\n",
              "      <td>25.5</td>\n",
              "      <td>-13.9</td>\n",
              "      <td>225.0</td>\n",
              "      <td>-0.968</td>\n",
              "      <td>-27.7</td>\n",
              "      <td>-27.7</td>\n",
              "      <td>-0.968</td>\n",
              "      <td>97.4</td>\n",
              "      <td>-19.0</td>\n",
              "      <td>40.70</td>\n",
              "      <td>40.70</td>\n",
              "      <td>-19.0</td>\n",
              "      <td>130.0</td>\n",
              "      <td>-23.3</td>\n",
              "      <td>-21.8</td>\n",
              "      <td>-21.8</td>\n",
              "      <td>-23.3</td>\n",
              "      <td>182.0</td>\n",
              "      <td>2.57</td>\n",
              "      <td>-31.60</td>\n",
              "      <td>-31.60</td>\n",
              "      <td>2.57</td>\n",
              "      <td>NEUTRAL</td>\n",
              "    </tr>\n",
              "    <tr>\n",
              "      <th>2</th>\n",
              "      <td>8.90</td>\n",
              "      <td>29.4</td>\n",
              "      <td>-416.0</td>\n",
              "      <td>16.7</td>\n",
              "      <td>23.7</td>\n",
              "      <td>79.900</td>\n",
              "      <td>3.360</td>\n",
              "      <td>90.20</td>\n",
              "      <td>89.90</td>\n",
              "      <td>2.03</td>\n",
              "      <td>7.75</td>\n",
              "      <td>30.1</td>\n",
              "      <td>-441.0</td>\n",
              "      <td>9.89</td>\n",
              "      <td>25.3</td>\n",
              "      <td>-68.90</td>\n",
              "      <td>25.3</td>\n",
              "      <td>-481.0</td>\n",
              "      <td>-65.4</td>\n",
              "      <td>20.0</td>\n",
              "      <td>79.80</td>\n",
              "      <td>31.0</td>\n",
              "      <td>-408.0</td>\n",
              "      <td>91.9</td>\n",
              "      <td>29.5</td>\n",
              "      <td>18.80</td>\n",
              "      <td>31.1</td>\n",
              "      <td>-335.0</td>\n",
              "      <td>32.2</td>\n",
              "      <td>19.9</td>\n",
              "      <td>76.6000</td>\n",
              "      <td>4.850</td>\n",
              "      <td>39.90000</td>\n",
              "      <td>75.300</td>\n",
              "      <td>5.27</td>\n",
              "      <td>-72.00</td>\n",
              "      <td>-0.843</td>\n",
              "      <td>-33.00</td>\n",
              "      <td>-82.000</td>\n",
              "      <td>-4.200000</td>\n",
              "      <td>...</td>\n",
              "      <td>585.00</td>\n",
              "      <td>-285.0</td>\n",
              "      <td>-285.0</td>\n",
              "      <td>585.00</td>\n",
              "      <td>-94.3</td>\n",
              "      <td>183.0</td>\n",
              "      <td>-110.0</td>\n",
              "      <td>-110.0</td>\n",
              "      <td>183.0</td>\n",
              "      <td>-133.0</td>\n",
              "      <td>200.00</td>\n",
              "      <td>-72.00</td>\n",
              "      <td>-72.00</td>\n",
              "      <td>200.00</td>\n",
              "      <td>-356.0</td>\n",
              "      <td>295.0</td>\n",
              "      <td>-158.0</td>\n",
              "      <td>-158.0</td>\n",
              "      <td>295.0</td>\n",
              "      <td>-251.0</td>\n",
              "      <td>255.000</td>\n",
              "      <td>-95.7</td>\n",
              "      <td>-95.7</td>\n",
              "      <td>255.000</td>\n",
              "      <td>-177.0</td>\n",
              "      <td>159.0</td>\n",
              "      <td>-48.80</td>\n",
              "      <td>-48.80</td>\n",
              "      <td>159.0</td>\n",
              "      <td>-534.0</td>\n",
              "      <td>462.0</td>\n",
              "      <td>-233.0</td>\n",
              "      <td>-233.0</td>\n",
              "      <td>462.0</td>\n",
              "      <td>-267.0</td>\n",
              "      <td>281.00</td>\n",
              "      <td>-148.00</td>\n",
              "      <td>-148.00</td>\n",
              "      <td>281.00</td>\n",
              "      <td>POSITIVE</td>\n",
              "    </tr>\n",
              "    <tr>\n",
              "      <th>3</th>\n",
              "      <td>14.90</td>\n",
              "      <td>31.6</td>\n",
              "      <td>-143.0</td>\n",
              "      <td>19.8</td>\n",
              "      <td>24.3</td>\n",
              "      <td>-0.584</td>\n",
              "      <td>-0.284</td>\n",
              "      <td>8.82</td>\n",
              "      <td>2.30</td>\n",
              "      <td>-1.97</td>\n",
              "      <td>17.30</td>\n",
              "      <td>32.0</td>\n",
              "      <td>-148.0</td>\n",
              "      <td>20.40</td>\n",
              "      <td>22.8</td>\n",
              "      <td>13.20</td>\n",
              "      <td>31.5</td>\n",
              "      <td>-147.0</td>\n",
              "      <td>16.9</td>\n",
              "      <td>27.7</td>\n",
              "      <td>15.70</td>\n",
              "      <td>30.7</td>\n",
              "      <td>-142.0</td>\n",
              "      <td>20.7</td>\n",
              "      <td>22.8</td>\n",
              "      <td>13.60</td>\n",
              "      <td>32.2</td>\n",
              "      <td>-135.0</td>\n",
              "      <td>21.2</td>\n",
              "      <td>23.8</td>\n",
              "      <td>4.1500</td>\n",
              "      <td>0.556</td>\n",
              "      <td>-0.35400</td>\n",
              "      <td>3.460</td>\n",
              "      <td>-4.96</td>\n",
              "      <td>1.63</td>\n",
              "      <td>1.330</td>\n",
              "      <td>-5.83</td>\n",
              "      <td>-0.298</td>\n",
              "      <td>0.000777</td>\n",
              "      <td>...</td>\n",
              "      <td>249.00</td>\n",
              "      <td>-146.0</td>\n",
              "      <td>-146.0</td>\n",
              "      <td>249.00</td>\n",
              "      <td>359.0</td>\n",
              "      <td>-146.0</td>\n",
              "      <td>13.7</td>\n",
              "      <td>13.7</td>\n",
              "      <td>-146.0</td>\n",
              "      <td>119.0</td>\n",
              "      <td>-7.64</td>\n",
              "      <td>-7.17</td>\n",
              "      <td>-7.17</td>\n",
              "      <td>-7.64</td>\n",
              "      <td>-296.0</td>\n",
              "      <td>316.0</td>\n",
              "      <td>-218.0</td>\n",
              "      <td>-218.0</td>\n",
              "      <td>316.0</td>\n",
              "      <td>322.0</td>\n",
              "      <td>-113.000</td>\n",
              "      <td>38.4</td>\n",
              "      <td>38.4</td>\n",
              "      <td>-113.000</td>\n",
              "      <td>245.0</td>\n",
              "      <td>-61.9</td>\n",
              "      <td>-5.08</td>\n",
              "      <td>-5.08</td>\n",
              "      <td>-61.9</td>\n",
              "      <td>-183.0</td>\n",
              "      <td>299.0</td>\n",
              "      <td>-243.0</td>\n",
              "      <td>-243.0</td>\n",
              "      <td>299.0</td>\n",
              "      <td>132.0</td>\n",
              "      <td>-12.40</td>\n",
              "      <td>9.53</td>\n",
              "      <td>9.53</td>\n",
              "      <td>-12.40</td>\n",
              "      <td>POSITIVE</td>\n",
              "    </tr>\n",
              "    <tr>\n",
              "      <th>4</th>\n",
              "      <td>28.30</td>\n",
              "      <td>31.3</td>\n",
              "      <td>45.2</td>\n",
              "      <td>27.3</td>\n",
              "      <td>24.5</td>\n",
              "      <td>34.800</td>\n",
              "      <td>-5.790</td>\n",
              "      <td>3.06</td>\n",
              "      <td>41.40</td>\n",
              "      <td>5.52</td>\n",
              "      <td>26.10</td>\n",
              "      <td>34.3</td>\n",
              "      <td>43.7</td>\n",
              "      <td>23.70</td>\n",
              "      <td>20.6</td>\n",
              "      <td>-3.87</td>\n",
              "      <td>34.1</td>\n",
              "      <td>43.7</td>\n",
              "      <td>-10.0</td>\n",
              "      <td>22.9</td>\n",
              "      <td>59.40</td>\n",
              "      <td>26.7</td>\n",
              "      <td>60.3</td>\n",
              "      <td>64.7</td>\n",
              "      <td>26.9</td>\n",
              "      <td>32.30</td>\n",
              "      <td>30.1</td>\n",
              "      <td>33.6</td>\n",
              "      <td>31.6</td>\n",
              "      <td>27.7</td>\n",
              "      <td>30.0000</td>\n",
              "      <td>0.276</td>\n",
              "      <td>-0.00677</td>\n",
              "      <td>33.700</td>\n",
              "      <td>-2.36</td>\n",
              "      <td>-33.30</td>\n",
              "      <td>7.640</td>\n",
              "      <td>-16.60</td>\n",
              "      <td>-41.100</td>\n",
              "      <td>-6.290000</td>\n",
              "      <td>...</td>\n",
              "      <td>18.30</td>\n",
              "      <td>-11.9</td>\n",
              "      <td>-11.9</td>\n",
              "      <td>18.30</td>\n",
              "      <td>159.0</td>\n",
              "      <td>-18.2</td>\n",
              "      <td>-25.6</td>\n",
              "      <td>-25.6</td>\n",
              "      <td>-18.2</td>\n",
              "      <td>194.0</td>\n",
              "      <td>32.70</td>\n",
              "      <td>-54.50</td>\n",
              "      <td>-54.50</td>\n",
              "      <td>32.70</td>\n",
              "      <td>154.0</td>\n",
              "      <td>26.4</td>\n",
              "      <td>-56.4</td>\n",
              "      <td>-56.4</td>\n",
              "      <td>26.4</td>\n",
              "      <td>252.0</td>\n",
              "      <td>9.940</td>\n",
              "      <td>-37.4</td>\n",
              "      <td>-37.4</td>\n",
              "      <td>9.940</td>\n",
              "      <td>172.0</td>\n",
              "      <td>15.9</td>\n",
              "      <td>-7.25</td>\n",
              "      <td>-7.25</td>\n",
              "      <td>15.9</td>\n",
              "      <td>114.0</td>\n",
              "      <td>12.0</td>\n",
              "      <td>38.1</td>\n",
              "      <td>38.1</td>\n",
              "      <td>12.0</td>\n",
              "      <td>119.0</td>\n",
              "      <td>-17.60</td>\n",
              "      <td>23.90</td>\n",
              "      <td>23.90</td>\n",
              "      <td>-17.60</td>\n",
              "      <td>NEUTRAL</td>\n",
              "    </tr>\n",
              "  </tbody>\n",
              "</table>\n",
              "<p>5 rows × 2549 columns</p>\n",
              "</div>"
            ],
            "text/plain": [
              "   # mean_0_a  mean_1_a  mean_2_a  ...  fft_748_b  fft_749_b     label\n",
              "0        4.62      30.3    -356.0  ...    -162.00     280.00  NEGATIVE\n",
              "1       28.80      33.1      32.0  ...     -31.60       2.57   NEUTRAL\n",
              "2        8.90      29.4    -416.0  ...    -148.00     281.00  POSITIVE\n",
              "3       14.90      31.6    -143.0  ...       9.53     -12.40  POSITIVE\n",
              "4       28.30      31.3      45.2  ...      23.90     -17.60   NEUTRAL\n",
              "\n",
              "[5 rows x 2549 columns]"
            ]
          },
          "metadata": {
            "tags": []
          },
          "execution_count": 6
        }
      ]
    },
    {
      "cell_type": "code",
      "metadata": {
        "id": "zTjoVkHR2bII",
        "colab_type": "code",
        "colab": {
          "base_uri": "https://localhost:8080/",
          "height": 34
        },
        "outputId": "617fa63d-78df-448b-eea7-fc0ffd3c0d88"
      },
      "source": [
        "brainwave_df.shape"
      ],
      "execution_count": 7,
      "outputs": [
        {
          "output_type": "execute_result",
          "data": {
            "text/plain": [
              "(2132, 2549)"
            ]
          },
          "metadata": {
            "tags": []
          },
          "execution_count": 7
        }
      ]
    },
    {
      "cell_type": "code",
      "metadata": {
        "id": "TF2rfzih2fjc",
        "colab_type": "code",
        "colab": {
          "base_uri": "https://localhost:8080/",
          "height": 101
        },
        "outputId": "aeacd6ac-5de0-45bc-be6d-e942c0390622"
      },
      "source": [
        "brainwave_df.info()"
      ],
      "execution_count": 8,
      "outputs": [
        {
          "output_type": "stream",
          "text": [
            "<class 'pandas.core.frame.DataFrame'>\n",
            "RangeIndex: 2132 entries, 0 to 2131\n",
            "Columns: 2549 entries, # mean_0_a to label\n",
            "dtypes: float64(2548), object(1)\n",
            "memory usage: 41.5+ MB\n"
          ],
          "name": "stdout"
        }
      ]
    },
    {
      "cell_type": "code",
      "metadata": {
        "id": "5jnrX4_R2gx3",
        "colab_type": "code",
        "colab": {
          "base_uri": "https://localhost:8080/",
          "height": 34
        },
        "outputId": "d3e0a6e4-ef15-4dd6-b98c-0879f0083aee"
      },
      "source": [
        "Counter(brainwave_df['label'])"
      ],
      "execution_count": 9,
      "outputs": [
        {
          "output_type": "execute_result",
          "data": {
            "text/plain": [
              "Counter({'NEGATIVE': 708, 'NEUTRAL': 716, 'POSITIVE': 708})"
            ]
          },
          "metadata": {
            "tags": []
          },
          "execution_count": 9
        }
      ]
    },
    {
      "cell_type": "markdown",
      "metadata": {
        "id": "TZZYlVGS2oF-",
        "colab_type": "text"
      },
      "source": [
        "There are 2549 columns in the dataset and ‘label’ is the target column for our classification problem. All other columns like ‘mean_d_1_a’, ‘mean_d2_a’ etc are describing features of brainwave signal readings. Columns starting with the ‘fft’ prefix are most probably ‘Fast Fourier transforms’ of original signals. Our target column ‘label’ describes the degree of emotional sentiment.\n",
        "\n",
        "As per Kaggle, here is the challenge: “Can we predict emotional sentiment from brainwave readings?”\n",
        "\n",
        "Let’s first understand class distributions from column ‘label’:"
      ]
    },
    {
      "cell_type": "code",
      "metadata": {
        "id": "KvAlrX3G2i8E",
        "colab_type": "code",
        "colab": {
          "base_uri": "https://localhost:8080/",
          "height": 316
        },
        "outputId": "ab79ad3f-1d3c-45d3-ea5b-9b3a3ed8a0dd"
      },
      "source": [
        "sns.countplot(brainwave_df['label']);\n",
        "plt.xticks(rotation='45')\n",
        "plt.xlabel('EEG Brainwave Label')\n",
        "plt.show()"
      ],
      "execution_count": 10,
      "outputs": [
        {
          "output_type": "display_data",
          "data": {
            "image/png": "[encoded data removed]",
            "text/plain": [
              "<Figure size 432x288 with 1 Axes>"
            ]
          },
          "metadata": {
            "tags": []
          }
        }
      ]
    },
    {
      "cell_type": "markdown",
      "metadata": {
        "id": "_AydT3JE3ev9",
        "colab_type": "text"
      },
      "source": [
        "So, there are three classes, ‘POSITIVE’, ‘NEGATIVE’ & ‘NEUTRAL’, for emotional sentiment. From the bar chart, it is clear that class distribution is not skewed and it is a ‘multi-class classification’ problem with target variable ‘label’. We will try with different classifiers and see the accuracy levels."
      ]
    },
    {
      "cell_type": "code",
      "metadata": {
        "id": "c__wNMVS2pIj",
        "colab_type": "code",
        "colab": {
          "base_uri": "https://localhost:8080/",
          "height": 261
        },
        "outputId": "5bc78054-289c-4710-c7ee-dfed2a82b938"
      },
      "source": [
        "# let's split depedent & Indepent Variables\n",
        "\n",
        "x = brainwave_df.drop(['label'],axis=1)\n",
        "y = brainwave_df['label']\n",
        "\n",
        "x.head()"
      ],
      "execution_count": 11,
      "outputs": [
        {
          "output_type": "execute_result",
          "data": {
            "text/html": [
              "<div>\n",
              "<style scoped>\n",
              "    .dataframe tbody tr th:only-of-type {\n",
              "        vertical-align: middle;\n",
              "    }\n",
              "\n",
              "    .dataframe tbody tr th {\n",
              "        vertical-align: top;\n",
              "    }\n",
              "\n",
              "    .dataframe thead th {\n",
              "        text-align: right;\n",
              "    }\n",
              "</style>\n",
              "<table border=\"1\" class=\"dataframe\">\n",
              "  <thead>\n",
              "    <tr style=\"text-align: right;\">\n",
              "      <th></th>\n",
              "      <th># mean_0_a</th>\n",
              "      <th>mean_1_a</th>\n",
              "      <th>mean_2_a</th>\n",
              "      <th>mean_3_a</th>\n",
              "      <th>mean_4_a</th>\n",
              "      <th>mean_d_0_a</th>\n",
              "      <th>mean_d_1_a</th>\n",
              "      <th>mean_d_2_a</th>\n",
              "      <th>mean_d_3_a</th>\n",
              "      <th>mean_d_4_a</th>\n",
              "      <th>mean_d_0_a2</th>\n",
              "      <th>mean_d_1_a2</th>\n",
              "      <th>mean_d_2_a2</th>\n",
              "      <th>mean_d_3_a2</th>\n",
              "      <th>mean_d_4_a2</th>\n",
              "      <th>mean_d_5_a</th>\n",
              "      <th>mean_d_6_a</th>\n",
              "      <th>mean_d_7_a</th>\n",
              "      <th>mean_d_8_a</th>\n",
              "      <th>mean_d_9_a</th>\n",
              "      <th>mean_d_10_a</th>\n",
              "      <th>mean_d_11_a</th>\n",
              "      <th>mean_d_12_a</th>\n",
              "      <th>mean_d_13_a</th>\n",
              "      <th>mean_d_14_a</th>\n",
              "      <th>mean_d_15_a</th>\n",
              "      <th>mean_d_16_a</th>\n",
              "      <th>mean_d_17_a</th>\n",
              "      <th>mean_d_18_a</th>\n",
              "      <th>mean_d_19_a</th>\n",
              "      <th>mean_d_20_a</th>\n",
              "      <th>mean_d_21_a</th>\n",
              "      <th>mean_d_22_a</th>\n",
              "      <th>mean_d_23_a</th>\n",
              "      <th>mean_d_24_a</th>\n",
              "      <th>mean_d_25_a</th>\n",
              "      <th>mean_d_26_a</th>\n",
              "      <th>mean_d_27_a</th>\n",
              "      <th>mean_d_28_a</th>\n",
              "      <th>mean_d_29_a</th>\n",
              "      <th>...</th>\n",
              "      <th>fft_710_b</th>\n",
              "      <th>fft_711_b</th>\n",
              "      <th>fft_712_b</th>\n",
              "      <th>fft_713_b</th>\n",
              "      <th>fft_714_b</th>\n",
              "      <th>fft_715_b</th>\n",
              "      <th>fft_716_b</th>\n",
              "      <th>fft_717_b</th>\n",
              "      <th>fft_718_b</th>\n",
              "      <th>fft_719_b</th>\n",
              "      <th>fft_720_b</th>\n",
              "      <th>fft_721_b</th>\n",
              "      <th>fft_722_b</th>\n",
              "      <th>fft_723_b</th>\n",
              "      <th>fft_724_b</th>\n",
              "      <th>fft_725_b</th>\n",
              "      <th>fft_726_b</th>\n",
              "      <th>fft_727_b</th>\n",
              "      <th>fft_728_b</th>\n",
              "      <th>fft_729_b</th>\n",
              "      <th>fft_730_b</th>\n",
              "      <th>fft_731_b</th>\n",
              "      <th>fft_732_b</th>\n",
              "      <th>fft_733_b</th>\n",
              "      <th>fft_734_b</th>\n",
              "      <th>fft_735_b</th>\n",
              "      <th>fft_736_b</th>\n",
              "      <th>fft_737_b</th>\n",
              "      <th>fft_738_b</th>\n",
              "      <th>fft_739_b</th>\n",
              "      <th>fft_740_b</th>\n",
              "      <th>fft_741_b</th>\n",
              "      <th>fft_742_b</th>\n",
              "      <th>fft_743_b</th>\n",
              "      <th>fft_744_b</th>\n",
              "      <th>fft_745_b</th>\n",
              "      <th>fft_746_b</th>\n",
              "      <th>fft_747_b</th>\n",
              "      <th>fft_748_b</th>\n",
              "      <th>fft_749_b</th>\n",
              "    </tr>\n",
              "  </thead>\n",
              "  <tbody>\n",
              "    <tr>\n",
              "      <th>0</th>\n",
              "      <td>4.62</td>\n",
              "      <td>30.3</td>\n",
              "      <td>-356.0</td>\n",
              "      <td>15.6</td>\n",
              "      <td>26.3</td>\n",
              "      <td>1.070</td>\n",
              "      <td>0.411</td>\n",
              "      <td>-15.70</td>\n",
              "      <td>2.06</td>\n",
              "      <td>3.15</td>\n",
              "      <td>2.15</td>\n",
              "      <td>29.5</td>\n",
              "      <td>-353.0</td>\n",
              "      <td>14.40</td>\n",
              "      <td>21.5</td>\n",
              "      <td>5.98</td>\n",
              "      <td>30.7</td>\n",
              "      <td>-343.0</td>\n",
              "      <td>14.7</td>\n",
              "      <td>27.9</td>\n",
              "      <td>3.17</td>\n",
              "      <td>32.2</td>\n",
              "      <td>-368.0</td>\n",
              "      <td>15.9</td>\n",
              "      <td>36.4</td>\n",
              "      <td>7.08</td>\n",
              "      <td>28.8</td>\n",
              "      <td>-359.0</td>\n",
              "      <td>17.3</td>\n",
              "      <td>19.6</td>\n",
              "      <td>-3.8300</td>\n",
              "      <td>-1.230</td>\n",
              "      <td>-10.80000</td>\n",
              "      <td>-0.363</td>\n",
              "      <td>-6.41</td>\n",
              "      <td>-1.03</td>\n",
              "      <td>-2.780</td>\n",
              "      <td>14.60</td>\n",
              "      <td>-1.540</td>\n",
              "      <td>-14.900000</td>\n",
              "      <td>...</td>\n",
              "      <td>247.0</td>\n",
              "      <td>30.90</td>\n",
              "      <td>-24.4</td>\n",
              "      <td>-24.4</td>\n",
              "      <td>30.90</td>\n",
              "      <td>-442.0</td>\n",
              "      <td>388.0</td>\n",
              "      <td>-197.0</td>\n",
              "      <td>-197.0</td>\n",
              "      <td>388.0</td>\n",
              "      <td>-564.0</td>\n",
              "      <td>500.00</td>\n",
              "      <td>-245.00</td>\n",
              "      <td>-245.00</td>\n",
              "      <td>500.00</td>\n",
              "      <td>-88.8</td>\n",
              "      <td>214.0</td>\n",
              "      <td>-88.8</td>\n",
              "      <td>-88.8</td>\n",
              "      <td>214.0</td>\n",
              "      <td>-606.0</td>\n",
              "      <td>509.000</td>\n",
              "      <td>-261.0</td>\n",
              "      <td>-261.0</td>\n",
              "      <td>509.000</td>\n",
              "      <td>-399.0</td>\n",
              "      <td>374.0</td>\n",
              "      <td>-185.00</td>\n",
              "      <td>-185.00</td>\n",
              "      <td>374.0</td>\n",
              "      <td>74.3</td>\n",
              "      <td>23.5</td>\n",
              "      <td>20.3</td>\n",
              "      <td>20.3</td>\n",
              "      <td>23.5</td>\n",
              "      <td>-215.0</td>\n",
              "      <td>280.00</td>\n",
              "      <td>-162.00</td>\n",
              "      <td>-162.00</td>\n",
              "      <td>280.00</td>\n",
              "    </tr>\n",
              "    <tr>\n",
              "      <th>1</th>\n",
              "      <td>28.80</td>\n",
              "      <td>33.1</td>\n",
              "      <td>32.0</td>\n",
              "      <td>25.8</td>\n",
              "      <td>22.8</td>\n",
              "      <td>6.550</td>\n",
              "      <td>1.680</td>\n",
              "      <td>2.88</td>\n",
              "      <td>3.83</td>\n",
              "      <td>-4.82</td>\n",
              "      <td>25.60</td>\n",
              "      <td>32.8</td>\n",
              "      <td>29.6</td>\n",
              "      <td>21.50</td>\n",
              "      <td>17.4</td>\n",
              "      <td>25.50</td>\n",
              "      <td>31.7</td>\n",
              "      <td>31.5</td>\n",
              "      <td>26.2</td>\n",
              "      <td>32.9</td>\n",
              "      <td>31.80</td>\n",
              "      <td>33.1</td>\n",
              "      <td>33.2</td>\n",
              "      <td>28.5</td>\n",
              "      <td>26.8</td>\n",
              "      <td>32.40</td>\n",
              "      <td>34.7</td>\n",
              "      <td>33.8</td>\n",
              "      <td>27.0</td>\n",
              "      <td>14.2</td>\n",
              "      <td>0.0342</td>\n",
              "      <td>1.100</td>\n",
              "      <td>-1.87000</td>\n",
              "      <td>-4.690</td>\n",
              "      <td>-15.40</td>\n",
              "      <td>-6.22</td>\n",
              "      <td>-0.328</td>\n",
              "      <td>-3.53</td>\n",
              "      <td>-6.980</td>\n",
              "      <td>-9.370000</td>\n",
              "      <td>...</td>\n",
              "      <td>151.0</td>\n",
              "      <td>-5.99</td>\n",
              "      <td>-19.1</td>\n",
              "      <td>-19.1</td>\n",
              "      <td>-5.99</td>\n",
              "      <td>163.0</td>\n",
              "      <td>-11.0</td>\n",
              "      <td>-10.7</td>\n",
              "      <td>-10.7</td>\n",
              "      <td>-11.0</td>\n",
              "      <td>117.0</td>\n",
              "      <td>-3.93</td>\n",
              "      <td>17.90</td>\n",
              "      <td>17.90</td>\n",
              "      <td>-3.93</td>\n",
              "      <td>112.0</td>\n",
              "      <td>-13.9</td>\n",
              "      <td>25.5</td>\n",
              "      <td>25.5</td>\n",
              "      <td>-13.9</td>\n",
              "      <td>225.0</td>\n",
              "      <td>-0.968</td>\n",
              "      <td>-27.7</td>\n",
              "      <td>-27.7</td>\n",
              "      <td>-0.968</td>\n",
              "      <td>97.4</td>\n",
              "      <td>-19.0</td>\n",
              "      <td>40.70</td>\n",
              "      <td>40.70</td>\n",
              "      <td>-19.0</td>\n",
              "      <td>130.0</td>\n",
              "      <td>-23.3</td>\n",
              "      <td>-21.8</td>\n",
              "      <td>-21.8</td>\n",
              "      <td>-23.3</td>\n",
              "      <td>182.0</td>\n",
              "      <td>2.57</td>\n",
              "      <td>-31.60</td>\n",
              "      <td>-31.60</td>\n",
              "      <td>2.57</td>\n",
              "    </tr>\n",
              "    <tr>\n",
              "      <th>2</th>\n",
              "      <td>8.90</td>\n",
              "      <td>29.4</td>\n",
              "      <td>-416.0</td>\n",
              "      <td>16.7</td>\n",
              "      <td>23.7</td>\n",
              "      <td>79.900</td>\n",
              "      <td>3.360</td>\n",
              "      <td>90.20</td>\n",
              "      <td>89.90</td>\n",
              "      <td>2.03</td>\n",
              "      <td>7.75</td>\n",
              "      <td>30.1</td>\n",
              "      <td>-441.0</td>\n",
              "      <td>9.89</td>\n",
              "      <td>25.3</td>\n",
              "      <td>-68.90</td>\n",
              "      <td>25.3</td>\n",
              "      <td>-481.0</td>\n",
              "      <td>-65.4</td>\n",
              "      <td>20.0</td>\n",
              "      <td>79.80</td>\n",
              "      <td>31.0</td>\n",
              "      <td>-408.0</td>\n",
              "      <td>91.9</td>\n",
              "      <td>29.5</td>\n",
              "      <td>18.80</td>\n",
              "      <td>31.1</td>\n",
              "      <td>-335.0</td>\n",
              "      <td>32.2</td>\n",
              "      <td>19.9</td>\n",
              "      <td>76.6000</td>\n",
              "      <td>4.850</td>\n",
              "      <td>39.90000</td>\n",
              "      <td>75.300</td>\n",
              "      <td>5.27</td>\n",
              "      <td>-72.00</td>\n",
              "      <td>-0.843</td>\n",
              "      <td>-33.00</td>\n",
              "      <td>-82.000</td>\n",
              "      <td>-4.200000</td>\n",
              "      <td>...</td>\n",
              "      <td>-685.0</td>\n",
              "      <td>585.00</td>\n",
              "      <td>-285.0</td>\n",
              "      <td>-285.0</td>\n",
              "      <td>585.00</td>\n",
              "      <td>-94.3</td>\n",
              "      <td>183.0</td>\n",
              "      <td>-110.0</td>\n",
              "      <td>-110.0</td>\n",
              "      <td>183.0</td>\n",
              "      <td>-133.0</td>\n",
              "      <td>200.00</td>\n",
              "      <td>-72.00</td>\n",
              "      <td>-72.00</td>\n",
              "      <td>200.00</td>\n",
              "      <td>-356.0</td>\n",
              "      <td>295.0</td>\n",
              "      <td>-158.0</td>\n",
              "      <td>-158.0</td>\n",
              "      <td>295.0</td>\n",
              "      <td>-251.0</td>\n",
              "      <td>255.000</td>\n",
              "      <td>-95.7</td>\n",
              "      <td>-95.7</td>\n",
              "      <td>255.000</td>\n",
              "      <td>-177.0</td>\n",
              "      <td>159.0</td>\n",
              "      <td>-48.80</td>\n",
              "      <td>-48.80</td>\n",
              "      <td>159.0</td>\n",
              "      <td>-534.0</td>\n",
              "      <td>462.0</td>\n",
              "      <td>-233.0</td>\n",
              "      <td>-233.0</td>\n",
              "      <td>462.0</td>\n",
              "      <td>-267.0</td>\n",
              "      <td>281.00</td>\n",
              "      <td>-148.00</td>\n",
              "      <td>-148.00</td>\n",
              "      <td>281.00</td>\n",
              "    </tr>\n",
              "    <tr>\n",
              "      <th>3</th>\n",
              "      <td>14.90</td>\n",
              "      <td>31.6</td>\n",
              "      <td>-143.0</td>\n",
              "      <td>19.8</td>\n",
              "      <td>24.3</td>\n",
              "      <td>-0.584</td>\n",
              "      <td>-0.284</td>\n",
              "      <td>8.82</td>\n",
              "      <td>2.30</td>\n",
              "      <td>-1.97</td>\n",
              "      <td>17.30</td>\n",
              "      <td>32.0</td>\n",
              "      <td>-148.0</td>\n",
              "      <td>20.40</td>\n",
              "      <td>22.8</td>\n",
              "      <td>13.20</td>\n",
              "      <td>31.5</td>\n",
              "      <td>-147.0</td>\n",
              "      <td>16.9</td>\n",
              "      <td>27.7</td>\n",
              "      <td>15.70</td>\n",
              "      <td>30.7</td>\n",
              "      <td>-142.0</td>\n",
              "      <td>20.7</td>\n",
              "      <td>22.8</td>\n",
              "      <td>13.60</td>\n",
              "      <td>32.2</td>\n",
              "      <td>-135.0</td>\n",
              "      <td>21.2</td>\n",
              "      <td>23.8</td>\n",
              "      <td>4.1500</td>\n",
              "      <td>0.556</td>\n",
              "      <td>-0.35400</td>\n",
              "      <td>3.460</td>\n",
              "      <td>-4.96</td>\n",
              "      <td>1.63</td>\n",
              "      <td>1.330</td>\n",
              "      <td>-5.83</td>\n",
              "      <td>-0.298</td>\n",
              "      <td>0.000777</td>\n",
              "      <td>...</td>\n",
              "      <td>-273.0</td>\n",
              "      <td>249.00</td>\n",
              "      <td>-146.0</td>\n",
              "      <td>-146.0</td>\n",
              "      <td>249.00</td>\n",
              "      <td>359.0</td>\n",
              "      <td>-146.0</td>\n",
              "      <td>13.7</td>\n",
              "      <td>13.7</td>\n",
              "      <td>-146.0</td>\n",
              "      <td>119.0</td>\n",
              "      <td>-7.64</td>\n",
              "      <td>-7.17</td>\n",
              "      <td>-7.17</td>\n",
              "      <td>-7.64</td>\n",
              "      <td>-296.0</td>\n",
              "      <td>316.0</td>\n",
              "      <td>-218.0</td>\n",
              "      <td>-218.0</td>\n",
              "      <td>316.0</td>\n",
              "      <td>322.0</td>\n",
              "      <td>-113.000</td>\n",
              "      <td>38.4</td>\n",
              "      <td>38.4</td>\n",
              "      <td>-113.000</td>\n",
              "      <td>245.0</td>\n",
              "      <td>-61.9</td>\n",
              "      <td>-5.08</td>\n",
              "      <td>-5.08</td>\n",
              "      <td>-61.9</td>\n",
              "      <td>-183.0</td>\n",
              "      <td>299.0</td>\n",
              "      <td>-243.0</td>\n",
              "      <td>-243.0</td>\n",
              "      <td>299.0</td>\n",
              "      <td>132.0</td>\n",
              "      <td>-12.40</td>\n",
              "      <td>9.53</td>\n",
              "      <td>9.53</td>\n",
              "      <td>-12.40</td>\n",
              "    </tr>\n",
              "    <tr>\n",
              "      <th>4</th>\n",
              "      <td>28.30</td>\n",
              "      <td>31.3</td>\n",
              "      <td>45.2</td>\n",
              "      <td>27.3</td>\n",
              "      <td>24.5</td>\n",
              "      <td>34.800</td>\n",
              "      <td>-5.790</td>\n",
              "      <td>3.06</td>\n",
              "      <td>41.40</td>\n",
              "      <td>5.52</td>\n",
              "      <td>26.10</td>\n",
              "      <td>34.3</td>\n",
              "      <td>43.7</td>\n",
              "      <td>23.70</td>\n",
              "      <td>20.6</td>\n",
              "      <td>-3.87</td>\n",
              "      <td>34.1</td>\n",
              "      <td>43.7</td>\n",
              "      <td>-10.0</td>\n",
              "      <td>22.9</td>\n",
              "      <td>59.40</td>\n",
              "      <td>26.7</td>\n",
              "      <td>60.3</td>\n",
              "      <td>64.7</td>\n",
              "      <td>26.9</td>\n",
              "      <td>32.30</td>\n",
              "      <td>30.1</td>\n",
              "      <td>33.6</td>\n",
              "      <td>31.6</td>\n",
              "      <td>27.7</td>\n",
              "      <td>30.0000</td>\n",
              "      <td>0.276</td>\n",
              "      <td>-0.00677</td>\n",
              "      <td>33.700</td>\n",
              "      <td>-2.36</td>\n",
              "      <td>-33.30</td>\n",
              "      <td>7.640</td>\n",
              "      <td>-16.60</td>\n",
              "      <td>-41.100</td>\n",
              "      <td>-6.290000</td>\n",
              "      <td>...</td>\n",
              "      <td>100.0</td>\n",
              "      <td>18.30</td>\n",
              "      <td>-11.9</td>\n",
              "      <td>-11.9</td>\n",
              "      <td>18.30</td>\n",
              "      <td>159.0</td>\n",
              "      <td>-18.2</td>\n",
              "      <td>-25.6</td>\n",
              "      <td>-25.6</td>\n",
              "      <td>-18.2</td>\n",
              "      <td>194.0</td>\n",
              "      <td>32.70</td>\n",
              "      <td>-54.50</td>\n",
              "      <td>-54.50</td>\n",
              "      <td>32.70</td>\n",
              "      <td>154.0</td>\n",
              "      <td>26.4</td>\n",
              "      <td>-56.4</td>\n",
              "      <td>-56.4</td>\n",
              "      <td>26.4</td>\n",
              "      <td>252.0</td>\n",
              "      <td>9.940</td>\n",
              "      <td>-37.4</td>\n",
              "      <td>-37.4</td>\n",
              "      <td>9.940</td>\n",
              "      <td>172.0</td>\n",
              "      <td>15.9</td>\n",
              "      <td>-7.25</td>\n",
              "      <td>-7.25</td>\n",
              "      <td>15.9</td>\n",
              "      <td>114.0</td>\n",
              "      <td>12.0</td>\n",
              "      <td>38.1</td>\n",
              "      <td>38.1</td>\n",
              "      <td>12.0</td>\n",
              "      <td>119.0</td>\n",
              "      <td>-17.60</td>\n",
              "      <td>23.90</td>\n",
              "      <td>23.90</td>\n",
              "      <td>-17.60</td>\n",
              "    </tr>\n",
              "  </tbody>\n",
              "</table>\n",
              "<p>5 rows × 2548 columns</p>\n",
              "</div>"
            ],
            "text/plain": [
              "   # mean_0_a  mean_1_a  mean_2_a  ...  fft_747_b  fft_748_b  fft_749_b\n",
              "0        4.62      30.3    -356.0  ...    -162.00    -162.00     280.00\n",
              "1       28.80      33.1      32.0  ...     -31.60     -31.60       2.57\n",
              "2        8.90      29.4    -416.0  ...    -148.00    -148.00     281.00\n",
              "3       14.90      31.6    -143.0  ...       9.53       9.53     -12.40\n",
              "4       28.30      31.3      45.2  ...      23.90      23.90     -17.60\n",
              "\n",
              "[5 rows x 2548 columns]"
            ]
          },
          "metadata": {
            "tags": []
          },
          "execution_count": 11
        }
      ]
    },
    {
      "cell_type": "code",
      "metadata": {
        "id": "Ft-0ZIns3fXQ",
        "colab_type": "code",
        "colab": {
          "base_uri": "https://localhost:8080/",
          "height": 113
        },
        "outputId": "c611e1e6-2036-421b-f5e1-5ab81e9d9408"
      },
      "source": [
        "#Check for missing values.\n",
        "\n",
        "x[x.isnull().any(axis=1)]"
      ],
      "execution_count": 12,
      "outputs": [
        {
          "output_type": "execute_result",
          "data": {
            "text/html": [
              "<div>\n",
              "<style scoped>\n",
              "    .dataframe tbody tr th:only-of-type {\n",
              "        vertical-align: middle;\n",
              "    }\n",
              "\n",
              "    .dataframe tbody tr th {\n",
              "        vertical-align: top;\n",
              "    }\n",
              "\n",
              "    .dataframe thead th {\n",
              "        text-align: right;\n",
              "    }\n",
              "</style>\n",
              "<table border=\"1\" class=\"dataframe\">\n",
              "  <thead>\n",
              "    <tr style=\"text-align: right;\">\n",
              "      <th></th>\n",
              "      <th># mean_0_a</th>\n",
              "      <th>mean_1_a</th>\n",
              "      <th>mean_2_a</th>\n",
              "      <th>mean_3_a</th>\n",
              "      <th>mean_4_a</th>\n",
              "      <th>mean_d_0_a</th>\n",
              "      <th>mean_d_1_a</th>\n",
              "      <th>mean_d_2_a</th>\n",
              "      <th>mean_d_3_a</th>\n",
              "      <th>mean_d_4_a</th>\n",
              "      <th>mean_d_0_a2</th>\n",
              "      <th>mean_d_1_a2</th>\n",
              "      <th>mean_d_2_a2</th>\n",
              "      <th>mean_d_3_a2</th>\n",
              "      <th>mean_d_4_a2</th>\n",
              "      <th>mean_d_5_a</th>\n",
              "      <th>mean_d_6_a</th>\n",
              "      <th>mean_d_7_a</th>\n",
              "      <th>mean_d_8_a</th>\n",
              "      <th>mean_d_9_a</th>\n",
              "      <th>mean_d_10_a</th>\n",
              "      <th>mean_d_11_a</th>\n",
              "      <th>mean_d_12_a</th>\n",
              "      <th>mean_d_13_a</th>\n",
              "      <th>mean_d_14_a</th>\n",
              "      <th>mean_d_15_a</th>\n",
              "      <th>mean_d_16_a</th>\n",
              "      <th>mean_d_17_a</th>\n",
              "      <th>mean_d_18_a</th>\n",
              "      <th>mean_d_19_a</th>\n",
              "      <th>mean_d_20_a</th>\n",
              "      <th>mean_d_21_a</th>\n",
              "      <th>mean_d_22_a</th>\n",
              "      <th>mean_d_23_a</th>\n",
              "      <th>mean_d_24_a</th>\n",
              "      <th>mean_d_25_a</th>\n",
              "      <th>mean_d_26_a</th>\n",
              "      <th>mean_d_27_a</th>\n",
              "      <th>mean_d_28_a</th>\n",
              "      <th>mean_d_29_a</th>\n",
              "      <th>...</th>\n",
              "      <th>fft_710_b</th>\n",
              "      <th>fft_711_b</th>\n",
              "      <th>fft_712_b</th>\n",
              "      <th>fft_713_b</th>\n",
              "      <th>fft_714_b</th>\n",
              "      <th>fft_715_b</th>\n",
              "      <th>fft_716_b</th>\n",
              "      <th>fft_717_b</th>\n",
              "      <th>fft_718_b</th>\n",
              "      <th>fft_719_b</th>\n",
              "      <th>fft_720_b</th>\n",
              "      <th>fft_721_b</th>\n",
              "      <th>fft_722_b</th>\n",
              "      <th>fft_723_b</th>\n",
              "      <th>fft_724_b</th>\n",
              "      <th>fft_725_b</th>\n",
              "      <th>fft_726_b</th>\n",
              "      <th>fft_727_b</th>\n",
              "      <th>fft_728_b</th>\n",
              "      <th>fft_729_b</th>\n",
              "      <th>fft_730_b</th>\n",
              "      <th>fft_731_b</th>\n",
              "      <th>fft_732_b</th>\n",
              "      <th>fft_733_b</th>\n",
              "      <th>fft_734_b</th>\n",
              "      <th>fft_735_b</th>\n",
              "      <th>fft_736_b</th>\n",
              "      <th>fft_737_b</th>\n",
              "      <th>fft_738_b</th>\n",
              "      <th>fft_739_b</th>\n",
              "      <th>fft_740_b</th>\n",
              "      <th>fft_741_b</th>\n",
              "      <th>fft_742_b</th>\n",
              "      <th>fft_743_b</th>\n",
              "      <th>fft_744_b</th>\n",
              "      <th>fft_745_b</th>\n",
              "      <th>fft_746_b</th>\n",
              "      <th>fft_747_b</th>\n",
              "      <th>fft_748_b</th>\n",
              "      <th>fft_749_b</th>\n",
              "    </tr>\n",
              "  </thead>\n",
              "  <tbody>\n",
              "  </tbody>\n",
              "</table>\n",
              "<p>0 rows × 2548 columns</p>\n",
              "</div>"
            ],
            "text/plain": [
              "Empty DataFrame\n",
              "Columns: [# mean_0_a, mean_1_a, mean_2_a, mean_3_a, mean_4_a, mean_d_0_a, mean_d_1_a, mean_d_2_a, mean_d_3_a, mean_d_4_a, mean_d_0_a2, mean_d_1_a2, mean_d_2_a2, mean_d_3_a2, mean_d_4_a2, mean_d_5_a, mean_d_6_a, mean_d_7_a, mean_d_8_a, mean_d_9_a, mean_d_10_a, mean_d_11_a, mean_d_12_a, mean_d_13_a, mean_d_14_a, mean_d_15_a, mean_d_16_a, mean_d_17_a, mean_d_18_a, mean_d_19_a, mean_d_20_a, mean_d_21_a, mean_d_22_a, mean_d_23_a, mean_d_24_a, mean_d_25_a, mean_d_26_a, mean_d_27_a, mean_d_28_a, mean_d_29_a, mean_d_30_a, mean_d_31_a, mean_d_32_a, mean_d_33_a, mean_d_34_a, mean_d_35_a, mean_d_36_a, mean_d_37_a, mean_d_38_a, mean_d_39_a, mean_d_40_a, mean_d_41_a, mean_d_42_a, mean_d_43_a, mean_d_44_a, mean_d_45_a, mean_d_46_a, mean_d_47_a, mean_d_48_a, mean_d_49_a, stddev_0_a, stddev_1_a, stddev_2_a, stddev_3_a, stddev_4_a, stddev_d_0_a, stddev_d_1_a, stddev_d_2_a, stddev_d_3_a, stddev_d_4_a, moments_0_a, moments_1_a, moments_2_a, moments_3_a, moments_4_a, moments_5_a, moments_6_a, moments_7_a, moments_8_a, moments_9_a, moments_10_a, moments_11_a, moments_12_a, moments_13_a, moments_14_a, moments_15_a, moments_16_a, moments_17_a, moments_18_a, moments_19_a, max_0_a, max_1_a, max_2_a, max_3_a, max_4_a, max_d_0_a, max_d_1_a, max_d_2_a, max_d_3_a, max_d_4_a, ...]\n",
              "Index: []\n",
              "\n",
              "[0 rows x 2548 columns]"
            ]
          },
          "metadata": {
            "tags": []
          },
          "execution_count": 12
        }
      ]
    },
    {
      "cell_type": "markdown",
      "metadata": {
        "id": "GL3ZCBqK3n6H",
        "colab_type": "text"
      },
      "source": [
        "As it is a ‘classification’ problem, we will follow the below conventions for each ‘classifier’ to be tried:\n",
        "* We will use a ‘cross validation’ (in our case will use 10 fold cross validation) approach over the dataset and take average accuracy. This will give us a holistic view of the classifier’s accuracy.\n",
        "* We will use a ‘Pipeline’ based approach to combine all pre-processing and main classifier computation. A ML ‘Pipeline’ wraps all processing stages in a single unit and act as a ‘classifier’ itself. By this, all stages become re-usable and can be put in forming other ‘pipelines’ also.\n",
        "* We will track total time in building & testing for each approach. We will call this ‘time taken’.\n",
        "\n",
        "## RandomForest Classifier\n",
        "‘RandomForest’ is a tree & bagging approach-based ensemble classifier. It will automatically reduce the number of features by its probabilistic entropy calculation approach. Let’s see that:"
      ]
    },
    {
      "cell_type": "code",
      "metadata": {
        "id": "uVlLCxIp3joj",
        "colab_type": "code",
        "colab": {
          "base_uri": "https://localhost:8080/",
          "height": 67
        },
        "outputId": "5265eba6-2837-4196-bdc6-1e402b9afefc"
      },
      "source": [
        "%%time\n",
        "from sklearn.pipeline import Pipeline\n",
        "from sklearn.ensemble import RandomForestClassifier\n",
        "from sklearn.model_selection import cross_val_score,train_test_split\n",
        "\n",
        "pl_random_forest = Pipeline(steps=[('random_forest',RandomForestClassifier())])\n",
        "scores = cross_val_score(pl_random_forest,x,y,cv=10,scoring='accuracy')\n",
        "print('Accuracy for Random forest Classifier : ',scores.mean())"
      ],
      "execution_count": 13,
      "outputs": [
        {
          "output_type": "stream",
          "text": [
            "Accuracy for Random forest Classifier :  0.976533848378247\n",
            "CPU times: user 5.23 s, sys: 32.5 ms, total: 5.26 s\n",
            "Wall time: 5.43 s\n"
          ],
          "name": "stdout"
        }
      ]
    },
    {
      "cell_type": "markdown",
      "metadata": {
        "id": "thSmRDQj3wIj",
        "colab_type": "text"
      },
      "source": [
        "Accuracy is very good at 97.09% and ‘total time taken’ is quite short (5.13 s only).\n",
        "\n",
        "For this classifier, no pre-processing stages like scaling or noise removal are required, as it is completely probability-based and not at all affected by scale factors.\n",
        "\n",
        "## Logistic Regression Classifier\n",
        "‘Logistic Regression’ is a linear classifier and works in same way as linear regression."
      ]
    },
    {
      "cell_type": "code",
      "metadata": {
        "id": "2UB996bR3oel",
        "colab_type": "code",
        "colab": {
          "base_uri": "https://localhost:8080/",
          "height": 67
        },
        "outputId": "b51a065f-49e8-4cb1-e458-29ccabe4574a"
      },
      "source": [
        "%%time\n",
        "\n",
        "from sklearn.pipeline import Pipeline\n",
        "from sklearn.preprocessing import StandardScaler\n",
        "from sklearn.linear_model import LogisticRegression\n",
        "\n",
        "pl_log_reg = Pipeline(steps=[('scalre',StandardScaler()),\\\n",
        "                             ('log_reg',LogisticRegression(multi_class='multinomial', solver='sag', max_iter=200))])\n",
        "\n",
        "scores = cross_val_score(pl_log_reg,x,y,cv=10,scoring='accuracy')\n",
        "print('Accuracy for Logisitic Regression : ',scores.mean())"
      ],
      "execution_count": 14,
      "outputs": [
        {
          "output_type": "stream",
          "text": [
            "Accuracy for Logisitic Regression :  0.9455778981517815\n",
            "CPU times: user 3min 35s, sys: 813 ms, total: 3min 36s\n",
            "Wall time: 3min 35s\n"
          ],
          "name": "stdout"
        }
      ]
    },
    {
      "cell_type": "markdown",
      "metadata": {
        "id": "lfZ8jalW34HE",
        "colab_type": "text"
      },
      "source": [
        "We can see accuracy (94.51%) is lower than ‘RandomForest’ and ‘time taken’ is higher (3min 49s).\n",
        "\n",
        "‘Logistic Regression’ is heavily affected by different value ranges across dependent variables, thus forces ‘feature scaling’. That’s why ‘StandardScaler’ from scikit-learn has been added as a preprocessing stage. It automatically scales features according to a Gaussian Distribution with zero mean & unit variance, and thus values for all variables range from -1 to +1.\n",
        "\n",
        "The reason for high time taken is high-dimensionality and scaling time required. There are 2549 variables in the dataset and the coefficient of each one should be optimised as per the Logistic Regression process. Also, there is a question of multi-co-linearity. This means linearly co-related variables should be grouped together instead of considering them separately.\n",
        "\n",
        "The presence of multi-col-linearity affects accuracy. So now the question becomes, “Can we reduce the number of variables, reduce multi-co-linearity, & improve ‘time taken?”\n",
        "\n",
        "## Principal Component Analysis (PCA)\n",
        "PCA can transform original low level variables to a higher dimensional space and thus reduce the number of required variables. All co-linear variables get clubbed together. Let’s do a PCA of the data and see what are the main PC’s:"
      ]
    },
    {
      "cell_type": "code",
      "metadata": {
        "id": "RKNeM8oM3xPX",
        "colab_type": "code",
        "colab": {
          "base_uri": "https://localhost:8080/",
          "height": 353
        },
        "outputId": "5ca3e881-34b9-44bd-bde0-ee6fc9b7a3f5"
      },
      "source": [
        "from sklearn.decomposition import PCA\n",
        "from sklearn.preprocessing import StandardScaler\n",
        "\n",
        "scaler = StandardScaler()\n",
        "scaled_df = scaler.fit_transform(x)\n",
        "pca = PCA(n_components = 20)\n",
        "pca_vectors = pca.fit_transform(scaled_df)\n",
        "\n",
        "for index,var in enumerate(pca.explained_variance_ratio_):\n",
        "    print('Explained Variance ratio by Principal Component ',(index+1),\" : \",var)"
      ],
      "execution_count": 15,
      "outputs": [
        {
          "output_type": "stream",
          "text": [
            "Explained Variance ratio by Principal Component  1  :  0.3677256411753877\n",
            "Explained Variance ratio by Principal Component  2  :  0.09553894257232605\n",
            "Explained Variance ratio by Principal Component  3  :  0.08436069000482481\n",
            "Explained Variance ratio by Principal Component  4  :  0.06085665181970161\n",
            "Explained Variance ratio by Principal Component  5  :  0.047453732926251505\n",
            "Explained Variance ratio by Principal Component  6  :  0.03082305251847158\n",
            "Explained Variance ratio by Principal Component  7  :  0.02472162086092134\n",
            "Explained Variance ratio by Principal Component  8  :  0.013753055070754958\n",
            "Explained Variance ratio by Principal Component  9  :  0.012408702721188753\n",
            "Explained Variance ratio by Principal Component  10  :  0.012103653572040905\n",
            "Explained Variance ratio by Principal Component  11  :  0.009557100568565008\n",
            "Explained Variance ratio by Principal Component  12  :  0.00916431101589643\n",
            "Explained Variance ratio by Principal Component  13  :  0.008740057335090345\n",
            "Explained Variance ratio by Principal Component  14  :  0.007974361869777697\n",
            "Explained Variance ratio by Principal Component  15  :  0.007059816600266174\n",
            "Explained Variance ratio by Principal Component  16  :  0.006330682232505106\n",
            "Explained Variance ratio by Principal Component  17  :  0.005871857674492614\n",
            "Explained Variance ratio by Principal Component  18  :  0.005474317533129468\n",
            "Explained Variance ratio by Principal Component  19  :  0.005018018906378733\n",
            "Explained Variance ratio by Principal Component  20  :  0.004659594485025225\n"
          ],
          "name": "stdout"
        }
      ]
    },
    {
      "cell_type": "code",
      "metadata": {
        "id": "qQPjGRfO35es",
        "colab_type": "code",
        "colab": {
          "base_uri": "https://localhost:8080/",
          "height": 34
        },
        "outputId": "764d98dd-759c-4221-9c6a-bf3276ed4b33"
      },
      "source": [
        "pca.explained_variance_ratio_.sum()"
      ],
      "execution_count": 16,
      "outputs": [
        {
          "output_type": "execute_result",
          "data": {
            "text/plain": [
              "0.819595861462996"
            ]
          },
          "metadata": {
            "tags": []
          },
          "execution_count": 16
        }
      ]
    },
    {
      "cell_type": "markdown",
      "metadata": {
        "id": "QdBf6vsH4D2n",
        "colab_type": "text"
      },
      "source": [
        "We mapped 2549 variables to 20 Principal Components. From the above result, it is clear that first 10 PCs are a matter of importance. The total percentage of the explained variance ratio by the first 10 PCs is around 0.737 (0.36 + 0.095 + ..+ 0.012). Or it can be said that the first 10 PCs explain 82% variance of the entire dataset.\n",
        "\n",
        "So, with this we are able to reduce 2549 variables to 10 variables. That’s a dramatic change, isn’t it? In theory, Principal Components are virtual variables generated from mathematical mapping. From a business angle, it is not possible to tell which physical aspect of the data is covered by them. That means, physically, that Principal Components don’t exist. But, we can easily use these PCs as quantitative input variables to any ML algorithm and get very good results.\n",
        "\n",
        "For visualisation, let’s take the first two PCs and see how can we distinguish different classes of the data using a ‘scatterplot’."
      ]
    },
    {
      "cell_type": "code",
      "metadata": {
        "id": "MM4mRfb84B4u",
        "colab_type": "code",
        "colab": {
          "base_uri": "https://localhost:8080/",
          "height": 325
        },
        "outputId": "224110ea-6866-4d27-a0d7-3a1346ac6d1d"
      },
      "source": [
        "import seaborn as sns; sns.set()\n",
        "sns.scatterplot(x=pca_vectors[:, 0], y=pca_vectors[:, 1], hue=brainwave_df['label'])\n",
        "plt.title('Principal Components vs Class distribution', fontsize=16)\n",
        "plt.ylabel('Principal Component 2', fontsize=16)\n",
        "plt.xlabel('Principal Component 1', fontsize=16)\n",
        "plt.xticks(rotation='vertical');"
      ],
      "execution_count": 17,
      "outputs": [
        {
          "output_type": "display_data",
          "data": {
            "image/png": "[encoded data removed]",
            "text/plain": [
              "<Figure size 432x288 with 1 Axes>"
            ]
          },
          "metadata": {
            "tags": []
          }
        }
      ]
    },
    {
      "cell_type": "code",
      "metadata": {
        "id": "gLf4t5Q34FRh",
        "colab_type": "code",
        "colab": {
          "base_uri": "https://localhost:8080/",
          "height": 67
        },
        "outputId": "7b0c6f41-3bf2-45b4-e7f8-ee99a59becf2"
      },
      "source": [
        "%%time\n",
        "\n",
        "from sklearn.pipeline import Pipeline\n",
        "from sklearn.preprocessing import StandardScaler\n",
        "from sklearn.linear_model import LogisticRegression\n",
        "\n",
        "pl_log_reg_pca = Pipeline(steps=[('scaler',StandardScaler()),\n",
        "                                 ('pca',PCA(n_components=2)),\n",
        "                                 ('log_reg',LogisticRegression(multi_class='multinomial',solver='sag',max_iter=200))])\n",
        "scores = cross_val_score(pl_log_reg_pca,x,y,cv=10,scoring='accuracy')\n",
        "print('Accuracy for Logistic Regression with 2 Principal Components: ',scores.mean())"
      ],
      "execution_count": 18,
      "outputs": [
        {
          "output_type": "stream",
          "text": [
            "Accuracy for Logistic Regression with 2 Principal Components:  0.8151165203858428\n",
            "CPU times: user 9.62 s, sys: 1.89 s, total: 11.5 s\n",
            "Wall time: 6.69 s\n"
          ],
          "name": "stdout"
        }
      ]
    },
    {
      "cell_type": "markdown",
      "metadata": {
        "id": "ZH9Ce2vu4MHb",
        "colab_type": "text"
      },
      "source": [
        "Time taken ( 6.69 s) was reduced but accuracy (81.51%) decreased but its better with  components.\n",
        "\n",
        "Now, let’s take all 10 PCs and run:"
      ]
    },
    {
      "cell_type": "code",
      "metadata": {
        "id": "5z7HkmEP4KaI",
        "colab_type": "code",
        "colab": {
          "base_uri": "https://localhost:8080/",
          "height": 67
        },
        "outputId": "24ab22cc-15dd-4faa-91fd-04f16576f55e"
      },
      "source": [
        "%%time\n",
        "\n",
        "from sklearn.pipeline import Pipeline\n",
        "from sklearn.preprocessing import StandardScaler\n",
        "from sklearn.linear_model import LogisticRegression\n",
        "\n",
        "pl_log_reg_pca = Pipeline(steps=[('scaler',StandardScaler()),\n",
        "                                 ('pca',PCA(n_components=10)),\n",
        "                                 ('log_reg',LogisticRegression(multi_class='multinomial',solver='sag',max_iter=200))])\n",
        "scores = cross_val_score(pl_log_reg_pca,x,y,cv=10,scoring='accuracy')\n",
        "print('Accuracy for Logistic Regression with 10 Principal Components: ',scores.mean())"
      ],
      "execution_count": 19,
      "outputs": [
        {
          "output_type": "stream",
          "text": [
            "Accuracy for Logistic Regression with 10 Principal Components:  0.8770974282897483\n",
            "CPU times: user 10.9 s, sys: 2 s, total: 12.9 s\n",
            "Wall time: 7.65 s\n"
          ],
          "name": "stdout"
        }
      ]
    },
    {
      "cell_type": "markdown",
      "metadata": {
        "id": "MAma5XsA4TY0",
        "colab_type": "text"
      },
      "source": [
        "We see an improvement in accuracy (87.80%) compared to 2 PC cases with a marginal increase in ‘time taken’.\n",
        "\n",
        "So, in both cases we saw low accuracy compared to normal logistic regression, but a significant improvement in ‘time taken’.\n",
        "\n",
        "Accuracy can be further tested with a different ‘solver’ & ‘max_iter’ parameter. We used ‘sag’ as ‘solver’ with L2 penalty and 200 as ‘max_iter’. These values can be changed to get a variable effect on accuracy.\n",
        "\n",
        "Though ‘Logistic Regression’ is giving low accuracy, there are situations where it may be needed specially with PCA. In datasets with a very large dimensional space, PCA becomes the obvious choice for ‘linear classifiers’."
      ]
    },
    {
      "cell_type": "markdown",
      "metadata": {
        "id": "QpEuLhaN4k82",
        "colab_type": "text"
      },
      "source": [
        "## Artificial Neural Network Classifier (ANN)\n",
        "An ANN classifier is non-linear with automatic feature engineering and dimensional reduction techniques. ‘MLPClassifier’ in scikit-learn works as an ANN. But here also, basic scaling is required for the data. Let’s see how it works:\n",
        "\n"
      ]
    },
    {
      "cell_type": "code",
      "metadata": {
        "id": "O3gVNfHD8wEL",
        "colab_type": "code",
        "colab": {
          "base_uri": "https://localhost:8080/",
          "height": 67
        },
        "outputId": "c33e0e76-0b6c-429a-f966-ae2723e52bdf"
      },
      "source": [
        "%%time\n",
        "\n",
        "from sklearn.pipeline import Pipeline\n",
        "from sklearn.preprocessing import StandardScaler\n",
        "from sklearn.neural_network import MLPClassifier\n",
        "\n",
        "pl_mlp = Pipeline(steps=[('scaler',StandardScaler()),\n",
        "                        ('mlp',MLPClassifier(hidden_layer_sizes=(1275,637)))])\n",
        "\n",
        "scores = cross_val_score(pl_mlp,x,y,cv=10,scoring='accuracy')\n",
        "print('Accuracy for ANN: ',scores.mean())"
      ],
      "execution_count": 23,
      "outputs": [
        {
          "output_type": "stream",
          "text": [
            "Accuracy for ANN:  0.9704436003153321\n",
            "CPU times: user 19min 52s, sys: 5min 4s, total: 24min 57s\n",
            "Wall time: 12min 52s\n"
          ],
          "name": "stdout"
        }
      ]
    },
    {
      "cell_type": "markdown",
      "metadata": {
        "id": "2de6Ub004nuG",
        "colab_type": "text"
      },
      "source": [
        "Accuracy (97.18%) is very good, though running time is high ( 7min 27s).\n",
        "\n",
        "The reason for high ‘time taken’ is the rigorous training time required for neural networks, and that too with a high number of dimensions.\n",
        "\n",
        "It is a general convention to start with a hidden layer size of 50% of the total data size and subsequent layers will be 50% of the previous one. In our case these are (1275 = 2549 / 2, 637 = 1275 / 2). The number of hidden layers can be taken as hyper-parameter and can be tuned for better accuracy. In our case it is 2.\n",
        "\n",
        "## Linear Support Vector Machines Classifier (SVM)\n",
        "We will now apply ‘Linear SVM’ on the data and see how accuracy is coming along. Here also scaling is required as a preprocessing stage."
      ]
    },
    {
      "cell_type": "code",
      "metadata": {
        "id": "WuVYDXBB8zds",
        "colab_type": "code",
        "colab": {
          "base_uri": "https://localhost:8080/",
          "height": 67
        },
        "outputId": "4de8e8ff-cb7c-4988-8b31-444638b79f6f"
      },
      "source": [
        "%%time\n",
        "\n",
        "from sklearn.pipeline import Pipeline\n",
        "from sklearn.preprocessing import StandardScaler\n",
        "from sklearn.svm import LinearSVC\n",
        "\n",
        "pl_svm = Pipeline(steps=[('scaler',StandardScaler()),\n",
        "                        ('svc',LinearSVC())])\n",
        "\n",
        "scores = cross_val_score(pl_svm,x,y,cv=10,scoring='accuracy')\n",
        "print('Accuracy for Linear SVM : ',scores.mean())"
      ],
      "execution_count": 24,
      "outputs": [
        {
          "output_type": "stream",
          "text": [
            "Accuracy for Linear SVM :  0.9643467083227542\n",
            "CPU times: user 3min 4s, sys: 1.03 s, total: 3min 5s\n",
            "Wall time: 3min 4s\n"
          ],
          "name": "stdout"
        }
      ]
    },
    {
      "cell_type": "markdown",
      "metadata": {
        "id": "8Bp21NJF4udC",
        "colab_type": "text"
      },
      "source": [
        "Accuracy is coming in at 96.4% which is little less than ‘RandomForest’ or ‘ANN’. ‘time taken’ is 1min 19s which is in far better than ‘ANN’.\n",
        "\n",
        "## Extreme Gradient Boosting Classifier (XGBoost)\n",
        "XGBoost is a boosted tree based ensemble classifier. Like ‘RandomForest’, it will also automatically reduce the feature set. For this we have to use a separate ‘xgboost’ library which does not come with scikit-learn.\n",
        "\n",
        "Let’s see how it works:"
      ]
    },
    {
      "cell_type": "code",
      "metadata": {
        "id": "q8NaH9tR4v-z",
        "colab_type": "code",
        "colab": {
          "base_uri": "https://localhost:8080/",
          "height": 67
        },
        "outputId": "c320c0d6-f1f2-437e-de44-4354cfc3bef4"
      },
      "source": [
        "%%time\n",
        "\n",
        "import xgboost as xgb\n",
        "\n",
        "pl_xgb = Pipeline(steps=[('xgboost',xgb.XGBClassifier(objective='multi::softmax'))])\n",
        "\n",
        "scores = cross_val_score(pl_xgb,x,y,cv=10)\n",
        "\n",
        "print('Accuracy for XGBoost Classifier : ',scores.mean())"
      ],
      "execution_count": 25,
      "outputs": [
        {
          "output_type": "stream",
          "text": [
            "Accuracy for XGBoost Classifier :  0.9943615599489364\n",
            "CPU times: user 14min 45s, sys: 294 ms, total: 14min 46s\n",
            "Wall time: 14min 46s\n"
          ],
          "name": "stdout"
        }
      ]
    },
    {
      "cell_type": "markdown",
      "metadata": {
        "id": "ZWP8pjUE4zC3",
        "colab_type": "text"
      },
      "source": [
        "Accuracy (99.4%) is exceptionally good, but ‘time taken’(15 min) is quite high. Nowadays, for complicated problems, XGBoost is becoming a default choice for Data Scientists for its accurate results. It has high running time due to its internal ensemble model structure. However, XGBoost performs well in GPU machines."
      ]
    },
    {
      "cell_type": "markdown",
      "metadata": {
        "id": "KXgWnDtK42Nb",
        "colab_type": "text"
      },
      "source": [
        "# Conclusion\n",
        "### From all of the classifiers, it is clear that for accuracy ‘XGBoost’ is the winner. But if we take ‘time taken’ along with ‘accuracy’, then ‘RandomForest’ is a perfect choice. But we also saw how to use a simple linear classifier like ‘logistic regression’ with proper feature engineering to give better accuracy. Other classifiers don’t need that much feature engineering effort.\n",
        "### It depends on the requirements, use case, and data engineering environment available to choose a perfect ‘classifier’."
      ]
    }
  ]
}