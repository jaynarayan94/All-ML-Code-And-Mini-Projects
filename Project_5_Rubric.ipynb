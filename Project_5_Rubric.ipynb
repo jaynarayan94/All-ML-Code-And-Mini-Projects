{
  "nbformat": 4,
  "nbformat_minor": 0,
  "metadata": {
    "colab": {
      "name": "Project- 5 Rubric.ipynb",
      "version": "0.3.2",
      "provenance": [],
      "collapsed_sections": [],
      "include_colab_link": true
    },
    "kernelspec": {
      "name": "python3",
      "display_name": "Python 3"
    }
  },
  "cells": [
    {
      "cell_type": "markdown",
      "metadata": {
        "id": "view-in-github",
        "colab_type": "text"
      },
      "source": [
        "<a href=\"https://colab.research.google.com/github/jaynarayan94/All-ML-Code-And-Mini-Projects/blob/master/Project_5_Rubric.ipynb\" target=\"_parent\"><img src=\"https://colab.research.google.com/assets/colab-badge.svg\" alt=\"Open In Colab\"/></a>"
      ]
    },
    {
      "cell_type": "markdown",
      "metadata": {
        "id": "8cm3SjBuJLmo",
        "colab_type": "text"
      },
      "source": [
        "## Table of Content :\n",
        "### 1. Descriptive Analysis & EDA\n",
        "### 2. Model to predict whether or not an employee will use Car as a mode of transport :\n",
        "* Logistic Regression\n",
        "* KNN\n",
        "* Naive Bayes \n",
        "* Voting\n",
        "* Bagging\n",
        "  * Random Forest\n",
        "  * Bagging Classifier with all 3 Models (Logistic,KNN,Naive Bayes)\n",
        "* Boosting\n",
        "    * Gradient Boosting\n",
        "    * XGBoosting\n",
        "\n",
        "### 3.Model for 3 Class Classifcation\n",
        "* Logistic Regression\n",
        "* KNN\n",
        "* Naive Bayes \n",
        "* Voting\n",
        "* Bagging\n",
        "* XGBoost"
      ]
    },
    {
      "cell_type": "code",
      "metadata": {
        "id": "WgHV4-FndX9_",
        "colab_type": "code",
        "colab": {}
      },
      "source": [
        "import pandas as pd\n",
        "import numpy as np\n",
        "import matplotlib.pyplot as plt\n",
        "import seaborn as sns\n",
        "\n",
        "from collections import Counter\n",
        "from sklearn.preprocessing import StandardScaler,LabelEncoder\n",
        "from sklearn.model_selection import train_test_split,cross_val_score\n",
        "from imblearn.over_sampling import SMOTE\n",
        "\n",
        "from sklearn.metrics import accuracy_score\n",
        "from sklearn.metrics import recall_score\n",
        "from sklearn.metrics import precision_score\n",
        "from sklearn.metrics import roc_auc_score\n",
        "from sklearn.metrics import roc_curve\n",
        "from sklearn.metrics import f1_score\n",
        "from sklearn.metrics import confusion_matrix\n",
        "from sklearn.metrics import classification_report\n",
        "\n",
        "from sklearn.linear_model import LogisticRegression\n",
        "from sklearn.neighbors import KNeighborsClassifier\n",
        "from sklearn.naive_bayes import GaussianNB\n",
        "from sklearn.pipeline import Pipeline\n",
        "from sklearn.model_selection import GridSearchCV\n",
        "from sklearn.ensemble import VotingClassifier\n",
        "from sklearn.ensemble import BaggingClassifier\n",
        "from sklearn.ensemble import RandomForestClassifier\n",
        "from sklearn.ensemble import GradientBoostingClassifier\n",
        "\n",
        "\n",
        "\n",
        "from IPython.display import display\n",
        "\n",
        "# Import figure from bokeh.plotting\n",
        "from bokeh.plotting import figure\n",
        "from bokeh.io import output_notebook,show\n",
        "output_notebook()\n",
        "\n",
        "import warnings\n",
        "warnings.filterwarnings('ignore')\n",
        "np.random.seed(1234)"
      ],
      "execution_count": 0,
      "outputs": []
    },
    {
      "cell_type": "code",
      "metadata": {
        "id": "HWu9dYCZd2ie",
        "colab_type": "code",
        "outputId": "8790b6b0-f09d-4454-9554-2e7c381d5e44",
        "colab": {
          "resources": {
            "http://localhost:8080/nbextensions/google.colab/files.js": {
              "data": "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",
              "ok": true,
              "headers": [
                [
                  "content-type",
                  "application/javascript"
                ]
              ],
              "status": 200,
              "status_text": "OK"
            }
          },
          "base_uri": "https://localhost:8080/",
          "height": 75
        }
      },
      "source": [
        "from google.colab import files\n",
        "\n",
        "uploaded = files.upload()"
      ],
      "execution_count": 103,
      "outputs": [
        {
          "output_type": "display_data",
          "data": {
            "text/html": [
              "\n",
              "     <input type=\"file\" id=\"files-1451dc11-f33d-41c0-b8bd-dc1c72d2cc23\" name=\"files[]\" multiple disabled />\n",
              "     <output id=\"result-1451dc11-f33d-41c0-b8bd-dc1c72d2cc23\">\n",
              "      Upload widget is only available when the cell has been executed in the\n",
              "      current browser session. Please rerun this cell to enable.\n",
              "      </output>\n",
              "      <script src=\"/nbextensions/google.colab/files.js\"></script> "
            ],
            "text/plain": [
              "<IPython.core.display.HTML object>"
            ]
          },
          "metadata": {
            "tags": []
          }
        },
        {
          "output_type": "stream",
          "text": [
            "Saving Cars.csv to Cars (4).csv\n"
          ],
          "name": "stdout"
        }
      ]
    },
    {
      "cell_type": "code",
      "metadata": {
        "id": "Kb0WbpUweFR-",
        "colab_type": "code",
        "colab": {}
      },
      "source": [
        "import io\n",
        "\n",
        "data = pd.read_csv(io.StringIO(uploaded['Cars.csv'].decode('utf-8')))"
      ],
      "execution_count": 0,
      "outputs": []
    },
    {
      "cell_type": "code",
      "metadata": {
        "id": "sq1eQdJwfECX",
        "colab_type": "code",
        "outputId": "8b036591-1d3e-4ffa-cdab-538ee76f8f64",
        "colab": {
          "base_uri": "https://localhost:8080/",
          "height": 194
        }
      },
      "source": [
        "data.head()"
      ],
      "execution_count": 105,
      "outputs": [
        {
          "output_type": "execute_result",
          "data": {
            "text/html": [
              "<div>\n",
              "<style scoped>\n",
              "    .dataframe tbody tr th:only-of-type {\n",
              "        vertical-align: middle;\n",
              "    }\n",
              "\n",
              "    .dataframe tbody tr th {\n",
              "        vertical-align: top;\n",
              "    }\n",
              "\n",
              "    .dataframe thead th {\n",
              "        text-align: right;\n",
              "    }\n",
              "</style>\n",
              "<table border=\"1\" class=\"dataframe\">\n",
              "  <thead>\n",
              "    <tr style=\"text-align: right;\">\n",
              "      <th></th>\n",
              "      <th>Age</th>\n",
              "      <th>Gender</th>\n",
              "      <th>Engineer</th>\n",
              "      <th>MBA</th>\n",
              "      <th>Work Exp</th>\n",
              "      <th>Salary</th>\n",
              "      <th>Distance</th>\n",
              "      <th>license</th>\n",
              "      <th>Transport</th>\n",
              "    </tr>\n",
              "  </thead>\n",
              "  <tbody>\n",
              "    <tr>\n",
              "      <th>0</th>\n",
              "      <td>28</td>\n",
              "      <td>Male</td>\n",
              "      <td>1</td>\n",
              "      <td>0.0</td>\n",
              "      <td>5</td>\n",
              "      <td>14.4</td>\n",
              "      <td>5.1</td>\n",
              "      <td>0</td>\n",
              "      <td>2Wheeler</td>\n",
              "    </tr>\n",
              "    <tr>\n",
              "      <th>1</th>\n",
              "      <td>24</td>\n",
              "      <td>Male</td>\n",
              "      <td>1</td>\n",
              "      <td>0.0</td>\n",
              "      <td>6</td>\n",
              "      <td>10.6</td>\n",
              "      <td>6.1</td>\n",
              "      <td>0</td>\n",
              "      <td>2Wheeler</td>\n",
              "    </tr>\n",
              "    <tr>\n",
              "      <th>2</th>\n",
              "      <td>27</td>\n",
              "      <td>Female</td>\n",
              "      <td>1</td>\n",
              "      <td>0.0</td>\n",
              "      <td>9</td>\n",
              "      <td>15.5</td>\n",
              "      <td>6.1</td>\n",
              "      <td>0</td>\n",
              "      <td>2Wheeler</td>\n",
              "    </tr>\n",
              "    <tr>\n",
              "      <th>3</th>\n",
              "      <td>25</td>\n",
              "      <td>Male</td>\n",
              "      <td>0</td>\n",
              "      <td>0.0</td>\n",
              "      <td>1</td>\n",
              "      <td>7.6</td>\n",
              "      <td>6.3</td>\n",
              "      <td>0</td>\n",
              "      <td>2Wheeler</td>\n",
              "    </tr>\n",
              "    <tr>\n",
              "      <th>4</th>\n",
              "      <td>25</td>\n",
              "      <td>Female</td>\n",
              "      <td>0</td>\n",
              "      <td>0.0</td>\n",
              "      <td>3</td>\n",
              "      <td>9.6</td>\n",
              "      <td>6.7</td>\n",
              "      <td>0</td>\n",
              "      <td>2Wheeler</td>\n",
              "    </tr>\n",
              "  </tbody>\n",
              "</table>\n",
              "</div>"
            ],
            "text/plain": [
              "   Age  Gender  Engineer  MBA  Work Exp  Salary  Distance  license Transport\n",
              "0   28    Male         1  0.0         5    14.4       5.1        0  2Wheeler\n",
              "1   24    Male         1  0.0         6    10.6       6.1        0  2Wheeler\n",
              "2   27  Female         1  0.0         9    15.5       6.1        0  2Wheeler\n",
              "3   25    Male         0  0.0         1     7.6       6.3        0  2Wheeler\n",
              "4   25  Female         0  0.0         3     9.6       6.7        0  2Wheeler"
            ]
          },
          "metadata": {
            "tags": []
          },
          "execution_count": 105
        }
      ]
    },
    {
      "cell_type": "code",
      "metadata": {
        "id": "smoAd7qkfFK9",
        "colab_type": "code",
        "outputId": "9a5f475f-b377-4a10-8595-dd0820b515bb",
        "colab": {
          "base_uri": "https://localhost:8080/",
          "height": 266
        }
      },
      "source": [
        "# Let's suffle the data for using it as 3 class classifier for later use.\n",
        "df_3Class = data.sample(frac=1).reset_index(drop=True)\n",
        "\n",
        "data.info()"
      ],
      "execution_count": 106,
      "outputs": [
        {
          "output_type": "stream",
          "text": [
            "<class 'pandas.core.frame.DataFrame'>\n",
            "RangeIndex: 418 entries, 0 to 417\n",
            "Data columns (total 9 columns):\n",
            "Age          418 non-null int64\n",
            "Gender       418 non-null object\n",
            "Engineer     418 non-null int64\n",
            "MBA          417 non-null float64\n",
            "Work Exp     418 non-null int64\n",
            "Salary       418 non-null float64\n",
            "Distance     418 non-null float64\n",
            "license      418 non-null int64\n",
            "Transport    418 non-null object\n",
            "dtypes: float64(3), int64(4), object(2)\n",
            "memory usage: 29.5+ KB\n"
          ],
          "name": "stdout"
        }
      ]
    },
    {
      "cell_type": "code",
      "metadata": {
        "id": "HNekuAvWfHXW",
        "colab_type": "code",
        "outputId": "256d9d0e-623a-443c-fa18-b70a3efe16fa",
        "colab": {
          "base_uri": "https://localhost:8080/",
          "height": 35
        }
      },
      "source": [
        "data = data.dropna()\n",
        "\n",
        "data['Transport'] = data['Transport'].astype('category')\n",
        "data['license'] = data['license'].astype('category')\n",
        "data['MBA'] = data['MBA'].astype('category')\n",
        "data['Engineer'] = data['Engineer'].astype('category')\n",
        "data['Gender'] = data['Gender'].astype('category')\n",
        "\n",
        "Counter(data.Transport)"
      ],
      "execution_count": 107,
      "outputs": [
        {
          "output_type": "execute_result",
          "data": {
            "text/plain": [
              "Counter({'2Wheeler': 83, 'Car': 35, 'Public Transport': 299})"
            ]
          },
          "metadata": {
            "tags": []
          },
          "execution_count": 107
        }
      ]
    },
    {
      "cell_type": "code",
      "metadata": {
        "id": "BiHaob6yfN1P",
        "colab_type": "code",
        "outputId": "31a99e0c-0e7a-49a5-cce9-86b973cc7529",
        "colab": {
          "base_uri": "https://localhost:8080/",
          "height": 295
        }
      },
      "source": [
        "plt.style.use('ggplot')\n",
        "sns.countplot(data['Transport']);"
      ],
      "execution_count": 108,
      "outputs": [
        {
          "output_type": "display_data",
          "data": {
            "image/png": "[encoded data removed]",
            "text/plain": [
              "<Figure size 432x288 with 1 Axes>"
            ]
          },
          "metadata": {
            "tags": []
          }
        }
      ]
    },
    {
      "cell_type": "markdown",
      "metadata": {
        "id": "veBCTlV7gC-u",
        "colab_type": "text"
      },
      "source": [
        "So, there are three classes, 2Wheeler',  'Car',  'Public Transport', for Mode of Transportation. From the bar chart, it is clear that class distribution is skewed and it is a ‘multi-class classification’ problem with target variable ‘Transport’.\n",
        "\n",
        "We need to predict whether or not an employee will use Car as a mode of transport.\n",
        "\n",
        "So we will have to combine 2Wheeler to Public Transport and will give the final name as Other Transport.\n",
        "\n",
        "\n"
      ]
    },
    {
      "cell_type": "code",
      "metadata": {
        "id": "tLRnm8VCmbA5",
        "colab_type": "code",
        "outputId": "5456ab1b-6243-43ce-fbd4-04ada52b6367",
        "colab": {
          "base_uri": "https://localhost:8080/",
          "height": 35
        }
      },
      "source": [
        "# Let us group 2Wheeler & Public Transport together and call them Other_Modes\n",
        "\n",
        "data['Transport'] = np.where(data['Transport']=='2Wheeler','Other_modes',data['Transport'])\n",
        "\n",
        "data['Transport'] = np.where(data['Transport']=='Public Transport','Other_modes',data['Transport'])\n",
        "\n",
        "print(Counter(data['Transport']))"
      ],
      "execution_count": 109,
      "outputs": [
        {
          "output_type": "stream",
          "text": [
            "Counter({'Other_modes': 382, 'Car': 35})\n"
          ],
          "name": "stdout"
        }
      ]
    },
    {
      "cell_type": "code",
      "metadata": {
        "id": "gQ9B8WKIkYtq",
        "colab_type": "code",
        "outputId": "1c91d3a5-736e-40f9-c3a2-bf853be57212",
        "colab": {
          "base_uri": "https://localhost:8080/",
          "height": 194
        }
      },
      "source": [
        "label = LabelEncoder()\n",
        "\n",
        "data['Transport'] = label.fit_transform(data['Transport'])\n",
        "data['Gender'] = label.fit_transform(data['Gender'])\n",
        "\n",
        "data.head()"
      ],
      "execution_count": 110,
      "outputs": [
        {
          "output_type": "execute_result",
          "data": {
            "text/html": [
              "<div>\n",
              "<style scoped>\n",
              "    .dataframe tbody tr th:only-of-type {\n",
              "        vertical-align: middle;\n",
              "    }\n",
              "\n",
              "    .dataframe tbody tr th {\n",
              "        vertical-align: top;\n",
              "    }\n",
              "\n",
              "    .dataframe thead th {\n",
              "        text-align: right;\n",
              "    }\n",
              "</style>\n",
              "<table border=\"1\" class=\"dataframe\">\n",
              "  <thead>\n",
              "    <tr style=\"text-align: right;\">\n",
              "      <th></th>\n",
              "      <th>Age</th>\n",
              "      <th>Gender</th>\n",
              "      <th>Engineer</th>\n",
              "      <th>MBA</th>\n",
              "      <th>Work Exp</th>\n",
              "      <th>Salary</th>\n",
              "      <th>Distance</th>\n",
              "      <th>license</th>\n",
              "      <th>Transport</th>\n",
              "    </tr>\n",
              "  </thead>\n",
              "  <tbody>\n",
              "    <tr>\n",
              "      <th>0</th>\n",
              "      <td>28</td>\n",
              "      <td>1</td>\n",
              "      <td>1</td>\n",
              "      <td>0.0</td>\n",
              "      <td>5</td>\n",
              "      <td>14.4</td>\n",
              "      <td>5.1</td>\n",
              "      <td>0</td>\n",
              "      <td>1</td>\n",
              "    </tr>\n",
              "    <tr>\n",
              "      <th>1</th>\n",
              "      <td>24</td>\n",
              "      <td>1</td>\n",
              "      <td>1</td>\n",
              "      <td>0.0</td>\n",
              "      <td>6</td>\n",
              "      <td>10.6</td>\n",
              "      <td>6.1</td>\n",
              "      <td>0</td>\n",
              "      <td>1</td>\n",
              "    </tr>\n",
              "    <tr>\n",
              "      <th>2</th>\n",
              "      <td>27</td>\n",
              "      <td>0</td>\n",
              "      <td>1</td>\n",
              "      <td>0.0</td>\n",
              "      <td>9</td>\n",
              "      <td>15.5</td>\n",
              "      <td>6.1</td>\n",
              "      <td>0</td>\n",
              "      <td>1</td>\n",
              "    </tr>\n",
              "    <tr>\n",
              "      <th>3</th>\n",
              "      <td>25</td>\n",
              "      <td>1</td>\n",
              "      <td>0</td>\n",
              "      <td>0.0</td>\n",
              "      <td>1</td>\n",
              "      <td>7.6</td>\n",
              "      <td>6.3</td>\n",
              "      <td>0</td>\n",
              "      <td>1</td>\n",
              "    </tr>\n",
              "    <tr>\n",
              "      <th>4</th>\n",
              "      <td>25</td>\n",
              "      <td>0</td>\n",
              "      <td>0</td>\n",
              "      <td>0.0</td>\n",
              "      <td>3</td>\n",
              "      <td>9.6</td>\n",
              "      <td>6.7</td>\n",
              "      <td>0</td>\n",
              "      <td>1</td>\n",
              "    </tr>\n",
              "  </tbody>\n",
              "</table>\n",
              "</div>"
            ],
            "text/plain": [
              "   Age  Gender Engineer  MBA  Work Exp  Salary  Distance license  Transport\n",
              "0   28       1        1  0.0         5    14.4       5.1       0          1\n",
              "1   24       1        1  0.0         6    10.6       6.1       0          1\n",
              "2   27       0        1  0.0         9    15.5       6.1       0          1\n",
              "3   25       1        0  0.0         1     7.6       6.3       0          1\n",
              "4   25       0        0  0.0         3     9.6       6.7       0          1"
            ]
          },
          "metadata": {
            "tags": []
          },
          "execution_count": 110
        }
      ]
    },
    {
      "cell_type": "code",
      "metadata": {
        "id": "Mio1dPtyfgQn",
        "colab_type": "code",
        "outputId": "b5adc999-9d69-40bf-87de-5f8cc27b5384",
        "colab": {
          "base_uri": "https://localhost:8080/",
          "height": 47
        }
      },
      "source": [
        "data[data.isnull().any(axis=1)]"
      ],
      "execution_count": 111,
      "outputs": [
        {
          "output_type": "execute_result",
          "data": {
            "text/html": [
              "<div>\n",
              "<style scoped>\n",
              "    .dataframe tbody tr th:only-of-type {\n",
              "        vertical-align: middle;\n",
              "    }\n",
              "\n",
              "    .dataframe tbody tr th {\n",
              "        vertical-align: top;\n",
              "    }\n",
              "\n",
              "    .dataframe thead th {\n",
              "        text-align: right;\n",
              "    }\n",
              "</style>\n",
              "<table border=\"1\" class=\"dataframe\">\n",
              "  <thead>\n",
              "    <tr style=\"text-align: right;\">\n",
              "      <th></th>\n",
              "      <th>Age</th>\n",
              "      <th>Gender</th>\n",
              "      <th>Engineer</th>\n",
              "      <th>MBA</th>\n",
              "      <th>Work Exp</th>\n",
              "      <th>Salary</th>\n",
              "      <th>Distance</th>\n",
              "      <th>license</th>\n",
              "      <th>Transport</th>\n",
              "    </tr>\n",
              "  </thead>\n",
              "  <tbody>\n",
              "  </tbody>\n",
              "</table>\n",
              "</div>"
            ],
            "text/plain": [
              "Empty DataFrame\n",
              "Columns: [Age, Gender, Engineer, MBA, Work Exp, Salary, Distance, license, Transport]\n",
              "Index: []"
            ]
          },
          "metadata": {
            "tags": []
          },
          "execution_count": 111
        }
      ]
    },
    {
      "cell_type": "code",
      "metadata": {
        "id": "GyJREQLyjeuh",
        "colab_type": "code",
        "outputId": "fe0aaafb-f99c-45c2-b9e3-e5ea711ed47f",
        "colab": {
          "base_uri": "https://localhost:8080/",
          "height": 282
        }
      },
      "source": [
        "data.describe()"
      ],
      "execution_count": 112,
      "outputs": [
        {
          "output_type": "execute_result",
          "data": {
            "text/html": [
              "<div>\n",
              "<style scoped>\n",
              "    .dataframe tbody tr th:only-of-type {\n",
              "        vertical-align: middle;\n",
              "    }\n",
              "\n",
              "    .dataframe tbody tr th {\n",
              "        vertical-align: top;\n",
              "    }\n",
              "\n",
              "    .dataframe thead th {\n",
              "        text-align: right;\n",
              "    }\n",
              "</style>\n",
              "<table border=\"1\" class=\"dataframe\">\n",
              "  <thead>\n",
              "    <tr style=\"text-align: right;\">\n",
              "      <th></th>\n",
              "      <th>Age</th>\n",
              "      <th>Gender</th>\n",
              "      <th>Work Exp</th>\n",
              "      <th>Salary</th>\n",
              "      <th>Distance</th>\n",
              "      <th>Transport</th>\n",
              "    </tr>\n",
              "  </thead>\n",
              "  <tbody>\n",
              "    <tr>\n",
              "      <th>count</th>\n",
              "      <td>417.000000</td>\n",
              "      <td>417.000000</td>\n",
              "      <td>417.000000</td>\n",
              "      <td>417.000000</td>\n",
              "      <td>417.000000</td>\n",
              "      <td>417.000000</td>\n",
              "    </tr>\n",
              "    <tr>\n",
              "      <th>mean</th>\n",
              "      <td>27.333333</td>\n",
              "      <td>0.712230</td>\n",
              "      <td>5.872902</td>\n",
              "      <td>15.422542</td>\n",
              "      <td>11.296403</td>\n",
              "      <td>0.916067</td>\n",
              "    </tr>\n",
              "    <tr>\n",
              "      <th>std</th>\n",
              "      <td>4.158132</td>\n",
              "      <td>0.453267</td>\n",
              "      <td>4.821891</td>\n",
              "      <td>9.671470</td>\n",
              "      <td>3.700982</td>\n",
              "      <td>0.277620</td>\n",
              "    </tr>\n",
              "    <tr>\n",
              "      <th>min</th>\n",
              "      <td>18.000000</td>\n",
              "      <td>0.000000</td>\n",
              "      <td>0.000000</td>\n",
              "      <td>6.500000</td>\n",
              "      <td>3.200000</td>\n",
              "      <td>0.000000</td>\n",
              "    </tr>\n",
              "    <tr>\n",
              "      <th>25%</th>\n",
              "      <td>25.000000</td>\n",
              "      <td>0.000000</td>\n",
              "      <td>3.000000</td>\n",
              "      <td>9.600000</td>\n",
              "      <td>8.600000</td>\n",
              "      <td>1.000000</td>\n",
              "    </tr>\n",
              "    <tr>\n",
              "      <th>50%</th>\n",
              "      <td>27.000000</td>\n",
              "      <td>1.000000</td>\n",
              "      <td>5.000000</td>\n",
              "      <td>13.000000</td>\n",
              "      <td>10.900000</td>\n",
              "      <td>1.000000</td>\n",
              "    </tr>\n",
              "    <tr>\n",
              "      <th>75%</th>\n",
              "      <td>29.000000</td>\n",
              "      <td>1.000000</td>\n",
              "      <td>8.000000</td>\n",
              "      <td>14.900000</td>\n",
              "      <td>13.600000</td>\n",
              "      <td>1.000000</td>\n",
              "    </tr>\n",
              "    <tr>\n",
              "      <th>max</th>\n",
              "      <td>43.000000</td>\n",
              "      <td>1.000000</td>\n",
              "      <td>24.000000</td>\n",
              "      <td>57.000000</td>\n",
              "      <td>23.400000</td>\n",
              "      <td>1.000000</td>\n",
              "    </tr>\n",
              "  </tbody>\n",
              "</table>\n",
              "</div>"
            ],
            "text/plain": [
              "              Age      Gender    Work Exp      Salary    Distance   Transport\n",
              "count  417.000000  417.000000  417.000000  417.000000  417.000000  417.000000\n",
              "mean    27.333333    0.712230    5.872902   15.422542   11.296403    0.916067\n",
              "std      4.158132    0.453267    4.821891    9.671470    3.700982    0.277620\n",
              "min     18.000000    0.000000    0.000000    6.500000    3.200000    0.000000\n",
              "25%     25.000000    0.000000    3.000000    9.600000    8.600000    1.000000\n",
              "50%     27.000000    1.000000    5.000000   13.000000   10.900000    1.000000\n",
              "75%     29.000000    1.000000    8.000000   14.900000   13.600000    1.000000\n",
              "max     43.000000    1.000000   24.000000   57.000000   23.400000    1.000000"
            ]
          },
          "metadata": {
            "tags": []
          },
          "execution_count": 112
        }
      ]
    },
    {
      "cell_type": "markdown",
      "metadata": {
        "id": "UR0mTveAS6qy",
        "colab_type": "text"
      },
      "source": [
        "## Exploratory Data Analysis"
      ]
    },
    {
      "cell_type": "code",
      "metadata": {
        "id": "O5qVc9QlpUSN",
        "colab_type": "code",
        "outputId": "53f2585b-b968-4f52-a9d1-949b4e9f5b3c",
        "colab": {
          "base_uri": "https://localhost:8080/",
          "height": 316
        }
      },
      "source": [
        "table = pd.crosstab(df_3Class.Age,df_3Class.Transport)\n",
        "table.div(table.sum(1).astype(float),axis=0).plot(kind='bar',stacked = True)\n",
        "plt.style.use('ggplot')\n",
        "plt.title('Stacked bar chart of Age vs Transport')\n",
        "plt.xlabel('Age')\n",
        "plt.ylabel('Proportion of Employes');\n",
        "plt.legend(loc='upper left')\n",
        "\n",
        "plt.show()"
      ],
      "execution_count": 113,
      "outputs": [
        {
          "output_type": "display_data",
          "data": {
            "image/png": "[encoded data removed]",
            "text/plain": [
              "<Figure size 432x288 with 1 Axes>"
            ]
          },
          "metadata": {
            "tags": []
          }
        }
      ]
    },
    {
      "cell_type": "code",
      "metadata": {
        "id": "ljRTkMHZuQB9",
        "colab_type": "code",
        "outputId": "8c11bb24-ef16-4336-d7cc-ade171f170af",
        "colab": {
          "base_uri": "https://localhost:8080/",
          "height": 315
        }
      },
      "source": [
        "table = pd.crosstab(df_3Class['Work Exp'],df_3Class.Transport)\n",
        "table.div(table.sum(1).astype(float),axis=0).plot(kind='bar',stacked = True)\n",
        "sns.set()\n",
        "plt.title('Stacked bar chart of Work Exp vs Transport')\n",
        "plt.xlabel('Work Exp')\n",
        "plt.ylabel('Proportion of Employes');\n",
        "\n",
        "plt.show()"
      ],
      "execution_count": 114,
      "outputs": [
        {
          "output_type": "display_data",
          "data": {
            "image/png": "[encoded data removed]",
            "text/plain": [
              "<Figure size 432x288 with 1 Axes>"
            ]
          },
          "metadata": {
            "tags": []
          }
        }
      ]
    },
    {
      "cell_type": "code",
      "metadata": {
        "id": "X_RoiwrSwpJ2",
        "colab_type": "code",
        "outputId": "58fcacaf-4029-48b7-affe-07c1748f3d76",
        "colab": {
          "base_uri": "https://localhost:8080/",
          "height": 883
        }
      },
      "source": [
        "# Seaborn to plot a scatterplot\n",
        "sns.lmplot('Distance','Age',\n",
        "          hue = 'Transport',data=df_3Class,\n",
        "          scatter_kws = {'alpha':0.8,'s':60},fit_reg=False,\n",
        "          size=12,aspect=1.2);\n",
        "#Plot labeling\n",
        "plt.xlabel(\"Distance\", size = 15)\n",
        "plt.ylabel('Age', size = 15)\n",
        "plt.title('Distance Vs Age', size = 15)\n",
        "plt.show();"
      ],
      "execution_count": 116,
      "outputs": [
        {
          "output_type": "display_data",
          "data": {
            "image/png": "[encoded data removed]",
            "text/plain": [
              "<Figure size 1166.38x864 with 1 Axes>"
            ]
          },
          "metadata": {
            "tags": []
          }
        }
      ]
    },
    {
      "cell_type": "code",
      "metadata": {
        "id": "IZ8M6Mu7TitL",
        "colab_type": "code",
        "outputId": "df7b00b3-ca2a-4477-c104-23f637af2a15",
        "colab": {
          "base_uri": "https://localhost:8080/",
          "height": 617
        }
      },
      "source": [
        "# Import the ColumnDataSource class from bokeh.plotting\n",
        "from bokeh.plotting import ColumnDataSource\n",
        "\n",
        "# import the HoverTool\n",
        "from bokeh.models import HoverTool\n",
        "\n",
        "#Import CategoricalColorMapper from bokeh.models\n",
        "from bokeh.models import CategoricalColorMapper\n",
        "\n",
        "# Import row from bokeh.layouts\n",
        "from bokeh.layouts import row\n",
        "\n",
        "source = ColumnDataSource(df_3Class)\n",
        "\n",
        "p = figure(x_axis_label='Work Exp', y_axis_label='Distance',tools = 'box_select')\n",
        "\n",
        "# Make a CategoricalColorMapper object: color_mapper\n",
        "color_mapper = CategoricalColorMapper(factors=['Public Transport', '2Wheeler', 'Car'],\n",
        "                                      palette=['skyblue', 'green', 'red'])\n",
        "\n",
        "# Create a HoverTool object: hover\n",
        "hover = HoverTool(tooltips=[('Gender','@Gender')])\n",
        "\n",
        "p.add_tools(hover)\n",
        "\n",
        "p.circle(x='Work Exp',y='Distance', source=source,\n",
        "         color=dict(field='Transport', transform=color_mapper),legend='Transport',size=8)\n",
        "\n",
        "show(p)"
      ],
      "execution_count": 117,
      "outputs": [
        {
          "output_type": "display_data",
          "data": {
            "application/javascript": [
              "\n",
              "(function(root) {\n",
              "  function now() {\n",
              "    return new Date();\n",
              "  }\n",
              "\n",
              "  var force = true;\n",
              "\n",
              "  if (typeof (root._bokeh_onload_callbacks) === \"undefined\" || force === true) {\n",
              "    root._bokeh_onload_callbacks = [];\n",
              "    root._bokeh_is_loading = undefined;\n",
              "  }\n",
              "\n",
              "  var JS_MIME_TYPE = 'application/javascript';\n",
              "  var HTML_MIME_TYPE = 'text/html';\n",
              "  var EXEC_MIME_TYPE = 'application/vnd.bokehjs_exec.v0+json';\n",
              "  var CLASS_NAME = 'output_bokeh rendered_html';\n",
              "\n",
              "  /**\n",
              "   * Render data to the DOM node\n",
              "   */\n",
              "  function render(props, node) {\n",
              "    var script = document.createElement(\"script\");\n",
              "    node.appendChild(script);\n",
              "  }\n",
              "\n",
              "  /**\n",
              "   * Handle when an output is cleared or removed\n",
              "   */\n",
              "  function handleClearOutput(event, handle) {\n",
              "    var cell = handle.cell;\n",
              "\n",
              "    var id = cell.output_area._bokeh_element_id;\n",
              "    var server_id = cell.output_area._bokeh_server_id;\n",
              "    // Clean up Bokeh references\n",
              "    if (id != null && id in Bokeh.index) {\n",
              "      Bokeh.index[id].model.document.clear();\n",
              "      delete Bokeh.index[id];\n",
              "    }\n",
              "\n",
              "    if (server_id !== undefined) {\n",
              "      // Clean up Bokeh references\n",
              "      var cmd = \"from bokeh.io.state import curstate; print(curstate().uuid_to_server['\" + server_id + \"'].get_sessions()[0].document.roots[0]._id)\";\n",
              "      cell.notebook.kernel.execute(cmd, {\n",
              "        iopub: {\n",
              "          output: function(msg) {\n",
              "            var id = msg.content.text.trim();\n",
              "            if (id in Bokeh.index) {\n",
              "              Bokeh.index[id].model.document.clear();\n",
              "              delete Bokeh.index[id];\n",
              "            }\n",
              "          }\n",
              "        }\n",
              "      });\n",
              "      // Destroy server and session\n",
              "      var cmd = \"import bokeh.io.notebook as ion; ion.destroy_server('\" + server_id + \"')\";\n",
              "      cell.notebook.kernel.execute(cmd);\n",
              "    }\n",
              "  }\n",
              "\n",
              "  /**\n",
              "   * Handle when a new output is added\n",
              "   */\n",
              "  function handleAddOutput(event, handle) {\n",
              "    var output_area = handle.output_area;\n",
              "    var output = handle.output;\n",
              "\n",
              "    // limit handleAddOutput to display_data with EXEC_MIME_TYPE content only\n",
              "    if ((output.output_type != \"display_data\") || (!output.data.hasOwnProperty(EXEC_MIME_TYPE))) {\n",
              "      return\n",
              "    }\n",
              "\n",
              "    var toinsert = output_area.element.find(\".\" + CLASS_NAME.split(' ')[0]);\n",
              "\n",
              "    if (output.metadata[EXEC_MIME_TYPE][\"id\"] !== undefined) {\n",
              "      toinsert[toinsert.length - 1].firstChild.textContent = output.data[JS_MIME_TYPE];\n",
              "      // store reference to embed id on output_area\n",
              "      output_area._bokeh_element_id = output.metadata[EXEC_MIME_TYPE][\"id\"];\n",
              "    }\n",
              "    if (output.metadata[EXEC_MIME_TYPE][\"server_id\"] !== undefined) {\n",
              "      var bk_div = document.createElement(\"div\");\n",
              "      bk_div.innerHTML = output.data[HTML_MIME_TYPE];\n",
              "      var script_attrs = bk_div.children[0].attributes;\n",
              "      for (var i = 0; i < script_attrs.length; i++) {\n",
              "        toinsert[toinsert.length - 1].firstChild.setAttribute(script_attrs[i].name, script_attrs[i].value);\n",
              "      }\n",
              "      // store reference to server id on output_area\n",
              "      output_area._bokeh_server_id = output.metadata[EXEC_MIME_TYPE][\"server_id\"];\n",
              "    }\n",
              "  }\n",
              "\n",
              "  function register_renderer(events, OutputArea) {\n",
              "\n",
              "    function append_mime(data, metadata, element) {\n",
              "      // create a DOM node to render to\n",
              "      var toinsert = this.create_output_subarea(\n",
              "        metadata,\n",
              "        CLASS_NAME,\n",
              "        EXEC_MIME_TYPE\n",
              "      );\n",
              "      this.keyboard_manager.register_events(toinsert);\n",
              "      // Render to node\n",
              "      var props = {data: data, metadata: metadata[EXEC_MIME_TYPE]};\n",
              "      render(props, toinsert[toinsert.length - 1]);\n",
              "      element.append(toinsert);\n",
              "      return toinsert\n",
              "    }\n",
              "\n",
              "    /* Handle when an output is cleared or removed */\n",
              "    events.on('clear_output.CodeCell', handleClearOutput);\n",
              "    events.on('delete.Cell', handleClearOutput);\n",
              "\n",
              "    /* Handle when a new output is added */\n",
              "    events.on('output_added.OutputArea', handleAddOutput);\n",
              "\n",
              "    /**\n",
              "     * Register the mime type and append_mime function with output_area\n",
              "     */\n",
              "    OutputArea.prototype.register_mime_type(EXEC_MIME_TYPE, append_mime, {\n",
              "      /* Is output safe? */\n",
              "      safe: true,\n",
              "      /* Index of renderer in `output_area.display_order` */\n",
              "      index: 0\n",
              "    });\n",
              "  }\n",
              "\n",
              "  // register the mime type if in Jupyter Notebook environment and previously unregistered\n",
              "  if (root.Jupyter !== undefined) {\n",
              "    var events = require('base/js/events');\n",
              "    var OutputArea = require('notebook/js/outputarea').OutputArea;\n",
              "\n",
              "    if (OutputArea.prototype.mime_types().indexOf(EXEC_MIME_TYPE) == -1) {\n",
              "      register_renderer(events, OutputArea);\n",
              "    }\n",
              "  }\n",
              "\n",
              "  \n",
              "  if (typeof (root._bokeh_timeout) === \"undefined\" || force === true) {\n",
              "    root._bokeh_timeout = Date.now() + 5000;\n",
              "    root._bokeh_failed_load = false;\n",
              "  }\n",
              "\n",
              "  var NB_LOAD_WARNING = {'data': {'text/html':\n",
              "     \"<div style='background-color: #fdd'>\\n\"+\n",
              "     \"<p>\\n\"+\n",
              "     \"BokehJS does not appear to have successfully loaded. If loading BokehJS from CDN, this \\n\"+\n",
              "     \"may be due to a slow or bad network connection. Possible fixes:\\n\"+\n",
              "     \"</p>\\n\"+\n",
              "     \"<ul>\\n\"+\n",
              "     \"<li>re-rerun `output_notebook()` to attempt to load from CDN again, or</li>\\n\"+\n",
              "     \"<li>use INLINE resources instead, as so:</li>\\n\"+\n",
              "     \"</ul>\\n\"+\n",
              "     \"<code>\\n\"+\n",
              "     \"from bokeh.resources import INLINE\\n\"+\n",
              "     \"output_notebook(resources=INLINE)\\n\"+\n",
              "     \"</code>\\n\"+\n",
              "     \"</div>\"}};\n",
              "\n",
              "  function display_loaded() {\n",
              "    var el = document.getElementById(null);\n",
              "    if (el != null) {\n",
              "      el.textContent = \"BokehJS is loading...\";\n",
              "    }\n",
              "    if (root.Bokeh !== undefined) {\n",
              "      if (el != null) {\n",
              "        el.textContent = \"BokehJS \" + root.Bokeh.version + \" successfully loaded.\";\n",
              "      }\n",
              "    } else if (Date.now() < root._bokeh_timeout) {\n",
              "      setTimeout(display_loaded, 100)\n",
              "    }\n",
              "  }\n",
              "\n",
              "\n",
              "  function run_callbacks() {\n",
              "    try {\n",
              "      root._bokeh_onload_callbacks.forEach(function(callback) { callback() });\n",
              "    }\n",
              "    finally {\n",
              "      delete root._bokeh_onload_callbacks\n",
              "    }\n",
              "    console.info(\"Bokeh: all callbacks have finished\");\n",
              "  }\n",
              "\n",
              "  function load_libs(js_urls, callback) {\n",
              "    root._bokeh_onload_callbacks.push(callback);\n",
              "    if (root._bokeh_is_loading > 0) {\n",
              "      console.log(\"Bokeh: BokehJS is being loaded, scheduling callback at\", now());\n",
              "      return null;\n",
              "    }\n",
              "    if (js_urls == null || js_urls.length === 0) {\n",
              "      run_callbacks();\n",
              "      return null;\n",
              "    }\n",
              "    console.log(\"Bokeh: BokehJS not loaded, scheduling load and callback at\", now());\n",
              "    root._bokeh_is_loading = js_urls.length;\n",
              "    for (var i = 0; i < js_urls.length; i++) {\n",
              "      var url = js_urls[i];\n",
              "      var s = document.createElement('script');\n",
              "      s.src = url;\n",
              "      s.async = false;\n",
              "      s.onreadystatechange = s.onload = function() {\n",
              "        root._bokeh_is_loading--;\n",
              "        if (root._bokeh_is_loading === 0) {\n",
              "          console.log(\"Bokeh: all BokehJS libraries loaded\");\n",
              "          run_callbacks()\n",
              "        }\n",
              "      };\n",
              "      s.onerror = function() {\n",
              "        console.warn(\"failed to load library \" + url);\n",
              "      };\n",
              "      console.log(\"Bokeh: injecting script tag for BokehJS library: \", url);\n",
              "      document.getElementsByTagName(\"head\")[0].appendChild(s);\n",
              "    }\n",
              "  };\n",
              "\n",
              "  var js_urls = [\"https://cdn.pydata.org/bokeh/release/bokeh-1.0.4.min.js\", \"https://cdn.pydata.org/bokeh/release/bokeh-widgets-1.0.4.min.js\", \"https://cdn.pydata.org/bokeh/release/bokeh-tables-1.0.4.min.js\", \"https://cdn.pydata.org/bokeh/release/bokeh-gl-1.0.4.min.js\"];\n",
              "\n",
              "  var inline_js = [\n",
              "    function(Bokeh) {\n",
              "      Bokeh.set_log_level(\"info\");\n",
              "    },\n",
              "    \n",
              "    function(Bokeh) {\n",
              "      \n",
              "    },\n",
              "    function(Bokeh) {\n",
              "      console.log(\"Bokeh: injecting CSS: https://cdn.pydata.org/bokeh/release/bokeh-1.0.4.min.css\");\n",
              "      Bokeh.embed.inject_css(\"https://cdn.pydata.org/bokeh/release/bokeh-1.0.4.min.css\");\n",
              "      console.log(\"Bokeh: injecting CSS: https://cdn.pydata.org/bokeh/release/bokeh-widgets-1.0.4.min.css\");\n",
              "      Bokeh.embed.inject_css(\"https://cdn.pydata.org/bokeh/release/bokeh-widgets-1.0.4.min.css\");\n",
              "      console.log(\"Bokeh: injecting CSS: https://cdn.pydata.org/bokeh/release/bokeh-tables-1.0.4.min.css\");\n",
              "      Bokeh.embed.inject_css(\"https://cdn.pydata.org/bokeh/release/bokeh-tables-1.0.4.min.css\");\n",
              "    }\n",
              "  ];\n",
              "\n",
              "  function run_inline_js() {\n",
              "    \n",
              "    if ((root.Bokeh !== undefined) || (force === true)) {\n",
              "      for (var i = 0; i < inline_js.length; i++) {\n",
              "        inline_js[i].call(root, root.Bokeh);\n",
              "      }} else if (Date.now() < root._bokeh_timeout) {\n",
              "      setTimeout(run_inline_js, 100);\n",
              "    } else if (!root._bokeh_failed_load) {\n",
              "      console.log(\"Bokeh: BokehJS failed to load within specified timeout.\");\n",
              "      root._bokeh_failed_load = true;\n",
              "    } else if (force !== true) {\n",
              "      var cell = $(document.getElementById(null)).parents('.cell').data().cell;\n",
              "      cell.output_area.append_execute_result(NB_LOAD_WARNING)\n",
              "    }\n",
              "\n",
              "  }\n",
              "\n",
              "  if (root._bokeh_is_loading === 0) {\n",
              "    console.log(\"Bokeh: BokehJS loaded, going straight to plotting\");\n",
              "    run_inline_js();\n",
              "  } else {\n",
              "    load_libs(js_urls, function() {\n",
              "      console.log(\"Bokeh: BokehJS plotting callback run at\", now());\n",
              "      run_inline_js();\n",
              "    });\n",
              "  }\n",
              "}(window));"
            ],
            "application/vnd.bokehjs_load.v0+json": "\n(function(root) {\n  function now() {\n    return new Date();\n  }\n\n  var force = true;\n\n  if (typeof (root._bokeh_onload_callbacks) === \"undefined\" || force === true) {\n    root._bokeh_onload_callbacks = [];\n    root._bokeh_is_loading = undefined;\n  }\n\n  \n\n  \n  if (typeof (root._bokeh_timeout) === \"undefined\" || force === true) {\n    root._bokeh_timeout = Date.now() + 5000;\n    root._bokeh_failed_load = false;\n  }\n\n  var NB_LOAD_WARNING = {'data': {'text/html':\n     \"<div style='background-color: #fdd'>\\n\"+\n     \"<p>\\n\"+\n     \"BokehJS does not appear to have successfully loaded. If loading BokehJS from CDN, this \\n\"+\n     \"may be due to a slow or bad network connection. Possible fixes:\\n\"+\n     \"</p>\\n\"+\n     \"<ul>\\n\"+\n     \"<li>re-rerun `output_notebook()` to attempt to load from CDN again, or</li>\\n\"+\n     \"<li>use INLINE resources instead, as so:</li>\\n\"+\n     \"</ul>\\n\"+\n     \"<code>\\n\"+\n     \"from bokeh.resources import INLINE\\n\"+\n     \"output_notebook(resources=INLINE)\\n\"+\n     \"</code>\\n\"+\n     \"</div>\"}};\n\n  function display_loaded() {\n    var el = document.getElementById(null);\n    if (el != null) {\n      el.textContent = \"BokehJS is loading...\";\n    }\n    if (root.Bokeh !== undefined) {\n      if (el != null) {\n        el.textContent = \"BokehJS \" + root.Bokeh.version + \" successfully loaded.\";\n      }\n    } else if (Date.now() < root._bokeh_timeout) {\n      setTimeout(display_loaded, 100)\n    }\n  }\n\n\n  function run_callbacks() {\n    try {\n      root._bokeh_onload_callbacks.forEach(function(callback) { callback() });\n    }\n    finally {\n      delete root._bokeh_onload_callbacks\n    }\n    console.info(\"Bokeh: all callbacks have finished\");\n  }\n\n  function load_libs(js_urls, callback) {\n    root._bokeh_onload_callbacks.push(callback);\n    if (root._bokeh_is_loading > 0) {\n      console.log(\"Bokeh: BokehJS is being loaded, scheduling callback at\", now());\n      return null;\n    }\n    if (js_urls == null || js_urls.length === 0) {\n      run_callbacks();\n      return null;\n    }\n    console.log(\"Bokeh: BokehJS not loaded, scheduling load and callback at\", now());\n    root._bokeh_is_loading = js_urls.length;\n    for (var i = 0; i < js_urls.length; i++) {\n      var url = js_urls[i];\n      var s = document.createElement('script');\n      s.src = url;\n      s.async = false;\n      s.onreadystatechange = s.onload = function() {\n        root._bokeh_is_loading--;\n        if (root._bokeh_is_loading === 0) {\n          console.log(\"Bokeh: all BokehJS libraries loaded\");\n          run_callbacks()\n        }\n      };\n      s.onerror = function() {\n        console.warn(\"failed to load library \" + url);\n      };\n      console.log(\"Bokeh: injecting script tag for BokehJS library: \", url);\n      document.getElementsByTagName(\"head\")[0].appendChild(s);\n    }\n  };\n\n  var js_urls = [\"https://cdn.pydata.org/bokeh/release/bokeh-1.0.4.min.js\", \"https://cdn.pydata.org/bokeh/release/bokeh-widgets-1.0.4.min.js\", \"https://cdn.pydata.org/bokeh/release/bokeh-tables-1.0.4.min.js\", \"https://cdn.pydata.org/bokeh/release/bokeh-gl-1.0.4.min.js\"];\n\n  var inline_js = [\n    function(Bokeh) {\n      Bokeh.set_log_level(\"info\");\n    },\n    \n    function(Bokeh) {\n      \n    },\n    function(Bokeh) {\n      console.log(\"Bokeh: injecting CSS: https://cdn.pydata.org/bokeh/release/bokeh-1.0.4.min.css\");\n      Bokeh.embed.inject_css(\"https://cdn.pydata.org/bokeh/release/bokeh-1.0.4.min.css\");\n      console.log(\"Bokeh: injecting CSS: https://cdn.pydata.org/bokeh/release/bokeh-widgets-1.0.4.min.css\");\n      Bokeh.embed.inject_css(\"https://cdn.pydata.org/bokeh/release/bokeh-widgets-1.0.4.min.css\");\n      console.log(\"Bokeh: injecting CSS: https://cdn.pydata.org/bokeh/release/bokeh-tables-1.0.4.min.css\");\n      Bokeh.embed.inject_css(\"https://cdn.pydata.org/bokeh/release/bokeh-tables-1.0.4.min.css\");\n    }\n  ];\n\n  function run_inline_js() {\n    \n    if ((root.Bokeh !== undefined) || (force === true)) {\n      for (var i = 0; i < inline_js.length; i++) {\n        inline_js[i].call(root, root.Bokeh);\n      }} else if (Date.now() < root._bokeh_timeout) {\n      setTimeout(run_inline_js, 100);\n    } else if (!root._bokeh_failed_load) {\n      console.log(\"Bokeh: BokehJS failed to load within specified timeout.\");\n      root._bokeh_failed_load = true;\n    } else if (force !== true) {\n      var cell = $(document.getElementById(null)).parents('.cell').data().cell;\n      cell.output_area.append_execute_result(NB_LOAD_WARNING)\n    }\n\n  }\n\n  if (root._bokeh_is_loading === 0) {\n    console.log(\"Bokeh: BokehJS loaded, going straight to plotting\");\n    run_inline_js();\n  } else {\n    load_libs(js_urls, function() {\n      console.log(\"Bokeh: BokehJS plotting callback run at\", now());\n      run_inline_js();\n    });\n  }\n}(window));"
          },
          "metadata": {
            "tags": []
          }
        },
        {
          "output_type": "display_data",
          "data": {
            "text/html": [
              "\n",
              "\n",
              "\n",
              "\n",
              "\n",
              "\n",
              "  <div class=\"bk-root\" id=\"501ea643-87f5-4e8f-8ff9-e83a8ac0a3f7\" data-root-id=\"1982\"></div>\n"
            ]
          },
          "metadata": {
            "tags": []
          }
        },
        {
          "output_type": "display_data",
          "data": {
            "application/javascript": [
              "(function(root) {\n",
              "  function embed_document(root) {\n",
              "    \n",
              "  var docs_json = {\"86f20f60-0755-473f-bd26-ac0dcb8b4bfc\":{\"roots\":{\"references\":[{\"attributes\":{\"below\":[{\"id\":\"1991\",\"type\":\"LinearAxis\"}],\"left\":[{\"id\":\"1996\",\"type\":\"LinearAxis\"}],\"renderers\":[{\"id\":\"1991\",\"type\":\"LinearAxis\"},{\"id\":\"1995\",\"type\":\"Grid\"},{\"id\":\"1996\",\"type\":\"LinearAxis\"},{\"id\":\"2000\",\"type\":\"Grid\"},{\"id\":\"2002\",\"type\":\"BoxAnnotation\"},{\"id\":\"2021\",\"type\":\"Legend\"},{\"id\":\"2012\",\"type\":\"GlyphRenderer\"}],\"title\":{\"id\":\"2014\",\"type\":\"Title\"},\"toolbar\":{\"id\":\"2004\",\"type\":\"Toolbar\"},\"x_range\":{\"id\":\"1983\",\"type\":\"DataRange1d\"},\"x_scale\":{\"id\":\"1987\",\"type\":\"LinearScale\"},\"y_range\":{\"id\":\"1985\",\"type\":\"DataRange1d\"},\"y_scale\":{\"id\":\"1989\",\"type\":\"LinearScale\"}},\"id\":\"1982\",\"subtype\":\"Figure\",\"type\":\"Plot\"},{\"attributes\":{\"dimension\":1,\"plot\":{\"id\":\"1982\",\"subtype\":\"Figure\",\"type\":\"Plot\"},\"ticker\":{\"id\":\"1997\",\"type\":\"BasicTicker\"}},\"id\":\"2000\",\"type\":\"Grid\"},{\"attributes\":{\"fill_alpha\":{\"value\":0.1},\"fill_color\":{\"value\":\"#1f77b4\"},\"line_alpha\":{\"value\":0.1},\"line_color\":{\"value\":\"#1f77b4\"},\"size\":{\"units\":\"screen\",\"value\":8},\"x\":{\"field\":\"Work Exp\"},\"y\":{\"field\":\"Distance\"}},\"id\":\"2011\",\"type\":\"Circle\"},{\"attributes\":{\"callback\":null},\"id\":\"1985\",\"type\":\"DataRange1d\"},{\"attributes\":{\"active_drag\":\"auto\",\"active_inspect\":\"auto\",\"active_multi\":null,\"active_scroll\":\"auto\",\"active_tap\":\"auto\",\"tools\":[{\"id\":\"2001\",\"type\":\"BoxSelectTool\"},{\"id\":\"2007\",\"type\":\"HoverTool\"}]},\"id\":\"2004\",\"type\":\"Toolbar\"},{\"attributes\":{\"callback\":null,\"data\":{\"Age\":[31,27,24,36,39,28,26,29,24,26,26,24,24,30,23,24,23,26,30,28,31,21,34,26,30,22,23,26,26,26,24,23,24,27,18,30,33,34,31,25,28,23,30,24,27,25,26,26,25,37,22,34,40,29,36,28,27,26,29,25,33,27,24,25,24,43,30,32,24,25,28,26,28,27,20,26,24,28,30,29,26,26,28,26,25,22,26,22,29,26,27,27,29,28,26,28,27,26,21,27,31,27,25,26,32,27,20,34,25,27,30,23,27,37,31,25,24,27,21,29,26,25,31,23,24,28,26,26,27,32,37,28,24,26,26,31,28,19,23,29,28,23,30,26,25,27,26,18,26,26,27,26,29,25,23,28,27,28,26,24,27,25,30,22,40,24,30,29,24,28,33,26,39,26,25,27,34,30,29,26,40,27,30,25,26,25,38,28,29,27,21,27,23,26,21,30,27,24,25,33,26,25,28,26,32,26,21,22,29,20,26,34,38,24,26,30,32,22,30,24,27,28,29,26,27,30,26,23,26,38,23,29,25,24,28,25,22,27,22,27,31,26,29,30,24,30,28,23,27,26,28,28,24,24,24,24,31,26,28,28,23,25,22,24,28,28,22,22,34,24,29,24,26,21,30,31,29,20,28,25,26,27,24,24,35,26,26,24,28,24,39,27,27,28,27,28,23,32,27,28,24,23,28,27,31,28,27,33,29,23,25,30,25,24,32,24,28,26,24,38,24,23,20,25,22,28,28,39,25,24,30,26,36,30,40,28,25,30,26,29,29,25,24,27,30,23,27,25,24,40,29,34,23,36,30,27,28,30,23,27,38,32,27,30,40,25,38,37,26,29,26,28,26,25,27,42,27,29,25,25,21,28,28,27,24,25,31,30,28,26,28,27,34,26,26,24,26,27,29,28,27,30,31,23,22,25,25,29,24,24,30,22,27,33,23,30,30,26],\"Distance\":{\"__ndarray__\":\"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\",\"dtype\":\"float64\",\"shape\":[418]},\"Engineer\":[0,1,1,1,1,1,1,1,1,1,1,0,1,1,0,1,1,1,1,0,1,0,1,1,1,0,0,1,1,0,1,1,1,1,1,1,1,0,0,0,1,0,1,1,0,1,0,1,1,1,1,1,1,0,1,0,1,1,0,1,1,1,1,1,1,1,1,1,1,0,1,1,1,1,1,1,0,0,0,1,0,0,1,1,1,1,1,1,0,0,1,0,1,1,0,0,1,0,1,1,1,1,1,0,1,1,0,1,0,0,0,1,1,1,1,1,1,0,1,0,1,1,1,1,0,1,1,1,1,1,0,1,1,1,1,1,0,1,1,0,1,1,0,1,1,1,1,0,1,0,1,1,1,1,1,1,1,1,1,1,1,1,1,1,1,1,1,0,1,1,0,1,1,1,1,1,1,0,0,0,1,1,1,1,1,1,1,0,0,1,1,1,1,1,0,0,1,1,1,1,1,1,1,1,1,1,0,1,0,1,1,1,1,1,1,0,1,1,1,1,0,1,1,1,0,1,1,0,0,1,0,1,1,0,1,1,0,0,1,0,0,1,1,1,1,1,1,1,1,1,0,1,1,1,1,1,1,0,1,0,1,1,1,1,1,1,1,1,1,1,1,1,1,0,1,0,1,1,1,0,1,1,1,0,1,0,1,1,1,0,1,1,1,0,1,1,1,0,0,0,1,1,0,1,1,0,1,1,1,0,0,1,1,1,1,1,1,0,1,1,0,1,0,1,1,1,1,0,1,0,1,0,1,1,1,1,0,1,0,1,1,1,1,1,1,1,0,0,0,1,1,1,0,1,1,0,1,1,1,1,1,1,1,1,1,1,1,0,1,0,1,1,1,1,0,1,1,0,1,0,1,1,1,1,0,0,0,1,0,1,1,1,1,0,1,1,1,1,1,1,1,1,1,1,1,1,1,1,1,1,1,1,1,1,1,1,1,1],\"Gender\":[\"Male\",\"Male\",\"Male\",\"Female\",\"Male\",\"Male\",\"Male\",\"Male\",\"Male\",\"Female\",\"Male\",\"Male\",\"Female\",\"Female\",\"Male\",\"Female\",\"Male\",\"Male\",\"Male\",\"Male\",\"Female\",\"Male\",\"Male\",\"Female\",\"Male\",\"Male\",\"Female\",\"Female\",\"Female\",\"Male\",\"Female\",\"Male\",\"Male\",\"Male\",\"Male\",\"Female\",\"Male\",\"Female\",\"Male\",\"Male\",\"Male\",\"Female\",\"Male\",\"Male\",\"Male\",\"Male\",\"Male\",\"Male\",\"Female\",\"Male\",\"Male\",\"Male\",\"Female\",\"Female\",\"Male\",\"Female\",\"Male\",\"Male\",\"Male\",\"Female\",\"Male\",\"Female\",\"Male\",\"Female\",\"Male\",\"Male\",\"Female\",\"Male\",\"Male\",\"Male\",\"Male\",\"Male\",\"Male\",\"Male\",\"Female\",\"Female\",\"Female\",\"Female\",\"Male\",\"Female\",\"Male\",\"Female\",\"Male\",\"Male\",\"Male\",\"Female\",\"Male\",\"Female\",\"Male\",\"Male\",\"Female\",\"Male\",\"Male\",\"Male\",\"Female\",\"Male\",\"Female\",\"Female\",\"Female\",\"Male\",\"Male\",\"Male\",\"Female\",\"Female\",\"Female\",\"Male\",\"Female\",\"Male\",\"Female\",\"Female\",\"Male\",\"Male\",\"Male\",\"Male\",\"Male\",\"Male\",\"Male\",\"Female\",\"Male\",\"Male\",\"Male\",\"Male\",\"Male\",\"Male\",\"Male\",\"Male\",\"Male\",\"Male\",\"Female\",\"Male\",\"Male\",\"Female\",\"Male\",\"Female\",\"Female\",\"Male\",\"Female\",\"Female\",\"Female\",\"Female\",\"Male\",\"Male\",\"Male\",\"Male\",\"Female\",\"Female\",\"Male\",\"Male\",\"Female\",\"Female\",\"Male\",\"Female\",\"Male\",\"Male\",\"Male\",\"Male\",\"Male\",\"Male\",\"Male\",\"Male\",\"Male\",\"Male\",\"Male\",\"Male\",\"Male\",\"Male\",\"Female\",\"Male\",\"Male\",\"Male\",\"Male\",\"Male\",\"Male\",\"Female\",\"Female\",\"Male\",\"Male\",\"Female\",\"Female\",\"Male\",\"Male\",\"Female\",\"Male\",\"Male\",\"Male\",\"Male\",\"Male\",\"Male\",\"Male\",\"Male\",\"Female\",\"Female\",\"Male\",\"Female\",\"Male\",\"Male\",\"Female\",\"Male\",\"Female\",\"Male\",\"Female\",\"Female\",\"Female\",\"Female\",\"Male\",\"Female\",\"Male\",\"Male\",\"Female\",\"Male\",\"Male\",\"Male\",\"Male\",\"Male\",\"Male\",\"Male\",\"Female\",\"Male\",\"Female\",\"Female\",\"Male\",\"Male\",\"Female\",\"Female\",\"Male\",\"Female\",\"Male\",\"Male\",\"Male\",\"Male\",\"Male\",\"Male\",\"Male\",\"Male\",\"Male\",\"Male\",\"Male\",\"Male\",\"Male\",\"Male\",\"Female\",\"Male\",\"Male\",\"Female\",\"Male\",\"Female\",\"Female\",\"Male\",\"Female\",\"Male\",\"Male\",\"Male\",\"Male\",\"Male\",\"Male\",\"Male\",\"Male\",\"Male\",\"Female\",\"Female\",\"Male\",\"Male\",\"Female\",\"Male\",\"Male\",\"Female\",\"Female\",\"Male\",\"Male\",\"Male\",\"Male\",\"Male\",\"Male\",\"Female\",\"Male\",\"Male\",\"Male\",\"Male\",\"Male\",\"Male\",\"Male\",\"Male\",\"Female\",\"Male\",\"Female\",\"Male\",\"Female\",\"Male\",\"Male\",\"Male\",\"Male\",\"Male\",\"Female\",\"Male\",\"Female\",\"Female\",\"Female\",\"Female\",\"Male\",\"Male\",\"Male\",\"Female\",\"Female\",\"Male\",\"Male\",\"Female\",\"Male\",\"Male\",\"Male\",\"Male\",\"Male\",\"Male\",\"Male\",\"Male\",\"Male\",\"Male\",\"Male\",\"Male\",\"Male\",\"Male\",\"Male\",\"Female\",\"Male\",\"Male\",\"Male\",\"Female\",\"Male\",\"Male\",\"Male\",\"Female\",\"Male\",\"Male\",\"Male\",\"Male\",\"Male\",\"Female\",\"Female\",\"Male\",\"Male\",\"Male\",\"Male\",\"Female\",\"Female\",\"Male\",\"Male\",\"Male\",\"Female\",\"Female\",\"Male\",\"Male\",\"Male\",\"Male\",\"Male\",\"Male\",\"Male\",\"Male\",\"Male\",\"Male\",\"Male\",\"Male\",\"Male\",\"Female\",\"Male\",\"Male\",\"Male\",\"Male\",\"Female\",\"Male\",\"Male\",\"Male\",\"Male\",\"Male\",\"Male\",\"Male\",\"Male\",\"Male\",\"Male\",\"Male\",\"Male\",\"Male\",\"Male\",\"Male\",\"Male\",\"Male\",\"Male\",\"Male\",\"Female\",\"Male\",\"Male\",\"Male\",\"Male\",\"Male\",\"Male\",\"Female\",\"Male\",\"Male\",\"Female\",\"Female\",\"Male\",\"Male\",\"Male\",\"Male\",\"Male\",\"Female\",\"Female\",\"Female\",\"Female\",\"Male\",\"Male\",\"Male\",\"Female\",\"Male\",\"Male\",\"Male\",\"Female\",\"Male\",\"Male\",\"Male\"],\"MBA\":{\"__ndarray__\":\"AAAAAAAAAAAAAAAAAADwPwAAAAAAAPA/AAAAAAAAAAAAAAAAAAAAAAAAAAAAAAAAAAAAAAAAAAAAAAAAAAAAAAAAAAAAAAAAAAAAAAAAAAAAAAAAAAAAAAAAAAAAAAAAAAAAAAAAAAAAAAAAAAAAAAAAAAAAAAAAAAAAAAAAAAAAAAAAAAAAAAAAAAAAAAAAAAAAAAAA8D8AAAAAAADwPwAAAAAAAAAAAAAAAAAA8D8AAAAAAADwPwAAAAAAAAAAAAAAAAAAAAAAAAAAAAAAAAAAAAAAAAAAAAAAAAAAAAAAAAAAAAAAAAAAAAAAAAAAAAAAAAAAAAAAAAAAAADwPwAAAAAAAPA/AAAAAAAAAAAAAAAAAAAAAAAAAAAAAAAAAAAAAAAA8D8AAAAAAAAAAAAAAAAAAPA/AAAAAAAA8D8AAAAAAAAAAAAAAAAAAAAAAAAAAAAA8D8AAAAAAAAAAAAAAAAAAAAAAAAAAAAAAAAAAAAAAAAAAAAAAAAAAAAAAAAAAAAAAAAAAAAAAADwPwAAAAAAAPA/AAAAAAAAAAAAAAAAAAAAAAAAAAAAAPA/AAAAAAAA8D8AAAAAAADwPwAAAAAAAAAAAAAAAAAAAAAAAAAAAAAAAAAAAAAAAAAAAAAAAAAAAAAAAAAAAAAAAAAAAAAAAAAAAAAAAAAAAAAAAAAAAAAAAAAAAAAAAPA/AAAAAAAAAAAAAAAAAAAAAAAAAAAAAAAAAAAAAAAAAAAAAAAAAAAAAAAAAAAAAPA/AAAAAAAAAAAAAAAAAAAAAAAAAAAAAAAAAAAAAAAAAAAAAAAAAAAAAAAAAAAAAPA/AAAAAAAA8D8AAAAAAAAAAAAAAAAAAAAAAAAAAAAAAAAAAAAAAAAAAAAAAAAAAPA/AAAAAAAAAAAAAAAAAAAAAAAAAAAAAAAAAAAAAAAAAAAAAAAAAAAAAAAAAAAAAAAAAAAAAAAA8D8AAAAAAAAAAAAAAAAAAPA/AAAAAAAAAAAAAAAAAAAAAAAAAAAAAAAAAAAAAAAA8D8AAAAAAAAAAAAAAAAAAAAAAAAAAAAAAAAAAAAAAAAAAAAAAAAAAAAAAAAAAAAA8D8AAAAAAAAAAAAAAAAAAPA/AAAAAAAA8D8AAAAAAADwPwAAAAAAAAAAAAAAAAAAAAAAAAAAAADwPwAAAAAAAAAAAAAAAAAAAAAAAAAAAAAAAAAAAAAAAAAAAAAAAAAAAAAAAAAAAAAAAAAAAAAAAAAAAAAAAAAAAAAAAAAAAADwPwAAAAAAAAAAAAAAAAAAAAAAAAAAAAAAAAAAAAAAAAAAAAAAAAAAAAAAAAAAAAAAAAAAAAAAAAAAAAAAAAAAAAAAAAAAAAAAAAAAAAAAAAAAAAAAAAAAAAAAAAAAAAAAAAAAAAAAAAAAAAAAAAAA8D8AAAAAAAAAAAAAAAAAAAAAAAAAAAAAAAAAAAAAAAAAAAAAAAAAAAAAAAAAAAAAAAAAAAAAAAAAAAAAAAAAAAAAAAAAAAAAAAAAAAAAAAAAAAAAAAAAAAAAAAAAAAAAAAAAAAAAAAAAAAAAAAAAAPA/AAAAAAAAAAAAAAAAAAAAAAAAAAAAAAAAAAAAAAAAAAAAAAAAAAAAAAAAAAAAAPA/AAAAAAAA8D8AAAAAAADwPwAAAAAAAAAAAAAAAAAAAAAAAAAAAAAAAAAAAAAAAAAAAAAAAAAAAAAAAAAAAADwPwAAAAAAAAAAAAAAAAAAAAAAAAAAAAAAAAAAAAAAAPA/AAAAAAAAAAAAAAAAAAAAAAAAAAAAAPA/AAAAAAAAAAAAAAAAAAAAAAAAAAAAAAAAAAAAAAAAAAAAAAAAAAAAAAAAAAAAAAAAAAAAAAAAAAAAAAAAAAAAAAAAAAAAAPA/AAAAAAAAAAAAAAAAAAAAAAAAAAAAAAAAAAAAAAAAAAAAAAAAAAAAAAAAAAAAAAAAAAAAAAAAAAAAAAAAAADwPwAAAAAAAPA/AAAAAAAAAAAAAAAAAADwPwAAAAAAAAAAAAAAAAAA8D8AAAAAAAAAAAAAAAAAAAAAAAAAAAAAAAAAAAAAAAAAAAAAAAAAAAAAAAAAAAAAAAAAAAAAAAAAAAAAAAAAAAAAAAAAAAAAAAAAAAAAAADwPwAAAAAAAPA/AAAAAAAAAAAAAAAAAAAAAAAAAAAAAAAAAAAAAAAAAAAAAAAAAADwPwAAAAAAAAAAAAAAAAAA8D8AAAAAAAAAAAAAAAAAAAAAAAAAAAAAAAAAAAAAAAAAAAAAAAAAAAAAAAAAAAAA8D8AAAAAAADwPwAAAAAAAPA/AAAAAAAAAAAAAAAAAAAAAAAAAAAAAAAAAAAAAAAA8D8AAAAAAADwPwAAAAAAAPA/AAAAAAAAAAAAAAAAAAAAAAAAAAAAAAAAAAAAAAAAAAAAAAAAAAAAAAAAAAAAAAAAAAAAAAAA8D8AAAAAAAAAAAAAAAAAAAAAAAAAAAAAAAAAAAAAAADwPwAAAAAAAPA/AAAAAAAA8D8AAAAAAAAAAAAAAAAAAAAAAAAAAAAAAAAAAAAAAAAAAAAAAAAAAAAAAAAAAAAA8D8AAAAAAAAAAAAAAAAAAAAAAAAAAAAAAAAAAAAAAADwPwAAAAAAAAAAAAAAAAAAAAAAAAAAAADwPwAAAAAAAAAAAAAAAAAA8D8AAAAAAAAAAAAAAAAAAAAAAAAAAAAAAAAAAAAAAADwPwAAAAAAAAAAAAAAAAAA8D8AAAAAAAAAAAAAAAAAAAAAAAAAAAAAAAAAAAAAAAAAAAAAAAAAAAAAAAAAAAAAAAAAAAAAAADwPwAAAAAAAPA/AAAAAAAAAAAAAAAAAAAAAAAAAAAAAAAAAAAAAAAAAAAAAAAAAADwPwAAAAAAAPA/AAAAAAAAAAAAAAAAAAAAAAAAAAAAAAAAAAAAAAAAAAAAAAAAAADwPwAAAAAAAAAAAAAAAAAAAAAAAAAAAAAAAAAAAAAAAAAAAAAAAAAAAAAAAAAAAADwPwAAAAAAAAAAAAAAAAAAAAAAAAAAAADwPwAAAAAAAAAAAAAAAAAAAAAAAAAAAAAAAAAAAAAAAAAAAAAAAAAAAAAAAAAAAADwPwAAAAAAAPA/AAAAAAAAAAAAAAAAAAAAAAAAAAAAAAAAAAAAAAAAAAAAAAAAAAAAAAAAAAAAAPA/AAAAAAAAAAAAAAAAAADwPwAAAAAAAAAAAAAAAAAAAAAAAAAAAADwPwAAAAAAAPh/AAAAAAAAAAAAAAAAAAAAAAAAAAAAAAAAAAAAAAAAAAAAAAAAAADwPwAAAAAAAAAAAAAAAAAAAAAAAAAAAAAAAAAAAAAAAAAAAAAAAAAA8D8AAAAAAADwPwAAAAAAAAAAAAAAAAAA8D8AAAAAAAAAAAAAAAAAAAAAAAAAAAAAAAAAAAAAAAAAAAAAAAAAAAAAAAAAAAAAAAAAAAAAAADwPwAAAAAAAAAAAAAAAAAA8D8AAAAAAADwPwAAAAAAAPA/AAAAAAAAAAAAAAAAAAAAAAAAAAAAAAAAAAAAAAAAAAAAAAAAAAAAAAAAAAAAAPA/AAAAAAAAAAAAAAAAAAAAAAAAAAAAAPA/AAAAAAAAAAAAAAAAAADwPwAAAAAAAAAAAAAAAAAAAAAAAAAAAAAAAAAAAAAAAAAAAAAAAAAA8D8AAAAAAAAAAAAAAAAAAAAAAAAAAAAAAAAAAAAAAAAAAAAAAAAAAAAAAAAAAAAAAAAAAAAAAAAAAAAAAAAAAAAAAAAAAAAAAAAAAAAAAAAAAAAAAAAAAAAAAAAAAAAAAAAAAAAAAAAAAAAAAAAAAPA/AAAAAAAA8D8AAAAAAAAAAAAAAAAAAAAAAAAAAAAA8D8AAAAAAADwPwAAAAAAAPA/AAAAAAAAAAAAAAAAAAAAAAAAAAAAAAAAAAAAAAAAAAAAAAAAAAAAAAAAAAAAAPA/AAAAAAAAAAAAAAAAAAAAAAAAAAAAAAAAAAAAAAAA8D8AAAAAAAAAAAAAAAAAAPA/AAAAAAAAAAAAAAAAAADwPwAAAAAAAAAAAAAAAAAAAAAAAAAAAAAAAAAAAAAAAPA/AAAAAAAA8D8AAAAAAAAAAAAAAAAAAAAAAAAAAAAAAAAAAAAAAAAAAAAAAAAAAAAAAAAAAAAA8D8AAAAAAAAAAAAAAAAAAAAAAAAAAAAAAAAAAAAAAAAAAAAAAAAAAPA/AAAAAAAAAAAAAAAAAAAAAAAAAAAAAPA/AAAAAAAAAAAAAAAAAADwPwAAAAAAAAAAAAAAAAAAAAAAAAAAAADwPwAAAAAAAAAAAAAAAAAA8D8AAAAAAADwPwAAAAAAAAAAAAAAAAAAAAAAAAAAAAAAAAAAAAAAAPA/AAAAAAAAAAAAAAAAAADwPwAAAAAAAAAAAAAAAAAAAAAAAAAAAAAAAAAAAAAAAAAAAAAAAAAA8D8AAAAAAAAAAAAAAAAAAAAAAAAAAAAAAAA=\",\"dtype\":\"float64\",\"shape\":[418]},\"Salary\":{\"__ndarray__\":\"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\",\"dtype\":\"float64\",\"shape\":[418]},\"Transport\":[\"Car\",\"Public Transport\",\"Public Transport\",\"Car\",\"Car\",\"Public Transport\",\"Public Transport\",\"Public Transport\",\"2Wheeler\",\"2Wheeler\",\"Public Transport\",\"Public Transport\",\"2Wheeler\",\"Public Transport\",\"2Wheeler\",\"Public Transport\",\"Public Transport\",\"Public Transport\",\"Car\",\"Public Transport\",\"Public Transport\",\"2Wheeler\",\"2Wheeler\",\"2Wheeler\",\"Public Transport\",\"2Wheeler\",\"2Wheeler\",\"2Wheeler\",\"2Wheeler\",\"Public Transport\",\"2Wheeler\",\"Public Transport\",\"Public Transport\",\"Public Transport\",\"Public Transport\",\"Public Transport\",\"Car\",\"Public Transport\",\"Public Transport\",\"Public Transport\",\"Public Transport\",\"Public Transport\",\"Public Transport\",\"Public Transport\",\"Public Transport\",\"Public Transport\",\"Public Transport\",\"Public Transport\",\"2Wheeler\",\"Car\",\"Public Transport\",\"Public Transport\",\"Car\",\"Public Transport\",\"Public Transport\",\"Public Transport\",\"Public Transport\",\"Public Transport\",\"Public Transport\",\"2Wheeler\",\"Car\",\"2Wheeler\",\"2Wheeler\",\"2Wheeler\",\"Public Transport\",\"Car\",\"Public Transport\",\"Public Transport\",\"Public Transport\",\"Public Transport\",\"Public Transport\",\"Public Transport\",\"Public Transport\",\"Public Transport\",\"2Wheeler\",\"2Wheeler\",\"Public Transport\",\"Public Transport\",\"Public Transport\",\"Public Transport\",\"Public Transport\",\"2Wheeler\",\"Public Transport\",\"Public Transport\",\"Public Transport\",\"Public Transport\",\"Public Transport\",\"Public Transport\",\"Public Transport\",\"Public Transport\",\"Public Transport\",\"Public Transport\",\"Public Transport\",\"Public Transport\",\"Public Transport\",\"Public Transport\",\"Public Transport\",\"2Wheeler\",\"Public Transport\",\"Public Transport\",\"Public Transport\",\"Public Transport\",\"2Wheeler\",\"Public Transport\",\"Public Transport\",\"Public Transport\",\"Public Transport\",\"Car\",\"2Wheeler\",\"Public Transport\",\"Public Transport\",\"2Wheeler\",\"Public Transport\",\"Car\",\"Public Transport\",\"Public Transport\",\"Public Transport\",\"Public Transport\",\"Public Transport\",\"Public Transport\",\"Public Transport\",\"Public Transport\",\"Public Transport\",\"2Wheeler\",\"2Wheeler\",\"2Wheeler\",\"Public Transport\",\"Public Transport\",\"Public Transport\",\"Public Transport\",\"Car\",\"Public Transport\",\"Public Transport\",\"Public Transport\",\"Public Transport\",\"Public Transport\",\"Public Transport\",\"Public Transport\",\"Public Transport\",\"Public Transport\",\"2Wheeler\",\"Public Transport\",\"Public Transport\",\"Public Transport\",\"Public Transport\",\"2Wheeler\",\"Public Transport\",\"2Wheeler\",\"Public Transport\",\"Public Transport\",\"Public Transport\",\"Public Transport\",\"Public Transport\",\"Public Transport\",\"2Wheeler\",\"Public Transport\",\"Public Transport\",\"2Wheeler\",\"Public Transport\",\"Public Transport\",\"Public Transport\",\"Public Transport\",\"Public Transport\",\"Public Transport\",\"Car\",\"2Wheeler\",\"Public Transport\",\"2Wheeler\",\"Public Transport\",\"2Wheeler\",\"Public Transport\",\"Public Transport\",\"Car\",\"Public Transport\",\"2Wheeler\",\"Public Transport\",\"Public Transport\",\"Public Transport\",\"2Wheeler\",\"Public Transport\",\"Car\",\"Public Transport\",\"2Wheeler\",\"Public Transport\",\"Public Transport\",\"Public Transport\",\"Car\",\"Public Transport\",\"Public Transport\",\"Public Transport\",\"Public Transport\",\"Public Transport\",\"2Wheeler\",\"Public Transport\",\"2Wheeler\",\"Public Transport\",\"2Wheeler\",\"Public Transport\",\"Public Transport\",\"Public Transport\",\"Public Transport\",\"Public Transport\",\"Public Transport\",\"Public Transport\",\"Public Transport\",\"Public Transport\",\"Public Transport\",\"2Wheeler\",\"Public Transport\",\"Public Transport\",\"Public Transport\",\"Car\",\"Car\",\"Public Transport\",\"Public Transport\",\"Public Transport\",\"Car\",\"2Wheeler\",\"Public Transport\",\"2Wheeler\",\"Public Transport\",\"Public Transport\",\"Public Transport\",\"2Wheeler\",\"Public Transport\",\"Public Transport\",\"Public Transport\",\"Public Transport\",\"Public Transport\",\"Car\",\"2Wheeler\",\"Public Transport\",\"Public Transport\",\"Public Transport\",\"2Wheeler\",\"Public Transport\",\"2Wheeler\",\"Public Transport\",\"Public Transport\",\"Public Transport\",\"Public Transport\",\"Public Transport\",\"Public Transport\",\"Public Transport\",\"Public Transport\",\"2Wheeler\",\"Public Transport\",\"Public Transport\",\"Public Transport\",\"Public Transport\",\"Public Transport\",\"Public Transport\",\"Public Transport\",\"Public Transport\",\"2Wheeler\",\"Public Transport\",\"Car\",\"Public Transport\",\"Public Transport\",\"Public Transport\",\"2Wheeler\",\"Public Transport\",\"2Wheeler\",\"Public Transport\",\"Public Transport\",\"Public Transport\",\"2Wheeler\",\"2Wheeler\",\"Car\",\"Public Transport\",\"Public Transport\",\"Public Transport\",\"Public Transport\",\"2Wheeler\",\"Public Transport\",\"Public Transport\",\"Public Transport\",\"Public Transport\",\"Public Transport\",\"2Wheeler\",\"Public Transport\",\"Public Transport\",\"2Wheeler\",\"Public Transport\",\"Public Transport\",\"Public Transport\",\"2Wheeler\",\"2Wheeler\",\"Public Transport\",\"Public Transport\",\"Car\",\"Public Transport\",\"Public Transport\",\"Public Transport\",\"2Wheeler\",\"Public Transport\",\"Public Transport\",\"Car\",\"Public Transport\",\"2Wheeler\",\"Public Transport\",\"2Wheeler\",\"Public Transport\",\"Public Transport\",\"Public Transport\",\"2Wheeler\",\"Public Transport\",\"Public Transport\",\"Public Transport\",\"Public Transport\",\"Public Transport\",\"2Wheeler\",\"2Wheeler\",\"Public Transport\",\"Public Transport\",\"Public Transport\",\"Public Transport\",\"Public Transport\",\"2Wheeler\",\"Car\",\"Public Transport\",\"Public Transport\",\"Public Transport\",\"Public Transport\",\"Public Transport\",\"Public Transport\",\"Public Transport\",\"Car\",\"Public Transport\",\"2Wheeler\",\"Public Transport\",\"Public Transport\",\"Public Transport\",\"Public Transport\",\"Car\",\"2Wheeler\",\"2Wheeler\",\"Public Transport\",\"2Wheeler\",\"2Wheeler\",\"Public Transport\",\"Public Transport\",\"2Wheeler\",\"Public Transport\",\"Public Transport\",\"Public Transport\",\"Public Transport\",\"Public Transport\",\"Public Transport\",\"Car\",\"2Wheeler\",\"Public Transport\",\"Public Transport\",\"Car\",\"Public Transport\",\"Public Transport\",\"Public Transport\",\"2Wheeler\",\"2Wheeler\",\"2Wheeler\",\"Car\",\"Car\",\"Public Transport\",\"Public Transport\",\"Car\",\"Public Transport\",\"Car\",\"Car\",\"Public Transport\",\"Public Transport\",\"2Wheeler\",\"Public Transport\",\"Public Transport\",\"Public Transport\",\"2Wheeler\",\"Car\",\"Public Transport\",\"Public Transport\",\"Public Transport\",\"2Wheeler\",\"Public Transport\",\"Public Transport\",\"Public Transport\",\"Public Transport\",\"Public Transport\",\"Public Transport\",\"Public Transport\",\"Public Transport\",\"Public Transport\",\"2Wheeler\",\"Public Transport\",\"Public Transport\",\"2Wheeler\",\"Public Transport\",\"Public Transport\",\"Public Transport\",\"Public Transport\",\"Public Transport\",\"Public Transport\",\"Public Transport\",\"Public Transport\",\"Public Transport\",\"Public Transport\",\"Public Transport\",\"Public Transport\",\"2Wheeler\",\"Public Transport\",\"Public Transport\",\"Public Transport\",\"Public Transport\",\"Public Transport\",\"Public Transport\",\"Public Transport\",\"Public Transport\",\"2Wheeler\",\"Public Transport\",\"Public Transport\",\"Public Transport\"],\"Work Exp\":[11,5,1,17,21,7,4,6,0,2,6,2,2,8,0,6,1,2,11,3,10,3,14,4,8,1,4,8,4,4,1,0,6,4,0,8,10,14,7,4,6,0,8,1,3,2,7,5,2,18,0,13,20,7,18,5,6,4,5,6,14,5,6,5,2,24,6,9,1,3,5,4,6,6,2,2,0,9,8,6,3,7,4,3,3,0,2,2,6,3,5,5,6,4,3,4,4,5,3,4,9,8,1,3,9,5,1,14,2,4,8,4,9,19,10,3,2,4,3,7,3,2,10,0,0,5,4,4,8,12,19,6,0,3,6,8,9,1,0,7,5,1,10,5,5,5,5,0,3,3,7,4,8,4,3,6,6,5,4,2,6,3,8,1,20,0,7,7,4,6,13,4,21,8,1,6,16,6,7,4,22,3,8,3,6,3,18,10,5,6,3,4,0,3,3,8,7,4,3,14,4,4,5,3,11,3,3,0,7,2,5,14,19,0,8,7,14,0,6,2,5,7,7,4,6,8,3,2,5,19,0,9,4,2,5,7,0,7,0,9,9,5,9,8,0,8,5,2,5,5,5,5,2,6,4,3,12,3,9,6,0,3,2,0,5,6,2,0,16,2,6,0,3,3,9,9,5,2,3,5,2,4,2,2,16,5,6,4,4,2,21,4,5,6,9,5,1,10,8,5,1,2,6,4,7,10,4,11,5,2,2,8,7,2,10,1,6,2,6,19,2,4,2,2,2,5,5,21,3,2,9,3,16,10,20,7,3,8,4,11,6,1,1,5,6,2,4,3,2,22,9,12,3,16,6,3,6,10,2,8,20,10,6,8,20,4,20,19,4,7,4,4,7,1,8,22,8,6,1,1,3,7,5,4,2,4,9,8,6,2,6,3,15,4,4,0,6,4,7,3,4,7,12,4,0,2,4,11,0,1,8,3,1,11,2,6,7,2],\"index\":[0,1,2,3,4,5,6,7,8,9,10,11,12,13,14,15,16,17,18,19,20,21,22,23,24,25,26,27,28,29,30,31,32,33,34,35,36,37,38,39,40,41,42,43,44,45,46,47,48,49,50,51,52,53,54,55,56,57,58,59,60,61,62,63,64,65,66,67,68,69,70,71,72,73,74,75,76,77,78,79,80,81,82,83,84,85,86,87,88,89,90,91,92,93,94,95,96,97,98,99,100,101,102,103,104,105,106,107,108,109,110,111,112,113,114,115,116,117,118,119,120,121,122,123,124,125,126,127,128,129,130,131,132,133,134,135,136,137,138,139,140,141,142,143,144,145,146,147,148,149,150,151,152,153,154,155,156,157,158,159,160,161,162,163,164,165,166,167,168,169,170,171,172,173,174,175,176,177,178,179,180,181,182,183,184,185,186,187,188,189,190,191,192,193,194,195,196,197,198,199,200,201,202,203,204,205,206,207,208,209,210,211,212,213,214,215,216,217,218,219,220,221,222,223,224,225,226,227,228,229,230,231,232,233,234,235,236,237,238,239,240,241,242,243,244,245,246,247,248,249,250,251,252,253,254,255,256,257,258,259,260,261,262,263,264,265,266,267,268,269,270,271,272,273,274,275,276,277,278,279,280,281,282,283,284,285,286,287,288,289,290,291,292,293,294,295,296,297,298,299,300,301,302,303,304,305,306,307,308,309,310,311,312,313,314,315,316,317,318,319,320,321,322,323,324,325,326,327,328,329,330,331,332,333,334,335,336,337,338,339,340,341,342,343,344,345,346,347,348,349,350,351,352,353,354,355,356,357,358,359,360,361,362,363,364,365,366,367,368,369,370,371,372,373,374,375,376,377,378,379,380,381,382,383,384,385,386,387,388,389,390,391,392,393,394,395,396,397,398,399,400,401,402,403,404,405,406,407,408,409,410,411,412,413,414,415,416,417],\"license\":[1,0,0,1,1,0,0,0,0,0,0,0,0,0,0,0,0,0,1,0,0,0,1,0,0,1,0,0,1,1,0,0,1,0,0,0,0,0,0,0,1,0,0,0,1,0,0,0,0,1,0,0,0,0,1,0,0,1,0,0,0,0,0,0,0,1,0,0,0,0,0,0,0,0,0,0,0,0,0,0,1,0,0,0,0,0,0,0,0,0,0,0,1,0,0,0,0,0,0,0,0,0,0,0,0,0,0,1,0,0,0,0,0,1,0,0,0,0,0,0,0,0,0,0,0,0,0,1,0,0,1,0,0,0,0,0,0,0,0,0,1,0,0,0,0,0,0,0,0,0,0,0,0,0,0,0,0,1,0,0,0,0,0,0,1,1,0,1,0,1,1,0,0,0,0,0,0,0,0,0,1,0,1,0,0,0,1,0,0,0,0,0,0,0,0,1,0,0,0,0,0,0,0,0,0,0,0,0,0,1,0,1,1,0,1,0,0,0,0,0,0,0,0,0,0,0,1,0,0,1,0,0,1,1,1,0,1,0,0,0,0,0,0,0,0,1,0,0,0,0,1,0,0,1,0,0,1,0,0,0,0,0,0,1,0,0,0,0,1,0,0,0,1,0,0,0,0,0,1,1,0,0,0,0,0,0,0,0,0,0,1,0,0,0,0,0,0,0,0,1,1,0,0,1,0,0,0,0,1,0,1,1,0,0,0,0,1,1,0,1,1,0,0,0,0,0,0,1,0,0,0,0,0,0,1,1,0,0,0,1,0,0,1,0,0,0,0,0,0,1,0,0,0,1,1,1,0,1,1,0,1,1,0,0,1,0,1,1,0,0,1,0,0,0,0,1,0,0,0,0,0,0,0,1,0,0,0,0,0,1,0,0,1,0,0,0,0,0,0,0,0,0,0,0,0,0,0,0,0,0,0,0,0,0,0,0,1,1]},\"selected\":{\"id\":\"2098\",\"type\":\"Selection\"},\"selection_policy\":{\"id\":\"2097\",\"type\":\"UnionRenderers\"}},\"id\":\"1981\",\"type\":\"ColumnDataSource\"},{\"attributes\":{\"axis_label\":\"Work Exp\",\"formatter\":{\"id\":\"2019\",\"type\":\"BasicTickFormatter\"},\"plot\":{\"id\":\"1982\",\"subtype\":\"Figure\",\"type\":\"Plot\"},\"ticker\":{\"id\":\"1992\",\"type\":\"BasicTicker\"}},\"id\":\"1991\",\"type\":\"LinearAxis\"},{\"attributes\":{},\"id\":\"2017\",\"type\":\"BasicTickFormatter\"},{\"attributes\":{\"fill_color\":{\"field\":\"Transport\",\"transform\":{\"id\":\"2006\",\"type\":\"CategoricalColorMapper\"}},\"line_color\":{\"field\":\"Transport\",\"transform\":{\"id\":\"2006\",\"type\":\"CategoricalColorMapper\"}},\"size\":{\"units\":\"screen\",\"value\":8},\"x\":{\"field\":\"Work Exp\"},\"y\":{\"field\":\"Distance\"}},\"id\":\"2010\",\"type\":\"Circle\"},{\"attributes\":{},\"id\":\"2097\",\"type\":\"UnionRenderers\"},{\"attributes\":{\"axis_label\":\"Distance\",\"formatter\":{\"id\":\"2017\",\"type\":\"BasicTickFormatter\"},\"plot\":{\"id\":\"1982\",\"subtype\":\"Figure\",\"type\":\"Plot\"},\"ticker\":{\"id\":\"1997\",\"type\":\"BasicTicker\"}},\"id\":\"1996\",\"type\":\"LinearAxis\"},{\"attributes\":{\"items\":[{\"id\":\"2022\",\"type\":\"LegendItem\"}],\"plot\":{\"id\":\"1982\",\"subtype\":\"Figure\",\"type\":\"Plot\"}},\"id\":\"2021\",\"type\":\"Legend\"},{\"attributes\":{\"callback\":null,\"tooltips\":[[\"Gender\",\"@Gender\"]]},\"id\":\"2007\",\"type\":\"HoverTool\"},{\"attributes\":{\"callback\":null},\"id\":\"1983\",\"type\":\"DataRange1d\"},{\"attributes\":{\"plot\":null,\"text\":\"\"},\"id\":\"2014\",\"type\":\"Title\"},{\"attributes\":{\"bottom_units\":\"screen\",\"fill_alpha\":{\"value\":0.5},\"fill_color\":{\"value\":\"lightgrey\"},\"left_units\":\"screen\",\"level\":\"overlay\",\"line_alpha\":{\"value\":1.0},\"line_color\":{\"value\":\"black\"},\"line_dash\":[4,4],\"line_width\":{\"value\":2},\"plot\":null,\"render_mode\":\"css\",\"right_units\":\"screen\",\"top_units\":\"screen\"},\"id\":\"2002\",\"type\":\"BoxAnnotation\"},{\"attributes\":{},\"id\":\"2019\",\"type\":\"BasicTickFormatter\"},{\"attributes\":{},\"id\":\"2098\",\"type\":\"Selection\"},{\"attributes\":{\"plot\":{\"id\":\"1982\",\"subtype\":\"Figure\",\"type\":\"Plot\"},\"ticker\":{\"id\":\"1992\",\"type\":\"BasicTicker\"}},\"id\":\"1995\",\"type\":\"Grid\"},{\"attributes\":{},\"id\":\"1987\",\"type\":\"LinearScale\"},{\"attributes\":{},\"id\":\"1989\",\"type\":\"LinearScale\"},{\"attributes\":{},\"id\":\"1997\",\"type\":\"BasicTicker\"},{\"attributes\":{\"callback\":null,\"overlay\":{\"id\":\"2002\",\"type\":\"BoxAnnotation\"}},\"id\":\"2001\",\"type\":\"BoxSelectTool\"},{\"attributes\":{},\"id\":\"1992\",\"type\":\"BasicTicker\"},{\"attributes\":{\"source\":{\"id\":\"1981\",\"type\":\"ColumnDataSource\"}},\"id\":\"2013\",\"type\":\"CDSView\"},{\"attributes\":{\"data_source\":{\"id\":\"1981\",\"type\":\"ColumnDataSource\"},\"glyph\":{\"id\":\"2010\",\"type\":\"Circle\"},\"hover_glyph\":null,\"muted_glyph\":null,\"nonselection_glyph\":{\"id\":\"2011\",\"type\":\"Circle\"},\"selection_glyph\":null,\"view\":{\"id\":\"2013\",\"type\":\"CDSView\"}},\"id\":\"2012\",\"type\":\"GlyphRenderer\"},{\"attributes\":{\"label\":{\"field\":\"Transport\"},\"renderers\":[{\"id\":\"2012\",\"type\":\"GlyphRenderer\"}]},\"id\":\"2022\",\"type\":\"LegendItem\"},{\"attributes\":{\"factors\":[\"Public Transport\",\"2Wheeler\",\"Car\"],\"palette\":[\"skyblue\",\"green\",\"red\"]},\"id\":\"2006\",\"type\":\"CategoricalColorMapper\"}],\"root_ids\":[\"1982\"]},\"title\":\"Bokeh Application\",\"version\":\"1.0.4\"}};\n",
              "  var render_items = [{\"docid\":\"86f20f60-0755-473f-bd26-ac0dcb8b4bfc\",\"roots\":{\"1982\":\"501ea643-87f5-4e8f-8ff9-e83a8ac0a3f7\"}}];\n",
              "  root.Bokeh.embed.embed_items_notebook(docs_json, render_items);\n",
              "\n",
              "  }\n",
              "  if (root.Bokeh !== undefined) {\n",
              "    embed_document(root);\n",
              "  } else {\n",
              "    var attempts = 0;\n",
              "    var timer = setInterval(function(root) {\n",
              "      if (root.Bokeh !== undefined) {\n",
              "        embed_document(root);\n",
              "        clearInterval(timer);\n",
              "      }\n",
              "      attempts++;\n",
              "      if (attempts > 100) {\n",
              "        console.log(\"Bokeh: ERROR: Unable to run BokehJS code because BokehJS library is missing\");\n",
              "        clearInterval(timer);\n",
              "      }\n",
              "    }, 10, root)\n",
              "  }\n",
              "})(window);"
            ],
            "application/vnd.bokehjs_exec.v0+json": ""
          },
          "metadata": {
            "tags": [],
            "application/vnd.bokehjs_exec.v0+json": {
              "id": "1982"
            }
          }
        }
      ]
    },
    {
      "cell_type": "code",
      "metadata": {
        "id": "FWDCgm6oTiqJ",
        "colab_type": "code",
        "outputId": "562cc33d-75f4-4351-ab35-d22fa41f7f6f",
        "colab": {
          "base_uri": "https://localhost:8080/",
          "height": 617
        }
      },
      "source": [
        "# Convert df to a ColumnDataSource: source\n",
        "source = ColumnDataSource(df_3Class)\n",
        "\n",
        "# Make a CategoricalColorMapper object: color_mapper\n",
        "color_mapper = CategoricalColorMapper(factors=['Public Transport', '2Wheeler', 'Car'],\n",
        "                                      palette=['skyblue', 'green', 'red'])\n",
        "\n",
        "# Add a circle glyph to the figure p1\n",
        "p1 = figure(x_axis_label='Distance', y_axis_label='Age',tools = 'box_select')\n",
        "\n",
        "\n",
        "p1.circle('Distance', 'Age', source=source,\n",
        "            color=dict(field='Transport', transform=color_mapper),legend='Transport',size=8)\n",
        "\n",
        "# Add a circle glyph to the figure p2\n",
        "p2 = figure(x_axis_label='Salary', y_axis_label='Age',tools = 'box_select')\n",
        "\n",
        "\n",
        "p2.circle('Salary', 'Age', source=source,\n",
        "            color=dict(field='Transport', transform=color_mapper),legend='Transport',size=8)\n",
        "\n",
        "# Create a HoverTool object: hover\n",
        "hover = HoverTool(tooltips=[('Gender','@Gender')])\n",
        "\n",
        "p1.add_tools(hover)\n",
        "p2.add_tools(hover)\n",
        "\n",
        "# Put p1 and p2 into a horizontal row: layout\n",
        "layout = row(p1, p2)\n",
        "\n",
        "show(layout)"
      ],
      "execution_count": 118,
      "outputs": [
        {
          "output_type": "display_data",
          "data": {
            "application/javascript": [
              "\n",
              "(function(root) {\n",
              "  function now() {\n",
              "    return new Date();\n",
              "  }\n",
              "\n",
              "  var force = true;\n",
              "\n",
              "  if (typeof (root._bokeh_onload_callbacks) === \"undefined\" || force === true) {\n",
              "    root._bokeh_onload_callbacks = [];\n",
              "    root._bokeh_is_loading = undefined;\n",
              "  }\n",
              "\n",
              "  var JS_MIME_TYPE = 'application/javascript';\n",
              "  var HTML_MIME_TYPE = 'text/html';\n",
              "  var EXEC_MIME_TYPE = 'application/vnd.bokehjs_exec.v0+json';\n",
              "  var CLASS_NAME = 'output_bokeh rendered_html';\n",
              "\n",
              "  /**\n",
              "   * Render data to the DOM node\n",
              "   */\n",
              "  function render(props, node) {\n",
              "    var script = document.createElement(\"script\");\n",
              "    node.appendChild(script);\n",
              "  }\n",
              "\n",
              "  /**\n",
              "   * Handle when an output is cleared or removed\n",
              "   */\n",
              "  function handleClearOutput(event, handle) {\n",
              "    var cell = handle.cell;\n",
              "\n",
              "    var id = cell.output_area._bokeh_element_id;\n",
              "    var server_id = cell.output_area._bokeh_server_id;\n",
              "    // Clean up Bokeh references\n",
              "    if (id != null && id in Bokeh.index) {\n",
              "      Bokeh.index[id].model.document.clear();\n",
              "      delete Bokeh.index[id];\n",
              "    }\n",
              "\n",
              "    if (server_id !== undefined) {\n",
              "      // Clean up Bokeh references\n",
              "      var cmd = \"from bokeh.io.state import curstate; print(curstate().uuid_to_server['\" + server_id + \"'].get_sessions()[0].document.roots[0]._id)\";\n",
              "      cell.notebook.kernel.execute(cmd, {\n",
              "        iopub: {\n",
              "          output: function(msg) {\n",
              "            var id = msg.content.text.trim();\n",
              "            if (id in Bokeh.index) {\n",
              "              Bokeh.index[id].model.document.clear();\n",
              "              delete Bokeh.index[id];\n",
              "            }\n",
              "          }\n",
              "        }\n",
              "      });\n",
              "      // Destroy server and session\n",
              "      var cmd = \"import bokeh.io.notebook as ion; ion.destroy_server('\" + server_id + \"')\";\n",
              "      cell.notebook.kernel.execute(cmd);\n",
              "    }\n",
              "  }\n",
              "\n",
              "  /**\n",
              "   * Handle when a new output is added\n",
              "   */\n",
              "  function handleAddOutput(event, handle) {\n",
              "    var output_area = handle.output_area;\n",
              "    var output = handle.output;\n",
              "\n",
              "    // limit handleAddOutput to display_data with EXEC_MIME_TYPE content only\n",
              "    if ((output.output_type != \"display_data\") || (!output.data.hasOwnProperty(EXEC_MIME_TYPE))) {\n",
              "      return\n",
              "    }\n",
              "\n",
              "    var toinsert = output_area.element.find(\".\" + CLASS_NAME.split(' ')[0]);\n",
              "\n",
              "    if (output.metadata[EXEC_MIME_TYPE][\"id\"] !== undefined) {\n",
              "      toinsert[toinsert.length - 1].firstChild.textContent = output.data[JS_MIME_TYPE];\n",
              "      // store reference to embed id on output_area\n",
              "      output_area._bokeh_element_id = output.metadata[EXEC_MIME_TYPE][\"id\"];\n",
              "    }\n",
              "    if (output.metadata[EXEC_MIME_TYPE][\"server_id\"] !== undefined) {\n",
              "      var bk_div = document.createElement(\"div\");\n",
              "      bk_div.innerHTML = output.data[HTML_MIME_TYPE];\n",
              "      var script_attrs = bk_div.children[0].attributes;\n",
              "      for (var i = 0; i < script_attrs.length; i++) {\n",
              "        toinsert[toinsert.length - 1].firstChild.setAttribute(script_attrs[i].name, script_attrs[i].value);\n",
              "      }\n",
              "      // store reference to server id on output_area\n",
              "      output_area._bokeh_server_id = output.metadata[EXEC_MIME_TYPE][\"server_id\"];\n",
              "    }\n",
              "  }\n",
              "\n",
              "  function register_renderer(events, OutputArea) {\n",
              "\n",
              "    function append_mime(data, metadata, element) {\n",
              "      // create a DOM node to render to\n",
              "      var toinsert = this.create_output_subarea(\n",
              "        metadata,\n",
              "        CLASS_NAME,\n",
              "        EXEC_MIME_TYPE\n",
              "      );\n",
              "      this.keyboard_manager.register_events(toinsert);\n",
              "      // Render to node\n",
              "      var props = {data: data, metadata: metadata[EXEC_MIME_TYPE]};\n",
              "      render(props, toinsert[toinsert.length - 1]);\n",
              "      element.append(toinsert);\n",
              "      return toinsert\n",
              "    }\n",
              "\n",
              "    /* Handle when an output is cleared or removed */\n",
              "    events.on('clear_output.CodeCell', handleClearOutput);\n",
              "    events.on('delete.Cell', handleClearOutput);\n",
              "\n",
              "    /* Handle when a new output is added */\n",
              "    events.on('output_added.OutputArea', handleAddOutput);\n",
              "\n",
              "    /**\n",
              "     * Register the mime type and append_mime function with output_area\n",
              "     */\n",
              "    OutputArea.prototype.register_mime_type(EXEC_MIME_TYPE, append_mime, {\n",
              "      /* Is output safe? */\n",
              "      safe: true,\n",
              "      /* Index of renderer in `output_area.display_order` */\n",
              "      index: 0\n",
              "    });\n",
              "  }\n",
              "\n",
              "  // register the mime type if in Jupyter Notebook environment and previously unregistered\n",
              "  if (root.Jupyter !== undefined) {\n",
              "    var events = require('base/js/events');\n",
              "    var OutputArea = require('notebook/js/outputarea').OutputArea;\n",
              "\n",
              "    if (OutputArea.prototype.mime_types().indexOf(EXEC_MIME_TYPE) == -1) {\n",
              "      register_renderer(events, OutputArea);\n",
              "    }\n",
              "  }\n",
              "\n",
              "  \n",
              "  if (typeof (root._bokeh_timeout) === \"undefined\" || force === true) {\n",
              "    root._bokeh_timeout = Date.now() + 5000;\n",
              "    root._bokeh_failed_load = false;\n",
              "  }\n",
              "\n",
              "  var NB_LOAD_WARNING = {'data': {'text/html':\n",
              "     \"<div style='background-color: #fdd'>\\n\"+\n",
              "     \"<p>\\n\"+\n",
              "     \"BokehJS does not appear to have successfully loaded. If loading BokehJS from CDN, this \\n\"+\n",
              "     \"may be due to a slow or bad network connection. Possible fixes:\\n\"+\n",
              "     \"</p>\\n\"+\n",
              "     \"<ul>\\n\"+\n",
              "     \"<li>re-rerun `output_notebook()` to attempt to load from CDN again, or</li>\\n\"+\n",
              "     \"<li>use INLINE resources instead, as so:</li>\\n\"+\n",
              "     \"</ul>\\n\"+\n",
              "     \"<code>\\n\"+\n",
              "     \"from bokeh.resources import INLINE\\n\"+\n",
              "     \"output_notebook(resources=INLINE)\\n\"+\n",
              "     \"</code>\\n\"+\n",
              "     \"</div>\"}};\n",
              "\n",
              "  function display_loaded() {\n",
              "    var el = document.getElementById(null);\n",
              "    if (el != null) {\n",
              "      el.textContent = \"BokehJS is loading...\";\n",
              "    }\n",
              "    if (root.Bokeh !== undefined) {\n",
              "      if (el != null) {\n",
              "        el.textContent = \"BokehJS \" + root.Bokeh.version + \" successfully loaded.\";\n",
              "      }\n",
              "    } else if (Date.now() < root._bokeh_timeout) {\n",
              "      setTimeout(display_loaded, 100)\n",
              "    }\n",
              "  }\n",
              "\n",
              "\n",
              "  function run_callbacks() {\n",
              "    try {\n",
              "      root._bokeh_onload_callbacks.forEach(function(callback) { callback() });\n",
              "    }\n",
              "    finally {\n",
              "      delete root._bokeh_onload_callbacks\n",
              "    }\n",
              "    console.info(\"Bokeh: all callbacks have finished\");\n",
              "  }\n",
              "\n",
              "  function load_libs(js_urls, callback) {\n",
              "    root._bokeh_onload_callbacks.push(callback);\n",
              "    if (root._bokeh_is_loading > 0) {\n",
              "      console.log(\"Bokeh: BokehJS is being loaded, scheduling callback at\", now());\n",
              "      return null;\n",
              "    }\n",
              "    if (js_urls == null || js_urls.length === 0) {\n",
              "      run_callbacks();\n",
              "      return null;\n",
              "    }\n",
              "    console.log(\"Bokeh: BokehJS not loaded, scheduling load and callback at\", now());\n",
              "    root._bokeh_is_loading = js_urls.length;\n",
              "    for (var i = 0; i < js_urls.length; i++) {\n",
              "      var url = js_urls[i];\n",
              "      var s = document.createElement('script');\n",
              "      s.src = url;\n",
              "      s.async = false;\n",
              "      s.onreadystatechange = s.onload = function() {\n",
              "        root._bokeh_is_loading--;\n",
              "        if (root._bokeh_is_loading === 0) {\n",
              "          console.log(\"Bokeh: all BokehJS libraries loaded\");\n",
              "          run_callbacks()\n",
              "        }\n",
              "      };\n",
              "      s.onerror = function() {\n",
              "        console.warn(\"failed to load library \" + url);\n",
              "      };\n",
              "      console.log(\"Bokeh: injecting script tag for BokehJS library: \", url);\n",
              "      document.getElementsByTagName(\"head\")[0].appendChild(s);\n",
              "    }\n",
              "  };\n",
              "\n",
              "  var js_urls = [\"https://cdn.pydata.org/bokeh/release/bokeh-1.0.4.min.js\", \"https://cdn.pydata.org/bokeh/release/bokeh-widgets-1.0.4.min.js\", \"https://cdn.pydata.org/bokeh/release/bokeh-tables-1.0.4.min.js\", \"https://cdn.pydata.org/bokeh/release/bokeh-gl-1.0.4.min.js\"];\n",
              "\n",
              "  var inline_js = [\n",
              "    function(Bokeh) {\n",
              "      Bokeh.set_log_level(\"info\");\n",
              "    },\n",
              "    \n",
              "    function(Bokeh) {\n",
              "      \n",
              "    },\n",
              "    function(Bokeh) {\n",
              "      console.log(\"Bokeh: injecting CSS: https://cdn.pydata.org/bokeh/release/bokeh-1.0.4.min.css\");\n",
              "      Bokeh.embed.inject_css(\"https://cdn.pydata.org/bokeh/release/bokeh-1.0.4.min.css\");\n",
              "      console.log(\"Bokeh: injecting CSS: https://cdn.pydata.org/bokeh/release/bokeh-widgets-1.0.4.min.css\");\n",
              "      Bokeh.embed.inject_css(\"https://cdn.pydata.org/bokeh/release/bokeh-widgets-1.0.4.min.css\");\n",
              "      console.log(\"Bokeh: injecting CSS: https://cdn.pydata.org/bokeh/release/bokeh-tables-1.0.4.min.css\");\n",
              "      Bokeh.embed.inject_css(\"https://cdn.pydata.org/bokeh/release/bokeh-tables-1.0.4.min.css\");\n",
              "    }\n",
              "  ];\n",
              "\n",
              "  function run_inline_js() {\n",
              "    \n",
              "    if ((root.Bokeh !== undefined) || (force === true)) {\n",
              "      for (var i = 0; i < inline_js.length; i++) {\n",
              "        inline_js[i].call(root, root.Bokeh);\n",
              "      }} else if (Date.now() < root._bokeh_timeout) {\n",
              "      setTimeout(run_inline_js, 100);\n",
              "    } else if (!root._bokeh_failed_load) {\n",
              "      console.log(\"Bokeh: BokehJS failed to load within specified timeout.\");\n",
              "      root._bokeh_failed_load = true;\n",
              "    } else if (force !== true) {\n",
              "      var cell = $(document.getElementById(null)).parents('.cell').data().cell;\n",
              "      cell.output_area.append_execute_result(NB_LOAD_WARNING)\n",
              "    }\n",
              "\n",
              "  }\n",
              "\n",
              "  if (root._bokeh_is_loading === 0) {\n",
              "    console.log(\"Bokeh: BokehJS loaded, going straight to plotting\");\n",
              "    run_inline_js();\n",
              "  } else {\n",
              "    load_libs(js_urls, function() {\n",
              "      console.log(\"Bokeh: BokehJS plotting callback run at\", now());\n",
              "      run_inline_js();\n",
              "    });\n",
              "  }\n",
              "}(window));"
            ],
            "application/vnd.bokehjs_load.v0+json": "\n(function(root) {\n  function now() {\n    return new Date();\n  }\n\n  var force = true;\n\n  if (typeof (root._bokeh_onload_callbacks) === \"undefined\" || force === true) {\n    root._bokeh_onload_callbacks = [];\n    root._bokeh_is_loading = undefined;\n  }\n\n  \n\n  \n  if (typeof (root._bokeh_timeout) === \"undefined\" || force === true) {\n    root._bokeh_timeout = Date.now() + 5000;\n    root._bokeh_failed_load = false;\n  }\n\n  var NB_LOAD_WARNING = {'data': {'text/html':\n     \"<div style='background-color: #fdd'>\\n\"+\n     \"<p>\\n\"+\n     \"BokehJS does not appear to have successfully loaded. If loading BokehJS from CDN, this \\n\"+\n     \"may be due to a slow or bad network connection. Possible fixes:\\n\"+\n     \"</p>\\n\"+\n     \"<ul>\\n\"+\n     \"<li>re-rerun `output_notebook()` to attempt to load from CDN again, or</li>\\n\"+\n     \"<li>use INLINE resources instead, as so:</li>\\n\"+\n     \"</ul>\\n\"+\n     \"<code>\\n\"+\n     \"from bokeh.resources import INLINE\\n\"+\n     \"output_notebook(resources=INLINE)\\n\"+\n     \"</code>\\n\"+\n     \"</div>\"}};\n\n  function display_loaded() {\n    var el = document.getElementById(null);\n    if (el != null) {\n      el.textContent = \"BokehJS is loading...\";\n    }\n    if (root.Bokeh !== undefined) {\n      if (el != null) {\n        el.textContent = \"BokehJS \" + root.Bokeh.version + \" successfully loaded.\";\n      }\n    } else if (Date.now() < root._bokeh_timeout) {\n      setTimeout(display_loaded, 100)\n    }\n  }\n\n\n  function run_callbacks() {\n    try {\n      root._bokeh_onload_callbacks.forEach(function(callback) { callback() });\n    }\n    finally {\n      delete root._bokeh_onload_callbacks\n    }\n    console.info(\"Bokeh: all callbacks have finished\");\n  }\n\n  function load_libs(js_urls, callback) {\n    root._bokeh_onload_callbacks.push(callback);\n    if (root._bokeh_is_loading > 0) {\n      console.log(\"Bokeh: BokehJS is being loaded, scheduling callback at\", now());\n      return null;\n    }\n    if (js_urls == null || js_urls.length === 0) {\n      run_callbacks();\n      return null;\n    }\n    console.log(\"Bokeh: BokehJS not loaded, scheduling load and callback at\", now());\n    root._bokeh_is_loading = js_urls.length;\n    for (var i = 0; i < js_urls.length; i++) {\n      var url = js_urls[i];\n      var s = document.createElement('script');\n      s.src = url;\n      s.async = false;\n      s.onreadystatechange = s.onload = function() {\n        root._bokeh_is_loading--;\n        if (root._bokeh_is_loading === 0) {\n          console.log(\"Bokeh: all BokehJS libraries loaded\");\n          run_callbacks()\n        }\n      };\n      s.onerror = function() {\n        console.warn(\"failed to load library \" + url);\n      };\n      console.log(\"Bokeh: injecting script tag for BokehJS library: \", url);\n      document.getElementsByTagName(\"head\")[0].appendChild(s);\n    }\n  };\n\n  var js_urls = [\"https://cdn.pydata.org/bokeh/release/bokeh-1.0.4.min.js\", \"https://cdn.pydata.org/bokeh/release/bokeh-widgets-1.0.4.min.js\", \"https://cdn.pydata.org/bokeh/release/bokeh-tables-1.0.4.min.js\", \"https://cdn.pydata.org/bokeh/release/bokeh-gl-1.0.4.min.js\"];\n\n  var inline_js = [\n    function(Bokeh) {\n      Bokeh.set_log_level(\"info\");\n    },\n    \n    function(Bokeh) {\n      \n    },\n    function(Bokeh) {\n      console.log(\"Bokeh: injecting CSS: https://cdn.pydata.org/bokeh/release/bokeh-1.0.4.min.css\");\n      Bokeh.embed.inject_css(\"https://cdn.pydata.org/bokeh/release/bokeh-1.0.4.min.css\");\n      console.log(\"Bokeh: injecting CSS: https://cdn.pydata.org/bokeh/release/bokeh-widgets-1.0.4.min.css\");\n      Bokeh.embed.inject_css(\"https://cdn.pydata.org/bokeh/release/bokeh-widgets-1.0.4.min.css\");\n      console.log(\"Bokeh: injecting CSS: https://cdn.pydata.org/bokeh/release/bokeh-tables-1.0.4.min.css\");\n      Bokeh.embed.inject_css(\"https://cdn.pydata.org/bokeh/release/bokeh-tables-1.0.4.min.css\");\n    }\n  ];\n\n  function run_inline_js() {\n    \n    if ((root.Bokeh !== undefined) || (force === true)) {\n      for (var i = 0; i < inline_js.length; i++) {\n        inline_js[i].call(root, root.Bokeh);\n      }} else if (Date.now() < root._bokeh_timeout) {\n      setTimeout(run_inline_js, 100);\n    } else if (!root._bokeh_failed_load) {\n      console.log(\"Bokeh: BokehJS failed to load within specified timeout.\");\n      root._bokeh_failed_load = true;\n    } else if (force !== true) {\n      var cell = $(document.getElementById(null)).parents('.cell').data().cell;\n      cell.output_area.append_execute_result(NB_LOAD_WARNING)\n    }\n\n  }\n\n  if (root._bokeh_is_loading === 0) {\n    console.log(\"Bokeh: BokehJS loaded, going straight to plotting\");\n    run_inline_js();\n  } else {\n    load_libs(js_urls, function() {\n      console.log(\"Bokeh: BokehJS plotting callback run at\", now());\n      run_inline_js();\n    });\n  }\n}(window));"
          },
          "metadata": {
            "tags": []
          }
        },
        {
          "output_type": "display_data",
          "data": {
            "text/html": [
              "\n",
              "\n",
              "\n",
              "\n",
              "\n",
              "\n",
              "  <div class=\"bk-root\" id=\"79ce0b32-6060-40e7-8af8-2373bdc65a2e\" data-root-id=\"2235\"></div>\n"
            ]
          },
          "metadata": {
            "tags": []
          }
        },
        {
          "output_type": "display_data",
          "data": {
            "application/javascript": [
              "(function(root) {\n",
              "  function embed_document(root) {\n",
              "    \n",
              "  var docs_json = {\"53f3171f-79f9-4f77-aaee-dafd4de80ab1\":{\"roots\":{\"references\":[{\"attributes\":{\"children\":[{\"id\":\"2156\",\"subtype\":\"Figure\",\"type\":\"Plot\"},{\"id\":\"2194\",\"subtype\":\"Figure\",\"type\":\"Plot\"}]},\"id\":\"2235\",\"type\":\"Row\"},{\"attributes\":{\"data_source\":{\"id\":\"2154\",\"type\":\"ColumnDataSource\"},\"glyph\":{\"id\":\"2219\",\"type\":\"Circle\"},\"hover_glyph\":null,\"muted_glyph\":null,\"nonselection_glyph\":{\"id\":\"2220\",\"type\":\"Circle\"},\"selection_glyph\":null,\"view\":{\"id\":\"2222\",\"type\":\"CDSView\"}},\"id\":\"2221\",\"type\":\"GlyphRenderer\"},{\"attributes\":{\"bottom_units\":\"screen\",\"fill_alpha\":{\"value\":0.5},\"fill_color\":{\"value\":\"lightgrey\"},\"left_units\":\"screen\",\"level\":\"overlay\",\"line_alpha\":{\"value\":1.0},\"line_color\":{\"value\":\"black\"},\"line_dash\":[4,4],\"line_width\":{\"value\":2},\"plot\":null,\"render_mode\":\"css\",\"right_units\":\"screen\",\"top_units\":\"screen\"},\"id\":\"2214\",\"type\":\"BoxAnnotation\"},{\"attributes\":{\"bottom_units\":\"screen\",\"fill_alpha\":{\"value\":0.5},\"fill_color\":{\"value\":\"lightgrey\"},\"left_units\":\"screen\",\"level\":\"overlay\",\"line_alpha\":{\"value\":1.0},\"line_color\":{\"value\":\"black\"},\"line_dash\":[4,4],\"line_width\":{\"value\":2},\"plot\":null,\"render_mode\":\"css\",\"right_units\":\"screen\",\"top_units\":\"screen\"},\"id\":\"2176\",\"type\":\"BoxAnnotation\"},{\"attributes\":{\"items\":[{\"id\":\"2193\",\"type\":\"LegendItem\"}],\"plot\":{\"id\":\"2156\",\"subtype\":\"Figure\",\"type\":\"Plot\"}},\"id\":\"2192\",\"type\":\"Legend\"},{\"attributes\":{\"axis_label\":\"Salary\",\"formatter\":{\"id\":\"2228\",\"type\":\"BasicTickFormatter\"},\"plot\":{\"id\":\"2194\",\"subtype\":\"Figure\",\"type\":\"Plot\"},\"ticker\":{\"id\":\"2204\",\"type\":\"BasicTicker\"}},\"id\":\"2203\",\"type\":\"LinearAxis\"},{\"attributes\":{\"fill_color\":{\"field\":\"Transport\",\"transform\":{\"id\":\"2155\",\"type\":\"CategoricalColorMapper\"}},\"line_color\":{\"field\":\"Transport\",\"transform\":{\"id\":\"2155\",\"type\":\"CategoricalColorMapper\"}},\"size\":{\"units\":\"screen\",\"value\":8},\"x\":{\"field\":\"Distance\"},\"y\":{\"field\":\"Age\"}},\"id\":\"2181\",\"type\":\"Circle\"},{\"attributes\":{},\"id\":\"2228\",\"type\":\"BasicTickFormatter\"},{\"attributes\":{\"factors\":[\"Public Transport\",\"2Wheeler\",\"Car\"],\"palette\":[\"skyblue\",\"green\",\"red\"]},\"id\":\"2155\",\"type\":\"CategoricalColorMapper\"},{\"attributes\":{\"label\":{\"field\":\"Transport\"},\"renderers\":[{\"id\":\"2221\",\"type\":\"GlyphRenderer\"}]},\"id\":\"2231\",\"type\":\"LegendItem\"},{\"attributes\":{\"source\":{\"id\":\"2154\",\"type\":\"ColumnDataSource\"}},\"id\":\"2222\",\"type\":\"CDSView\"},{\"attributes\":{},\"id\":\"2199\",\"type\":\"LinearScale\"},{\"attributes\":{\"fill_color\":{\"field\":\"Transport\",\"transform\":{\"id\":\"2155\",\"type\":\"CategoricalColorMapper\"}},\"line_color\":{\"field\":\"Transport\",\"transform\":{\"id\":\"2155\",\"type\":\"CategoricalColorMapper\"}},\"size\":{\"units\":\"screen\",\"value\":8},\"x\":{\"field\":\"Salary\"},\"y\":{\"field\":\"Age\"}},\"id\":\"2219\",\"type\":\"Circle\"},{\"attributes\":{\"below\":[{\"id\":\"2203\",\"type\":\"LinearAxis\"}],\"left\":[{\"id\":\"2208\",\"type\":\"LinearAxis\"}],\"renderers\":[{\"id\":\"2203\",\"type\":\"LinearAxis\"},{\"id\":\"2207\",\"type\":\"Grid\"},{\"id\":\"2208\",\"type\":\"LinearAxis\"},{\"id\":\"2212\",\"type\":\"Grid\"},{\"id\":\"2214\",\"type\":\"BoxAnnotation\"},{\"id\":\"2230\",\"type\":\"Legend\"},{\"id\":\"2221\",\"type\":\"GlyphRenderer\"}],\"title\":{\"id\":\"2223\",\"type\":\"Title\"},\"toolbar\":{\"id\":\"2216\",\"type\":\"Toolbar\"},\"x_range\":{\"id\":\"2195\",\"type\":\"DataRange1d\"},\"x_scale\":{\"id\":\"2199\",\"type\":\"LinearScale\"},\"y_range\":{\"id\":\"2197\",\"type\":\"DataRange1d\"},\"y_scale\":{\"id\":\"2201\",\"type\":\"LinearScale\"}},\"id\":\"2194\",\"subtype\":\"Figure\",\"type\":\"Plot\"},{\"attributes\":{},\"id\":\"2201\",\"type\":\"LinearScale\"},{\"attributes\":{\"plot\":{\"id\":\"2194\",\"subtype\":\"Figure\",\"type\":\"Plot\"},\"ticker\":{\"id\":\"2204\",\"type\":\"BasicTicker\"}},\"id\":\"2207\",\"type\":\"Grid\"},{\"attributes\":{\"plot\":{\"id\":\"2156\",\"subtype\":\"Figure\",\"type\":\"Plot\"},\"ticker\":{\"id\":\"2166\",\"type\":\"BasicTicker\"}},\"id\":\"2169\",\"type\":\"Grid\"},{\"attributes\":{\"active_drag\":\"auto\",\"active_inspect\":\"auto\",\"active_multi\":null,\"active_scroll\":\"auto\",\"active_tap\":\"auto\",\"tools\":[{\"id\":\"2175\",\"type\":\"BoxSelectTool\"},{\"id\":\"2232\",\"type\":\"HoverTool\"}]},\"id\":\"2178\",\"type\":\"Toolbar\"},{\"attributes\":{\"callback\":null,\"tooltips\":[[\"Gender\",\"@Gender\"]]},\"id\":\"2232\",\"type\":\"HoverTool\"},{\"attributes\":{\"items\":[{\"id\":\"2231\",\"type\":\"LegendItem\"}],\"plot\":{\"id\":\"2194\",\"subtype\":\"Figure\",\"type\":\"Plot\"}},\"id\":\"2230\",\"type\":\"Legend\"},{\"attributes\":{\"plot\":null,\"text\":\"\"},\"id\":\"2185\",\"type\":\"Title\"},{\"attributes\":{\"callback\":null},\"id\":\"2197\",\"type\":\"DataRange1d\"},{\"attributes\":{\"callback\":null,\"overlay\":{\"id\":\"2176\",\"type\":\"BoxAnnotation\"}},\"id\":\"2175\",\"type\":\"BoxSelectTool\"},{\"attributes\":{},\"id\":\"2326\",\"type\":\"Selection\"},{\"attributes\":{\"callback\":null},\"id\":\"2157\",\"type\":\"DataRange1d\"},{\"attributes\":{\"label\":{\"field\":\"Transport\"},\"renderers\":[{\"id\":\"2183\",\"type\":\"GlyphRenderer\"}]},\"id\":\"2193\",\"type\":\"LegendItem\"},{\"attributes\":{\"axis_label\":\"Age\",\"formatter\":{\"id\":\"2226\",\"type\":\"BasicTickFormatter\"},\"plot\":{\"id\":\"2194\",\"subtype\":\"Figure\",\"type\":\"Plot\"},\"ticker\":{\"id\":\"2209\",\"type\":\"BasicTicker\"}},\"id\":\"2208\",\"type\":\"LinearAxis\"},{\"attributes\":{\"axis_label\":\"Distance\",\"formatter\":{\"id\":\"2190\",\"type\":\"BasicTickFormatter\"},\"plot\":{\"id\":\"2156\",\"subtype\":\"Figure\",\"type\":\"Plot\"},\"ticker\":{\"id\":\"2166\",\"type\":\"BasicTicker\"}},\"id\":\"2165\",\"type\":\"LinearAxis\"},{\"attributes\":{},\"id\":\"2166\",\"type\":\"BasicTicker\"},{\"attributes\":{},\"id\":\"2190\",\"type\":\"BasicTickFormatter\"},{\"attributes\":{},\"id\":\"2171\",\"type\":\"BasicTicker\"},{\"attributes\":{},\"id\":\"2325\",\"type\":\"UnionRenderers\"},{\"attributes\":{},\"id\":\"2204\",\"type\":\"BasicTicker\"},{\"attributes\":{\"axis_label\":\"Age\",\"formatter\":{\"id\":\"2188\",\"type\":\"BasicTickFormatter\"},\"plot\":{\"id\":\"2156\",\"subtype\":\"Figure\",\"type\":\"Plot\"},\"ticker\":{\"id\":\"2171\",\"type\":\"BasicTicker\"}},\"id\":\"2170\",\"type\":\"LinearAxis\"},{\"attributes\":{\"callback\":null,\"overlay\":{\"id\":\"2214\",\"type\":\"BoxAnnotation\"}},\"id\":\"2213\",\"type\":\"BoxSelectTool\"},{\"attributes\":{},\"id\":\"2188\",\"type\":\"BasicTickFormatter\"},{\"attributes\":{\"data_source\":{\"id\":\"2154\",\"type\":\"ColumnDataSource\"},\"glyph\":{\"id\":\"2181\",\"type\":\"Circle\"},\"hover_glyph\":null,\"muted_glyph\":null,\"nonselection_glyph\":{\"id\":\"2182\",\"type\":\"Circle\"},\"selection_glyph\":null,\"view\":{\"id\":\"2184\",\"type\":\"CDSView\"}},\"id\":\"2183\",\"type\":\"GlyphRenderer\"},{\"attributes\":{\"dimension\":1,\"plot\":{\"id\":\"2156\",\"subtype\":\"Figure\",\"type\":\"Plot\"},\"ticker\":{\"id\":\"2171\",\"type\":\"BasicTicker\"}},\"id\":\"2174\",\"type\":\"Grid\"},{\"attributes\":{\"callback\":null,\"data\":{\"Age\":[31,27,24,36,39,28,26,29,24,26,26,24,24,30,23,24,23,26,30,28,31,21,34,26,30,22,23,26,26,26,24,23,24,27,18,30,33,34,31,25,28,23,30,24,27,25,26,26,25,37,22,34,40,29,36,28,27,26,29,25,33,27,24,25,24,43,30,32,24,25,28,26,28,27,20,26,24,28,30,29,26,26,28,26,25,22,26,22,29,26,27,27,29,28,26,28,27,26,21,27,31,27,25,26,32,27,20,34,25,27,30,23,27,37,31,25,24,27,21,29,26,25,31,23,24,28,26,26,27,32,37,28,24,26,26,31,28,19,23,29,28,23,30,26,25,27,26,18,26,26,27,26,29,25,23,28,27,28,26,24,27,25,30,22,40,24,30,29,24,28,33,26,39,26,25,27,34,30,29,26,40,27,30,25,26,25,38,28,29,27,21,27,23,26,21,30,27,24,25,33,26,25,28,26,32,26,21,22,29,20,26,34,38,24,26,30,32,22,30,24,27,28,29,26,27,30,26,23,26,38,23,29,25,24,28,25,22,27,22,27,31,26,29,30,24,30,28,23,27,26,28,28,24,24,24,24,31,26,28,28,23,25,22,24,28,28,22,22,34,24,29,24,26,21,30,31,29,20,28,25,26,27,24,24,35,26,26,24,28,24,39,27,27,28,27,28,23,32,27,28,24,23,28,27,31,28,27,33,29,23,25,30,25,24,32,24,28,26,24,38,24,23,20,25,22,28,28,39,25,24,30,26,36,30,40,28,25,30,26,29,29,25,24,27,30,23,27,25,24,40,29,34,23,36,30,27,28,30,23,27,38,32,27,30,40,25,38,37,26,29,26,28,26,25,27,42,27,29,25,25,21,28,28,27,24,25,31,30,28,26,28,27,34,26,26,24,26,27,29,28,27,30,31,23,22,25,25,29,24,24,30,22,27,33,23,30,30,26],\"Distance\":{\"__ndarray__\":\"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\",\"dtype\":\"float64\",\"shape\":[418]},\"Engineer\":[0,1,1,1,1,1,1,1,1,1,1,0,1,1,0,1,1,1,1,0,1,0,1,1,1,0,0,1,1,0,1,1,1,1,1,1,1,0,0,0,1,0,1,1,0,1,0,1,1,1,1,1,1,0,1,0,1,1,0,1,1,1,1,1,1,1,1,1,1,0,1,1,1,1,1,1,0,0,0,1,0,0,1,1,1,1,1,1,0,0,1,0,1,1,0,0,1,0,1,1,1,1,1,0,1,1,0,1,0,0,0,1,1,1,1,1,1,0,1,0,1,1,1,1,0,1,1,1,1,1,0,1,1,1,1,1,0,1,1,0,1,1,0,1,1,1,1,0,1,0,1,1,1,1,1,1,1,1,1,1,1,1,1,1,1,1,1,0,1,1,0,1,1,1,1,1,1,0,0,0,1,1,1,1,1,1,1,0,0,1,1,1,1,1,0,0,1,1,1,1,1,1,1,1,1,1,0,1,0,1,1,1,1,1,1,0,1,1,1,1,0,1,1,1,0,1,1,0,0,1,0,1,1,0,1,1,0,0,1,0,0,1,1,1,1,1,1,1,1,1,0,1,1,1,1,1,1,0,1,0,1,1,1,1,1,1,1,1,1,1,1,1,1,0,1,0,1,1,1,0,1,1,1,0,1,0,1,1,1,0,1,1,1,0,1,1,1,0,0,0,1,1,0,1,1,0,1,1,1,0,0,1,1,1,1,1,1,0,1,1,0,1,0,1,1,1,1,0,1,0,1,0,1,1,1,1,0,1,0,1,1,1,1,1,1,1,0,0,0,1,1,1,0,1,1,0,1,1,1,1,1,1,1,1,1,1,1,0,1,0,1,1,1,1,0,1,1,0,1,0,1,1,1,1,0,0,0,1,0,1,1,1,1,0,1,1,1,1,1,1,1,1,1,1,1,1,1,1,1,1,1,1,1,1,1,1,1,1],\"Gender\":[\"Male\",\"Male\",\"Male\",\"Female\",\"Male\",\"Male\",\"Male\",\"Male\",\"Male\",\"Female\",\"Male\",\"Male\",\"Female\",\"Female\",\"Male\",\"Female\",\"Male\",\"Male\",\"Male\",\"Male\",\"Female\",\"Male\",\"Male\",\"Female\",\"Male\",\"Male\",\"Female\",\"Female\",\"Female\",\"Male\",\"Female\",\"Male\",\"Male\",\"Male\",\"Male\",\"Female\",\"Male\",\"Female\",\"Male\",\"Male\",\"Male\",\"Female\",\"Male\",\"Male\",\"Male\",\"Male\",\"Male\",\"Male\",\"Female\",\"Male\",\"Male\",\"Male\",\"Female\",\"Female\",\"Male\",\"Female\",\"Male\",\"Male\",\"Male\",\"Female\",\"Male\",\"Female\",\"Male\",\"Female\",\"Male\",\"Male\",\"Female\",\"Male\",\"Male\",\"Male\",\"Male\",\"Male\",\"Male\",\"Male\",\"Female\",\"Female\",\"Female\",\"Female\",\"Male\",\"Female\",\"Male\",\"Female\",\"Male\",\"Male\",\"Male\",\"Female\",\"Male\",\"Female\",\"Male\",\"Male\",\"Female\",\"Male\",\"Male\",\"Male\",\"Female\",\"Male\",\"Female\",\"Female\",\"Female\",\"Male\",\"Male\",\"Male\",\"Female\",\"Female\",\"Female\",\"Male\",\"Female\",\"Male\",\"Female\",\"Female\",\"Male\",\"Male\",\"Male\",\"Male\",\"Male\",\"Male\",\"Male\",\"Female\",\"Male\",\"Male\",\"Male\",\"Male\",\"Male\",\"Male\",\"Male\",\"Male\",\"Male\",\"Male\",\"Female\",\"Male\",\"Male\",\"Female\",\"Male\",\"Female\",\"Female\",\"Male\",\"Female\",\"Female\",\"Female\",\"Female\",\"Male\",\"Male\",\"Male\",\"Male\",\"Female\",\"Female\",\"Male\",\"Male\",\"Female\",\"Female\",\"Male\",\"Female\",\"Male\",\"Male\",\"Male\",\"Male\",\"Male\",\"Male\",\"Male\",\"Male\",\"Male\",\"Male\",\"Male\",\"Male\",\"Male\",\"Male\",\"Female\",\"Male\",\"Male\",\"Male\",\"Male\",\"Male\",\"Male\",\"Female\",\"Female\",\"Male\",\"Male\",\"Female\",\"Female\",\"Male\",\"Male\",\"Female\",\"Male\",\"Male\",\"Male\",\"Male\",\"Male\",\"Male\",\"Male\",\"Male\",\"Female\",\"Female\",\"Male\",\"Female\",\"Male\",\"Male\",\"Female\",\"Male\",\"Female\",\"Male\",\"Female\",\"Female\",\"Female\",\"Female\",\"Male\",\"Female\",\"Male\",\"Male\",\"Female\",\"Male\",\"Male\",\"Male\",\"Male\",\"Male\",\"Male\",\"Male\",\"Female\",\"Male\",\"Female\",\"Female\",\"Male\",\"Male\",\"Female\",\"Female\",\"Male\",\"Female\",\"Male\",\"Male\",\"Male\",\"Male\",\"Male\",\"Male\",\"Male\",\"Male\",\"Male\",\"Male\",\"Male\",\"Male\",\"Male\",\"Male\",\"Female\",\"Male\",\"Male\",\"Female\",\"Male\",\"Female\",\"Female\",\"Male\",\"Female\",\"Male\",\"Male\",\"Male\",\"Male\",\"Male\",\"Male\",\"Male\",\"Male\",\"Male\",\"Female\",\"Female\",\"Male\",\"Male\",\"Female\",\"Male\",\"Male\",\"Female\",\"Female\",\"Male\",\"Male\",\"Male\",\"Male\",\"Male\",\"Male\",\"Female\",\"Male\",\"Male\",\"Male\",\"Male\",\"Male\",\"Male\",\"Male\",\"Male\",\"Female\",\"Male\",\"Female\",\"Male\",\"Female\",\"Male\",\"Male\",\"Male\",\"Male\",\"Male\",\"Female\",\"Male\",\"Female\",\"Female\",\"Female\",\"Female\",\"Male\",\"Male\",\"Male\",\"Female\",\"Female\",\"Male\",\"Male\",\"Female\",\"Male\",\"Male\",\"Male\",\"Male\",\"Male\",\"Male\",\"Male\",\"Male\",\"Male\",\"Male\",\"Male\",\"Male\",\"Male\",\"Male\",\"Male\",\"Female\",\"Male\",\"Male\",\"Male\",\"Female\",\"Male\",\"Male\",\"Male\",\"Female\",\"Male\",\"Male\",\"Male\",\"Male\",\"Male\",\"Female\",\"Female\",\"Male\",\"Male\",\"Male\",\"Male\",\"Female\",\"Female\",\"Male\",\"Male\",\"Male\",\"Female\",\"Female\",\"Male\",\"Male\",\"Male\",\"Male\",\"Male\",\"Male\",\"Male\",\"Male\",\"Male\",\"Male\",\"Male\",\"Male\",\"Male\",\"Female\",\"Male\",\"Male\",\"Male\",\"Male\",\"Female\",\"Male\",\"Male\",\"Male\",\"Male\",\"Male\",\"Male\",\"Male\",\"Male\",\"Male\",\"Male\",\"Male\",\"Male\",\"Male\",\"Male\",\"Male\",\"Male\",\"Male\",\"Male\",\"Male\",\"Female\",\"Male\",\"Male\",\"Male\",\"Male\",\"Male\",\"Male\",\"Female\",\"Male\",\"Male\",\"Female\",\"Female\",\"Male\",\"Male\",\"Male\",\"Male\",\"Male\",\"Female\",\"Female\",\"Female\",\"Female\",\"Male\",\"Male\",\"Male\",\"Female\",\"Male\",\"Male\",\"Male\",\"Female\",\"Male\",\"Male\",\"Male\"],\"MBA\":{\"__ndarray__\":\"AAAAAAAAAAAAAAAAAADwPwAAAAAAAPA/AAAAAAAAAAAAAAAAAAAAAAAAAAAAAAAAAAAAAAAAAAAAAAAAAAAAAAAAAAAAAAAAAAAAAAAAAAAAAAAAAAAAAAAAAAAAAAAAAAAAAAAAAAAAAAAAAAAAAAAAAAAAAAAAAAAAAAAAAAAAAAAAAAAAAAAAAAAAAAAAAAAAAAAA8D8AAAAAAADwPwAAAAAAAAAAAAAAAAAA8D8AAAAAAADwPwAAAAAAAAAAAAAAAAAAAAAAAAAAAAAAAAAAAAAAAAAAAAAAAAAAAAAAAAAAAAAAAAAAAAAAAAAAAAAAAAAAAAAAAAAAAADwPwAAAAAAAPA/AAAAAAAAAAAAAAAAAAAAAAAAAAAAAAAAAAAAAAAA8D8AAAAAAAAAAAAAAAAAAPA/AAAAAAAA8D8AAAAAAAAAAAAAAAAAAAAAAAAAAAAA8D8AAAAAAAAAAAAAAAAAAAAAAAAAAAAAAAAAAAAAAAAAAAAAAAAAAAAAAAAAAAAAAAAAAAAAAADwPwAAAAAAAPA/AAAAAAAAAAAAAAAAAAAAAAAAAAAAAPA/AAAAAAAA8D8AAAAAAADwPwAAAAAAAAAAAAAAAAAAAAAAAAAAAAAAAAAAAAAAAAAAAAAAAAAAAAAAAAAAAAAAAAAAAAAAAAAAAAAAAAAAAAAAAAAAAAAAAAAAAAAAAPA/AAAAAAAAAAAAAAAAAAAAAAAAAAAAAAAAAAAAAAAAAAAAAAAAAAAAAAAAAAAAAPA/AAAAAAAAAAAAAAAAAAAAAAAAAAAAAAAAAAAAAAAAAAAAAAAAAAAAAAAAAAAAAPA/AAAAAAAA8D8AAAAAAAAAAAAAAAAAAAAAAAAAAAAAAAAAAAAAAAAAAAAAAAAAAPA/AAAAAAAAAAAAAAAAAAAAAAAAAAAAAAAAAAAAAAAAAAAAAAAAAAAAAAAAAAAAAAAAAAAAAAAA8D8AAAAAAAAAAAAAAAAAAPA/AAAAAAAAAAAAAAAAAAAAAAAAAAAAAAAAAAAAAAAA8D8AAAAAAAAAAAAAAAAAAAAAAAAAAAAAAAAAAAAAAAAAAAAAAAAAAAAAAAAAAAAA8D8AAAAAAAAAAAAAAAAAAPA/AAAAAAAA8D8AAAAAAADwPwAAAAAAAAAAAAAAAAAAAAAAAAAAAADwPwAAAAAAAAAAAAAAAAAAAAAAAAAAAAAAAAAAAAAAAAAAAAAAAAAAAAAAAAAAAAAAAAAAAAAAAAAAAAAAAAAAAAAAAAAAAADwPwAAAAAAAAAAAAAAAAAAAAAAAAAAAAAAAAAAAAAAAAAAAAAAAAAAAAAAAAAAAAAAAAAAAAAAAAAAAAAAAAAAAAAAAAAAAAAAAAAAAAAAAAAAAAAAAAAAAAAAAAAAAAAAAAAAAAAAAAAAAAAAAAAA8D8AAAAAAAAAAAAAAAAAAAAAAAAAAAAAAAAAAAAAAAAAAAAAAAAAAAAAAAAAAAAAAAAAAAAAAAAAAAAAAAAAAAAAAAAAAAAAAAAAAAAAAAAAAAAAAAAAAAAAAAAAAAAAAAAAAAAAAAAAAAAAAAAAAPA/AAAAAAAAAAAAAAAAAAAAAAAAAAAAAAAAAAAAAAAAAAAAAAAAAAAAAAAAAAAAAPA/AAAAAAAA8D8AAAAAAADwPwAAAAAAAAAAAAAAAAAAAAAAAAAAAAAAAAAAAAAAAAAAAAAAAAAAAAAAAAAAAADwPwAAAAAAAAAAAAAAAAAAAAAAAAAAAAAAAAAAAAAAAPA/AAAAAAAAAAAAAAAAAAAAAAAAAAAAAPA/AAAAAAAAAAAAAAAAAAAAAAAAAAAAAAAAAAAAAAAAAAAAAAAAAAAAAAAAAAAAAAAAAAAAAAAAAAAAAAAAAAAAAAAAAAAAAPA/AAAAAAAAAAAAAAAAAAAAAAAAAAAAAAAAAAAAAAAAAAAAAAAAAAAAAAAAAAAAAAAAAAAAAAAAAAAAAAAAAADwPwAAAAAAAPA/AAAAAAAAAAAAAAAAAADwPwAAAAAAAAAAAAAAAAAA8D8AAAAAAAAAAAAAAAAAAAAAAAAAAAAAAAAAAAAAAAAAAAAAAAAAAAAAAAAAAAAAAAAAAAAAAAAAAAAAAAAAAAAAAAAAAAAAAAAAAAAAAADwPwAAAAAAAPA/AAAAAAAAAAAAAAAAAAAAAAAAAAAAAAAAAAAAAAAAAAAAAAAAAADwPwAAAAAAAAAAAAAAAAAA8D8AAAAAAAAAAAAAAAAAAAAAAAAAAAAAAAAAAAAAAAAAAAAAAAAAAAAAAAAAAAAA8D8AAAAAAADwPwAAAAAAAPA/AAAAAAAAAAAAAAAAAAAAAAAAAAAAAAAAAAAAAAAA8D8AAAAAAADwPwAAAAAAAPA/AAAAAAAAAAAAAAAAAAAAAAAAAAAAAAAAAAAAAAAAAAAAAAAAAAAAAAAAAAAAAAAAAAAAAAAA8D8AAAAAAAAAAAAAAAAAAAAAAAAAAAAAAAAAAAAAAADwPwAAAAAAAPA/AAAAAAAA8D8AAAAAAAAAAAAAAAAAAAAAAAAAAAAAAAAAAAAAAAAAAAAAAAAAAAAAAAAAAAAA8D8AAAAAAAAAAAAAAAAAAAAAAAAAAAAAAAAAAAAAAADwPwAAAAAAAAAAAAAAAAAAAAAAAAAAAADwPwAAAAAAAAAAAAAAAAAA8D8AAAAAAAAAAAAAAAAAAAAAAAAAAAAAAAAAAAAAAADwPwAAAAAAAAAAAAAAAAAA8D8AAAAAAAAAAAAAAAAAAAAAAAAAAAAAAAAAAAAAAAAAAAAAAAAAAAAAAAAAAAAAAAAAAAAAAADwPwAAAAAAAPA/AAAAAAAAAAAAAAAAAAAAAAAAAAAAAAAAAAAAAAAAAAAAAAAAAADwPwAAAAAAAPA/AAAAAAAAAAAAAAAAAAAAAAAAAAAAAAAAAAAAAAAAAAAAAAAAAADwPwAAAAAAAAAAAAAAAAAAAAAAAAAAAAAAAAAAAAAAAAAAAAAAAAAAAAAAAAAAAADwPwAAAAAAAAAAAAAAAAAAAAAAAAAAAADwPwAAAAAAAAAAAAAAAAAAAAAAAAAAAAAAAAAAAAAAAAAAAAAAAAAAAAAAAAAAAADwPwAAAAAAAPA/AAAAAAAAAAAAAAAAAAAAAAAAAAAAAAAAAAAAAAAAAAAAAAAAAAAAAAAAAAAAAPA/AAAAAAAAAAAAAAAAAADwPwAAAAAAAAAAAAAAAAAAAAAAAAAAAADwPwAAAAAAAPh/AAAAAAAAAAAAAAAAAAAAAAAAAAAAAAAAAAAAAAAAAAAAAAAAAADwPwAAAAAAAAAAAAAAAAAAAAAAAAAAAAAAAAAAAAAAAAAAAAAAAAAA8D8AAAAAAADwPwAAAAAAAAAAAAAAAAAA8D8AAAAAAAAAAAAAAAAAAAAAAAAAAAAAAAAAAAAAAAAAAAAAAAAAAAAAAAAAAAAAAAAAAAAAAADwPwAAAAAAAAAAAAAAAAAA8D8AAAAAAADwPwAAAAAAAPA/AAAAAAAAAAAAAAAAAAAAAAAAAAAAAAAAAAAAAAAAAAAAAAAAAAAAAAAAAAAAAPA/AAAAAAAAAAAAAAAAAAAAAAAAAAAAAPA/AAAAAAAAAAAAAAAAAADwPwAAAAAAAAAAAAAAAAAAAAAAAAAAAAAAAAAAAAAAAAAAAAAAAAAA8D8AAAAAAAAAAAAAAAAAAAAAAAAAAAAAAAAAAAAAAAAAAAAAAAAAAAAAAAAAAAAAAAAAAAAAAAAAAAAAAAAAAAAAAAAAAAAAAAAAAAAAAAAAAAAAAAAAAAAAAAAAAAAAAAAAAAAAAAAAAAAAAAAAAPA/AAAAAAAA8D8AAAAAAAAAAAAAAAAAAAAAAAAAAAAA8D8AAAAAAADwPwAAAAAAAPA/AAAAAAAAAAAAAAAAAAAAAAAAAAAAAAAAAAAAAAAAAAAAAAAAAAAAAAAAAAAAAPA/AAAAAAAAAAAAAAAAAAAAAAAAAAAAAAAAAAAAAAAA8D8AAAAAAAAAAAAAAAAAAPA/AAAAAAAAAAAAAAAAAADwPwAAAAAAAAAAAAAAAAAAAAAAAAAAAAAAAAAAAAAAAPA/AAAAAAAA8D8AAAAAAAAAAAAAAAAAAAAAAAAAAAAAAAAAAAAAAAAAAAAAAAAAAAAAAAAAAAAA8D8AAAAAAAAAAAAAAAAAAAAAAAAAAAAAAAAAAAAAAAAAAAAAAAAAAPA/AAAAAAAAAAAAAAAAAAAAAAAAAAAAAPA/AAAAAAAAAAAAAAAAAADwPwAAAAAAAAAAAAAAAAAAAAAAAAAAAADwPwAAAAAAAAAAAAAAAAAA8D8AAAAAAADwPwAAAAAAAAAAAAAAAAAAAAAAAAAAAAAAAAAAAAAAAPA/AAAAAAAAAAAAAAAAAADwPwAAAAAAAAAAAAAAAAAAAAAAAAAAAAAAAAAAAAAAAAAAAAAAAAAA8D8AAAAAAAAAAAAAAAAAAAAAAAAAAAAAAAA=\",\"dtype\":\"float64\",\"shape\":[418]},\"Salary\":{\"__ndarray__\":\"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\",\"dtype\":\"float64\",\"shape\":[418]},\"Transport\":[\"Car\",\"Public Transport\",\"Public Transport\",\"Car\",\"Car\",\"Public Transport\",\"Public Transport\",\"Public Transport\",\"2Wheeler\",\"2Wheeler\",\"Public Transport\",\"Public Transport\",\"2Wheeler\",\"Public Transport\",\"2Wheeler\",\"Public Transport\",\"Public Transport\",\"Public Transport\",\"Car\",\"Public Transport\",\"Public Transport\",\"2Wheeler\",\"2Wheeler\",\"2Wheeler\",\"Public Transport\",\"2Wheeler\",\"2Wheeler\",\"2Wheeler\",\"2Wheeler\",\"Public Transport\",\"2Wheeler\",\"Public Transport\",\"Public Transport\",\"Public Transport\",\"Public Transport\",\"Public Transport\",\"Car\",\"Public Transport\",\"Public Transport\",\"Public Transport\",\"Public Transport\",\"Public Transport\",\"Public Transport\",\"Public Transport\",\"Public Transport\",\"Public Transport\",\"Public Transport\",\"Public Transport\",\"2Wheeler\",\"Car\",\"Public Transport\",\"Public Transport\",\"Car\",\"Public Transport\",\"Public Transport\",\"Public Transport\",\"Public Transport\",\"Public Transport\",\"Public Transport\",\"2Wheeler\",\"Car\",\"2Wheeler\",\"2Wheeler\",\"2Wheeler\",\"Public Transport\",\"Car\",\"Public Transport\",\"Public Transport\",\"Public Transport\",\"Public Transport\",\"Public Transport\",\"Public Transport\",\"Public Transport\",\"Public Transport\",\"2Wheeler\",\"2Wheeler\",\"Public Transport\",\"Public Transport\",\"Public Transport\",\"Public Transport\",\"Public Transport\",\"2Wheeler\",\"Public Transport\",\"Public Transport\",\"Public Transport\",\"Public Transport\",\"Public Transport\",\"Public Transport\",\"Public Transport\",\"Public Transport\",\"Public Transport\",\"Public Transport\",\"Public Transport\",\"Public Transport\",\"Public Transport\",\"Public Transport\",\"Public Transport\",\"2Wheeler\",\"Public Transport\",\"Public Transport\",\"Public Transport\",\"Public Transport\",\"2Wheeler\",\"Public Transport\",\"Public Transport\",\"Public Transport\",\"Public Transport\",\"Car\",\"2Wheeler\",\"Public Transport\",\"Public Transport\",\"2Wheeler\",\"Public Transport\",\"Car\",\"Public Transport\",\"Public Transport\",\"Public Transport\",\"Public Transport\",\"Public Transport\",\"Public Transport\",\"Public Transport\",\"Public Transport\",\"Public Transport\",\"2Wheeler\",\"2Wheeler\",\"2Wheeler\",\"Public Transport\",\"Public Transport\",\"Public Transport\",\"Public Transport\",\"Car\",\"Public Transport\",\"Public Transport\",\"Public Transport\",\"Public Transport\",\"Public Transport\",\"Public Transport\",\"Public Transport\",\"Public Transport\",\"Public Transport\",\"2Wheeler\",\"Public Transport\",\"Public Transport\",\"Public Transport\",\"Public Transport\",\"2Wheeler\",\"Public Transport\",\"2Wheeler\",\"Public Transport\",\"Public Transport\",\"Public Transport\",\"Public Transport\",\"Public Transport\",\"Public Transport\",\"2Wheeler\",\"Public Transport\",\"Public Transport\",\"2Wheeler\",\"Public Transport\",\"Public Transport\",\"Public Transport\",\"Public Transport\",\"Public Transport\",\"Public Transport\",\"Car\",\"2Wheeler\",\"Public Transport\",\"2Wheeler\",\"Public Transport\",\"2Wheeler\",\"Public Transport\",\"Public Transport\",\"Car\",\"Public Transport\",\"2Wheeler\",\"Public Transport\",\"Public Transport\",\"Public Transport\",\"2Wheeler\",\"Public Transport\",\"Car\",\"Public Transport\",\"2Wheeler\",\"Public Transport\",\"Public Transport\",\"Public Transport\",\"Car\",\"Public Transport\",\"Public Transport\",\"Public Transport\",\"Public Transport\",\"Public Transport\",\"2Wheeler\",\"Public Transport\",\"2Wheeler\",\"Public Transport\",\"2Wheeler\",\"Public Transport\",\"Public Transport\",\"Public Transport\",\"Public Transport\",\"Public Transport\",\"Public Transport\",\"Public Transport\",\"Public Transport\",\"Public Transport\",\"Public Transport\",\"2Wheeler\",\"Public Transport\",\"Public Transport\",\"Public Transport\",\"Car\",\"Car\",\"Public Transport\",\"Public Transport\",\"Public Transport\",\"Car\",\"2Wheeler\",\"Public Transport\",\"2Wheeler\",\"Public Transport\",\"Public Transport\",\"Public Transport\",\"2Wheeler\",\"Public Transport\",\"Public Transport\",\"Public Transport\",\"Public Transport\",\"Public Transport\",\"Car\",\"2Wheeler\",\"Public Transport\",\"Public Transport\",\"Public Transport\",\"2Wheeler\",\"Public Transport\",\"2Wheeler\",\"Public Transport\",\"Public Transport\",\"Public Transport\",\"Public Transport\",\"Public Transport\",\"Public Transport\",\"Public Transport\",\"Public Transport\",\"2Wheeler\",\"Public Transport\",\"Public Transport\",\"Public Transport\",\"Public Transport\",\"Public Transport\",\"Public Transport\",\"Public Transport\",\"Public Transport\",\"2Wheeler\",\"Public Transport\",\"Car\",\"Public Transport\",\"Public Transport\",\"Public Transport\",\"2Wheeler\",\"Public Transport\",\"2Wheeler\",\"Public Transport\",\"Public Transport\",\"Public Transport\",\"2Wheeler\",\"2Wheeler\",\"Car\",\"Public Transport\",\"Public Transport\",\"Public Transport\",\"Public Transport\",\"2Wheeler\",\"Public Transport\",\"Public Transport\",\"Public Transport\",\"Public Transport\",\"Public Transport\",\"2Wheeler\",\"Public Transport\",\"Public Transport\",\"2Wheeler\",\"Public Transport\",\"Public Transport\",\"Public Transport\",\"2Wheeler\",\"2Wheeler\",\"Public Transport\",\"Public Transport\",\"Car\",\"Public Transport\",\"Public Transport\",\"Public Transport\",\"2Wheeler\",\"Public Transport\",\"Public Transport\",\"Car\",\"Public Transport\",\"2Wheeler\",\"Public Transport\",\"2Wheeler\",\"Public Transport\",\"Public Transport\",\"Public Transport\",\"2Wheeler\",\"Public Transport\",\"Public Transport\",\"Public Transport\",\"Public Transport\",\"Public Transport\",\"2Wheeler\",\"2Wheeler\",\"Public Transport\",\"Public Transport\",\"Public Transport\",\"Public Transport\",\"Public Transport\",\"2Wheeler\",\"Car\",\"Public Transport\",\"Public Transport\",\"Public Transport\",\"Public Transport\",\"Public Transport\",\"Public Transport\",\"Public Transport\",\"Car\",\"Public Transport\",\"2Wheeler\",\"Public Transport\",\"Public Transport\",\"Public Transport\",\"Public Transport\",\"Car\",\"2Wheeler\",\"2Wheeler\",\"Public Transport\",\"2Wheeler\",\"2Wheeler\",\"Public Transport\",\"Public Transport\",\"2Wheeler\",\"Public Transport\",\"Public Transport\",\"Public Transport\",\"Public Transport\",\"Public Transport\",\"Public Transport\",\"Car\",\"2Wheeler\",\"Public Transport\",\"Public Transport\",\"Car\",\"Public Transport\",\"Public Transport\",\"Public Transport\",\"2Wheeler\",\"2Wheeler\",\"2Wheeler\",\"Car\",\"Car\",\"Public Transport\",\"Public Transport\",\"Car\",\"Public Transport\",\"Car\",\"Car\",\"Public Transport\",\"Public Transport\",\"2Wheeler\",\"Public Transport\",\"Public Transport\",\"Public Transport\",\"2Wheeler\",\"Car\",\"Public Transport\",\"Public Transport\",\"Public Transport\",\"2Wheeler\",\"Public Transport\",\"Public Transport\",\"Public Transport\",\"Public Transport\",\"Public Transport\",\"Public Transport\",\"Public Transport\",\"Public Transport\",\"Public Transport\",\"2Wheeler\",\"Public Transport\",\"Public Transport\",\"2Wheeler\",\"Public Transport\",\"Public Transport\",\"Public Transport\",\"Public Transport\",\"Public Transport\",\"Public Transport\",\"Public Transport\",\"Public Transport\",\"Public Transport\",\"Public Transport\",\"Public Transport\",\"Public Transport\",\"2Wheeler\",\"Public Transport\",\"Public Transport\",\"Public Transport\",\"Public Transport\",\"Public Transport\",\"Public Transport\",\"Public Transport\",\"Public Transport\",\"2Wheeler\",\"Public Transport\",\"Public Transport\",\"Public Transport\"],\"Work Exp\":[11,5,1,17,21,7,4,6,0,2,6,2,2,8,0,6,1,2,11,3,10,3,14,4,8,1,4,8,4,4,1,0,6,4,0,8,10,14,7,4,6,0,8,1,3,2,7,5,2,18,0,13,20,7,18,5,6,4,5,6,14,5,6,5,2,24,6,9,1,3,5,4,6,6,2,2,0,9,8,6,3,7,4,3,3,0,2,2,6,3,5,5,6,4,3,4,4,5,3,4,9,8,1,3,9,5,1,14,2,4,8,4,9,19,10,3,2,4,3,7,3,2,10,0,0,5,4,4,8,12,19,6,0,3,6,8,9,1,0,7,5,1,10,5,5,5,5,0,3,3,7,4,8,4,3,6,6,5,4,2,6,3,8,1,20,0,7,7,4,6,13,4,21,8,1,6,16,6,7,4,22,3,8,3,6,3,18,10,5,6,3,4,0,3,3,8,7,4,3,14,4,4,5,3,11,3,3,0,7,2,5,14,19,0,8,7,14,0,6,2,5,7,7,4,6,8,3,2,5,19,0,9,4,2,5,7,0,7,0,9,9,5,9,8,0,8,5,2,5,5,5,5,2,6,4,3,12,3,9,6,0,3,2,0,5,6,2,0,16,2,6,0,3,3,9,9,5,2,3,5,2,4,2,2,16,5,6,4,4,2,21,4,5,6,9,5,1,10,8,5,1,2,6,4,7,10,4,11,5,2,2,8,7,2,10,1,6,2,6,19,2,4,2,2,2,5,5,21,3,2,9,3,16,10,20,7,3,8,4,11,6,1,1,5,6,2,4,3,2,22,9,12,3,16,6,3,6,10,2,8,20,10,6,8,20,4,20,19,4,7,4,4,7,1,8,22,8,6,1,1,3,7,5,4,2,4,9,8,6,2,6,3,15,4,4,0,6,4,7,3,4,7,12,4,0,2,4,11,0,1,8,3,1,11,2,6,7,2],\"index\":[0,1,2,3,4,5,6,7,8,9,10,11,12,13,14,15,16,17,18,19,20,21,22,23,24,25,26,27,28,29,30,31,32,33,34,35,36,37,38,39,40,41,42,43,44,45,46,47,48,49,50,51,52,53,54,55,56,57,58,59,60,61,62,63,64,65,66,67,68,69,70,71,72,73,74,75,76,77,78,79,80,81,82,83,84,85,86,87,88,89,90,91,92,93,94,95,96,97,98,99,100,101,102,103,104,105,106,107,108,109,110,111,112,113,114,115,116,117,118,119,120,121,122,123,124,125,126,127,128,129,130,131,132,133,134,135,136,137,138,139,140,141,142,143,144,145,146,147,148,149,150,151,152,153,154,155,156,157,158,159,160,161,162,163,164,165,166,167,168,169,170,171,172,173,174,175,176,177,178,179,180,181,182,183,184,185,186,187,188,189,190,191,192,193,194,195,196,197,198,199,200,201,202,203,204,205,206,207,208,209,210,211,212,213,214,215,216,217,218,219,220,221,222,223,224,225,226,227,228,229,230,231,232,233,234,235,236,237,238,239,240,241,242,243,244,245,246,247,248,249,250,251,252,253,254,255,256,257,258,259,260,261,262,263,264,265,266,267,268,269,270,271,272,273,274,275,276,277,278,279,280,281,282,283,284,285,286,287,288,289,290,291,292,293,294,295,296,297,298,299,300,301,302,303,304,305,306,307,308,309,310,311,312,313,314,315,316,317,318,319,320,321,322,323,324,325,326,327,328,329,330,331,332,333,334,335,336,337,338,339,340,341,342,343,344,345,346,347,348,349,350,351,352,353,354,355,356,357,358,359,360,361,362,363,364,365,366,367,368,369,370,371,372,373,374,375,376,377,378,379,380,381,382,383,384,385,386,387,388,389,390,391,392,393,394,395,396,397,398,399,400,401,402,403,404,405,406,407,408,409,410,411,412,413,414,415,416,417],\"license\":[1,0,0,1,1,0,0,0,0,0,0,0,0,0,0,0,0,0,1,0,0,0,1,0,0,1,0,0,1,1,0,0,1,0,0,0,0,0,0,0,1,0,0,0,1,0,0,0,0,1,0,0,0,0,1,0,0,1,0,0,0,0,0,0,0,1,0,0,0,0,0,0,0,0,0,0,0,0,0,0,1,0,0,0,0,0,0,0,0,0,0,0,1,0,0,0,0,0,0,0,0,0,0,0,0,0,0,1,0,0,0,0,0,1,0,0,0,0,0,0,0,0,0,0,0,0,0,1,0,0,1,0,0,0,0,0,0,0,0,0,1,0,0,0,0,0,0,0,0,0,0,0,0,0,0,0,0,1,0,0,0,0,0,0,1,1,0,1,0,1,1,0,0,0,0,0,0,0,0,0,1,0,1,0,0,0,1,0,0,0,0,0,0,0,0,1,0,0,0,0,0,0,0,0,0,0,0,0,0,1,0,1,1,0,1,0,0,0,0,0,0,0,0,0,0,0,1,0,0,1,0,0,1,1,1,0,1,0,0,0,0,0,0,0,0,1,0,0,0,0,1,0,0,1,0,0,1,0,0,0,0,0,0,1,0,0,0,0,1,0,0,0,1,0,0,0,0,0,1,1,0,0,0,0,0,0,0,0,0,0,1,0,0,0,0,0,0,0,0,1,1,0,0,1,0,0,0,0,1,0,1,1,0,0,0,0,1,1,0,1,1,0,0,0,0,0,0,1,0,0,0,0,0,0,1,1,0,0,0,1,0,0,1,0,0,0,0,0,0,1,0,0,0,1,1,1,0,1,1,0,1,1,0,0,1,0,1,1,0,0,1,0,0,0,0,1,0,0,0,0,0,0,0,1,0,0,0,0,0,1,0,0,1,0,0,0,0,0,0,0,0,0,0,0,0,0,0,0,0,0,0,0,0,0,0,0,1,1]},\"selected\":{\"id\":\"2326\",\"type\":\"Selection\"},\"selection_policy\":{\"id\":\"2325\",\"type\":\"UnionRenderers\"}},\"id\":\"2154\",\"type\":\"ColumnDataSource\"},{\"attributes\":{\"dimension\":1,\"plot\":{\"id\":\"2194\",\"subtype\":\"Figure\",\"type\":\"Plot\"},\"ticker\":{\"id\":\"2209\",\"type\":\"BasicTicker\"}},\"id\":\"2212\",\"type\":\"Grid\"},{\"attributes\":{\"active_drag\":\"auto\",\"active_inspect\":\"auto\",\"active_multi\":null,\"active_scroll\":\"auto\",\"active_tap\":\"auto\",\"tools\":[{\"id\":\"2213\",\"type\":\"BoxSelectTool\"},{\"id\":\"2232\",\"type\":\"HoverTool\"}]},\"id\":\"2216\",\"type\":\"Toolbar\"},{\"attributes\":{\"below\":[{\"id\":\"2165\",\"type\":\"LinearAxis\"}],\"left\":[{\"id\":\"2170\",\"type\":\"LinearAxis\"}],\"renderers\":[{\"id\":\"2165\",\"type\":\"LinearAxis\"},{\"id\":\"2169\",\"type\":\"Grid\"},{\"id\":\"2170\",\"type\":\"LinearAxis\"},{\"id\":\"2174\",\"type\":\"Grid\"},{\"id\":\"2176\",\"type\":\"BoxAnnotation\"},{\"id\":\"2192\",\"type\":\"Legend\"},{\"id\":\"2183\",\"type\":\"GlyphRenderer\"}],\"title\":{\"id\":\"2185\",\"type\":\"Title\"},\"toolbar\":{\"id\":\"2178\",\"type\":\"Toolbar\"},\"x_range\":{\"id\":\"2157\",\"type\":\"DataRange1d\"},\"x_scale\":{\"id\":\"2161\",\"type\":\"LinearScale\"},\"y_range\":{\"id\":\"2159\",\"type\":\"DataRange1d\"},\"y_scale\":{\"id\":\"2163\",\"type\":\"LinearScale\"}},\"id\":\"2156\",\"subtype\":\"Figure\",\"type\":\"Plot\"},{\"attributes\":{\"plot\":null,\"text\":\"\"},\"id\":\"2223\",\"type\":\"Title\"},{\"attributes\":{\"callback\":null},\"id\":\"2195\",\"type\":\"DataRange1d\"},{\"attributes\":{\"fill_alpha\":{\"value\":0.1},\"fill_color\":{\"value\":\"#1f77b4\"},\"line_alpha\":{\"value\":0.1},\"line_color\":{\"value\":\"#1f77b4\"},\"size\":{\"units\":\"screen\",\"value\":8},\"x\":{\"field\":\"Salary\"},\"y\":{\"field\":\"Age\"}},\"id\":\"2220\",\"type\":\"Circle\"},{\"attributes\":{\"fill_alpha\":{\"value\":0.1},\"fill_color\":{\"value\":\"#1f77b4\"},\"line_alpha\":{\"value\":0.1},\"line_color\":{\"value\":\"#1f77b4\"},\"size\":{\"units\":\"screen\",\"value\":8},\"x\":{\"field\":\"Distance\"},\"y\":{\"field\":\"Age\"}},\"id\":\"2182\",\"type\":\"Circle\"},{\"attributes\":{},\"id\":\"2163\",\"type\":\"LinearScale\"},{\"attributes\":{\"callback\":null},\"id\":\"2159\",\"type\":\"DataRange1d\"},{\"attributes\":{\"source\":{\"id\":\"2154\",\"type\":\"ColumnDataSource\"}},\"id\":\"2184\",\"type\":\"CDSView\"},{\"attributes\":{},\"id\":\"2161\",\"type\":\"LinearScale\"},{\"attributes\":{},\"id\":\"2209\",\"type\":\"BasicTicker\"},{\"attributes\":{},\"id\":\"2226\",\"type\":\"BasicTickFormatter\"}],\"root_ids\":[\"2235\"]},\"title\":\"Bokeh Application\",\"version\":\"1.0.4\"}};\n",
              "  var render_items = [{\"docid\":\"53f3171f-79f9-4f77-aaee-dafd4de80ab1\",\"roots\":{\"2235\":\"79ce0b32-6060-40e7-8af8-2373bdc65a2e\"}}];\n",
              "  root.Bokeh.embed.embed_items_notebook(docs_json, render_items);\n",
              "\n",
              "  }\n",
              "  if (root.Bokeh !== undefined) {\n",
              "    embed_document(root);\n",
              "  } else {\n",
              "    var attempts = 0;\n",
              "    var timer = setInterval(function(root) {\n",
              "      if (root.Bokeh !== undefined) {\n",
              "        embed_document(root);\n",
              "        clearInterval(timer);\n",
              "      }\n",
              "      attempts++;\n",
              "      if (attempts > 100) {\n",
              "        console.log(\"Bokeh: ERROR: Unable to run BokehJS code because BokehJS library is missing\");\n",
              "        clearInterval(timer);\n",
              "      }\n",
              "    }, 10, root)\n",
              "  }\n",
              "})(window);"
            ],
            "application/vnd.bokehjs_exec.v0+json": ""
          },
          "metadata": {
            "tags": [],
            "application/vnd.bokehjs_exec.v0+json": {
              "id": "2235"
            }
          }
        }
      ]
    },
    {
      "cell_type": "code",
      "metadata": {
        "id": "rX_8XdXygiMv",
        "colab_type": "code",
        "outputId": "3c388514-2270-49fa-fe6e-aac81db3d71a",
        "colab": {
          "base_uri": "https://localhost:8080/",
          "height": 617
        }
      },
      "source": [
        "p = figure(x_axis_label='Age', y_axis_label='Salary',tools = 'box_select')\n",
        "\n",
        "# Make a CategoricalColorMapper object: color_mapper\n",
        "color_mapper = CategoricalColorMapper(factors=['Male', 'Female'],\n",
        "                                      palette=['skyblue', 'green'])\n",
        "\n",
        "# Add a circle glyph to the figure p\n",
        "p.circle('Age', 'Salary', source=source,\n",
        "            color=dict(field='Gender', transform=color_mapper),legend='Gender',size=8)\n",
        "\n",
        "# Create a HoverTool object: hover\n",
        "hover = HoverTool(tooltips=[('Transport','@Transport')])\n",
        "\n",
        "p.add_tools(hover)\n",
        "\n",
        "show(p)"
      ],
      "execution_count": 119,
      "outputs": [
        {
          "output_type": "display_data",
          "data": {
            "application/javascript": [
              "\n",
              "(function(root) {\n",
              "  function now() {\n",
              "    return new Date();\n",
              "  }\n",
              "\n",
              "  var force = true;\n",
              "\n",
              "  if (typeof (root._bokeh_onload_callbacks) === \"undefined\" || force === true) {\n",
              "    root._bokeh_onload_callbacks = [];\n",
              "    root._bokeh_is_loading = undefined;\n",
              "  }\n",
              "\n",
              "  var JS_MIME_TYPE = 'application/javascript';\n",
              "  var HTML_MIME_TYPE = 'text/html';\n",
              "  var EXEC_MIME_TYPE = 'application/vnd.bokehjs_exec.v0+json';\n",
              "  var CLASS_NAME = 'output_bokeh rendered_html';\n",
              "\n",
              "  /**\n",
              "   * Render data to the DOM node\n",
              "   */\n",
              "  function render(props, node) {\n",
              "    var script = document.createElement(\"script\");\n",
              "    node.appendChild(script);\n",
              "  }\n",
              "\n",
              "  /**\n",
              "   * Handle when an output is cleared or removed\n",
              "   */\n",
              "  function handleClearOutput(event, handle) {\n",
              "    var cell = handle.cell;\n",
              "\n",
              "    var id = cell.output_area._bokeh_element_id;\n",
              "    var server_id = cell.output_area._bokeh_server_id;\n",
              "    // Clean up Bokeh references\n",
              "    if (id != null && id in Bokeh.index) {\n",
              "      Bokeh.index[id].model.document.clear();\n",
              "      delete Bokeh.index[id];\n",
              "    }\n",
              "\n",
              "    if (server_id !== undefined) {\n",
              "      // Clean up Bokeh references\n",
              "      var cmd = \"from bokeh.io.state import curstate; print(curstate().uuid_to_server['\" + server_id + \"'].get_sessions()[0].document.roots[0]._id)\";\n",
              "      cell.notebook.kernel.execute(cmd, {\n",
              "        iopub: {\n",
              "          output: function(msg) {\n",
              "            var id = msg.content.text.trim();\n",
              "            if (id in Bokeh.index) {\n",
              "              Bokeh.index[id].model.document.clear();\n",
              "              delete Bokeh.index[id];\n",
              "            }\n",
              "          }\n",
              "        }\n",
              "      });\n",
              "      // Destroy server and session\n",
              "      var cmd = \"import bokeh.io.notebook as ion; ion.destroy_server('\" + server_id + \"')\";\n",
              "      cell.notebook.kernel.execute(cmd);\n",
              "    }\n",
              "  }\n",
              "\n",
              "  /**\n",
              "   * Handle when a new output is added\n",
              "   */\n",
              "  function handleAddOutput(event, handle) {\n",
              "    var output_area = handle.output_area;\n",
              "    var output = handle.output;\n",
              "\n",
              "    // limit handleAddOutput to display_data with EXEC_MIME_TYPE content only\n",
              "    if ((output.output_type != \"display_data\") || (!output.data.hasOwnProperty(EXEC_MIME_TYPE))) {\n",
              "      return\n",
              "    }\n",
              "\n",
              "    var toinsert = output_area.element.find(\".\" + CLASS_NAME.split(' ')[0]);\n",
              "\n",
              "    if (output.metadata[EXEC_MIME_TYPE][\"id\"] !== undefined) {\n",
              "      toinsert[toinsert.length - 1].firstChild.textContent = output.data[JS_MIME_TYPE];\n",
              "      // store reference to embed id on output_area\n",
              "      output_area._bokeh_element_id = output.metadata[EXEC_MIME_TYPE][\"id\"];\n",
              "    }\n",
              "    if (output.metadata[EXEC_MIME_TYPE][\"server_id\"] !== undefined) {\n",
              "      var bk_div = document.createElement(\"div\");\n",
              "      bk_div.innerHTML = output.data[HTML_MIME_TYPE];\n",
              "      var script_attrs = bk_div.children[0].attributes;\n",
              "      for (var i = 0; i < script_attrs.length; i++) {\n",
              "        toinsert[toinsert.length - 1].firstChild.setAttribute(script_attrs[i].name, script_attrs[i].value);\n",
              "      }\n",
              "      // store reference to server id on output_area\n",
              "      output_area._bokeh_server_id = output.metadata[EXEC_MIME_TYPE][\"server_id\"];\n",
              "    }\n",
              "  }\n",
              "\n",
              "  function register_renderer(events, OutputArea) {\n",
              "\n",
              "    function append_mime(data, metadata, element) {\n",
              "      // create a DOM node to render to\n",
              "      var toinsert = this.create_output_subarea(\n",
              "        metadata,\n",
              "        CLASS_NAME,\n",
              "        EXEC_MIME_TYPE\n",
              "      );\n",
              "      this.keyboard_manager.register_events(toinsert);\n",
              "      // Render to node\n",
              "      var props = {data: data, metadata: metadata[EXEC_MIME_TYPE]};\n",
              "      render(props, toinsert[toinsert.length - 1]);\n",
              "      element.append(toinsert);\n",
              "      return toinsert\n",
              "    }\n",
              "\n",
              "    /* Handle when an output is cleared or removed */\n",
              "    events.on('clear_output.CodeCell', handleClearOutput);\n",
              "    events.on('delete.Cell', handleClearOutput);\n",
              "\n",
              "    /* Handle when a new output is added */\n",
              "    events.on('output_added.OutputArea', handleAddOutput);\n",
              "\n",
              "    /**\n",
              "     * Register the mime type and append_mime function with output_area\n",
              "     */\n",
              "    OutputArea.prototype.register_mime_type(EXEC_MIME_TYPE, append_mime, {\n",
              "      /* Is output safe? */\n",
              "      safe: true,\n",
              "      /* Index of renderer in `output_area.display_order` */\n",
              "      index: 0\n",
              "    });\n",
              "  }\n",
              "\n",
              "  // register the mime type if in Jupyter Notebook environment and previously unregistered\n",
              "  if (root.Jupyter !== undefined) {\n",
              "    var events = require('base/js/events');\n",
              "    var OutputArea = require('notebook/js/outputarea').OutputArea;\n",
              "\n",
              "    if (OutputArea.prototype.mime_types().indexOf(EXEC_MIME_TYPE) == -1) {\n",
              "      register_renderer(events, OutputArea);\n",
              "    }\n",
              "  }\n",
              "\n",
              "  \n",
              "  if (typeof (root._bokeh_timeout) === \"undefined\" || force === true) {\n",
              "    root._bokeh_timeout = Date.now() + 5000;\n",
              "    root._bokeh_failed_load = false;\n",
              "  }\n",
              "\n",
              "  var NB_LOAD_WARNING = {'data': {'text/html':\n",
              "     \"<div style='background-color: #fdd'>\\n\"+\n",
              "     \"<p>\\n\"+\n",
              "     \"BokehJS does not appear to have successfully loaded. If loading BokehJS from CDN, this \\n\"+\n",
              "     \"may be due to a slow or bad network connection. Possible fixes:\\n\"+\n",
              "     \"</p>\\n\"+\n",
              "     \"<ul>\\n\"+\n",
              "     \"<li>re-rerun `output_notebook()` to attempt to load from CDN again, or</li>\\n\"+\n",
              "     \"<li>use INLINE resources instead, as so:</li>\\n\"+\n",
              "     \"</ul>\\n\"+\n",
              "     \"<code>\\n\"+\n",
              "     \"from bokeh.resources import INLINE\\n\"+\n",
              "     \"output_notebook(resources=INLINE)\\n\"+\n",
              "     \"</code>\\n\"+\n",
              "     \"</div>\"}};\n",
              "\n",
              "  function display_loaded() {\n",
              "    var el = document.getElementById(null);\n",
              "    if (el != null) {\n",
              "      el.textContent = \"BokehJS is loading...\";\n",
              "    }\n",
              "    if (root.Bokeh !== undefined) {\n",
              "      if (el != null) {\n",
              "        el.textContent = \"BokehJS \" + root.Bokeh.version + \" successfully loaded.\";\n",
              "      }\n",
              "    } else if (Date.now() < root._bokeh_timeout) {\n",
              "      setTimeout(display_loaded, 100)\n",
              "    }\n",
              "  }\n",
              "\n",
              "\n",
              "  function run_callbacks() {\n",
              "    try {\n",
              "      root._bokeh_onload_callbacks.forEach(function(callback) { callback() });\n",
              "    }\n",
              "    finally {\n",
              "      delete root._bokeh_onload_callbacks\n",
              "    }\n",
              "    console.info(\"Bokeh: all callbacks have finished\");\n",
              "  }\n",
              "\n",
              "  function load_libs(js_urls, callback) {\n",
              "    root._bokeh_onload_callbacks.push(callback);\n",
              "    if (root._bokeh_is_loading > 0) {\n",
              "      console.log(\"Bokeh: BokehJS is being loaded, scheduling callback at\", now());\n",
              "      return null;\n",
              "    }\n",
              "    if (js_urls == null || js_urls.length === 0) {\n",
              "      run_callbacks();\n",
              "      return null;\n",
              "    }\n",
              "    console.log(\"Bokeh: BokehJS not loaded, scheduling load and callback at\", now());\n",
              "    root._bokeh_is_loading = js_urls.length;\n",
              "    for (var i = 0; i < js_urls.length; i++) {\n",
              "      var url = js_urls[i];\n",
              "      var s = document.createElement('script');\n",
              "      s.src = url;\n",
              "      s.async = false;\n",
              "      s.onreadystatechange = s.onload = function() {\n",
              "        root._bokeh_is_loading--;\n",
              "        if (root._bokeh_is_loading === 0) {\n",
              "          console.log(\"Bokeh: all BokehJS libraries loaded\");\n",
              "          run_callbacks()\n",
              "        }\n",
              "      };\n",
              "      s.onerror = function() {\n",
              "        console.warn(\"failed to load library \" + url);\n",
              "      };\n",
              "      console.log(\"Bokeh: injecting script tag for BokehJS library: \", url);\n",
              "      document.getElementsByTagName(\"head\")[0].appendChild(s);\n",
              "    }\n",
              "  };\n",
              "\n",
              "  var js_urls = [\"https://cdn.pydata.org/bokeh/release/bokeh-1.0.4.min.js\", \"https://cdn.pydata.org/bokeh/release/bokeh-widgets-1.0.4.min.js\", \"https://cdn.pydata.org/bokeh/release/bokeh-tables-1.0.4.min.js\", \"https://cdn.pydata.org/bokeh/release/bokeh-gl-1.0.4.min.js\"];\n",
              "\n",
              "  var inline_js = [\n",
              "    function(Bokeh) {\n",
              "      Bokeh.set_log_level(\"info\");\n",
              "    },\n",
              "    \n",
              "    function(Bokeh) {\n",
              "      \n",
              "    },\n",
              "    function(Bokeh) {\n",
              "      console.log(\"Bokeh: injecting CSS: https://cdn.pydata.org/bokeh/release/bokeh-1.0.4.min.css\");\n",
              "      Bokeh.embed.inject_css(\"https://cdn.pydata.org/bokeh/release/bokeh-1.0.4.min.css\");\n",
              "      console.log(\"Bokeh: injecting CSS: https://cdn.pydata.org/bokeh/release/bokeh-widgets-1.0.4.min.css\");\n",
              "      Bokeh.embed.inject_css(\"https://cdn.pydata.org/bokeh/release/bokeh-widgets-1.0.4.min.css\");\n",
              "      console.log(\"Bokeh: injecting CSS: https://cdn.pydata.org/bokeh/release/bokeh-tables-1.0.4.min.css\");\n",
              "      Bokeh.embed.inject_css(\"https://cdn.pydata.org/bokeh/release/bokeh-tables-1.0.4.min.css\");\n",
              "    }\n",
              "  ];\n",
              "\n",
              "  function run_inline_js() {\n",
              "    \n",
              "    if ((root.Bokeh !== undefined) || (force === true)) {\n",
              "      for (var i = 0; i < inline_js.length; i++) {\n",
              "        inline_js[i].call(root, root.Bokeh);\n",
              "      }} else if (Date.now() < root._bokeh_timeout) {\n",
              "      setTimeout(run_inline_js, 100);\n",
              "    } else if (!root._bokeh_failed_load) {\n",
              "      console.log(\"Bokeh: BokehJS failed to load within specified timeout.\");\n",
              "      root._bokeh_failed_load = true;\n",
              "    } else if (force !== true) {\n",
              "      var cell = $(document.getElementById(null)).parents('.cell').data().cell;\n",
              "      cell.output_area.append_execute_result(NB_LOAD_WARNING)\n",
              "    }\n",
              "\n",
              "  }\n",
              "\n",
              "  if (root._bokeh_is_loading === 0) {\n",
              "    console.log(\"Bokeh: BokehJS loaded, going straight to plotting\");\n",
              "    run_inline_js();\n",
              "  } else {\n",
              "    load_libs(js_urls, function() {\n",
              "      console.log(\"Bokeh: BokehJS plotting callback run at\", now());\n",
              "      run_inline_js();\n",
              "    });\n",
              "  }\n",
              "}(window));"
            ],
            "application/vnd.bokehjs_load.v0+json": "\n(function(root) {\n  function now() {\n    return new Date();\n  }\n\n  var force = true;\n\n  if (typeof (root._bokeh_onload_callbacks) === \"undefined\" || force === true) {\n    root._bokeh_onload_callbacks = [];\n    root._bokeh_is_loading = undefined;\n  }\n\n  \n\n  \n  if (typeof (root._bokeh_timeout) === \"undefined\" || force === true) {\n    root._bokeh_timeout = Date.now() + 5000;\n    root._bokeh_failed_load = false;\n  }\n\n  var NB_LOAD_WARNING = {'data': {'text/html':\n     \"<div style='background-color: #fdd'>\\n\"+\n     \"<p>\\n\"+\n     \"BokehJS does not appear to have successfully loaded. If loading BokehJS from CDN, this \\n\"+\n     \"may be due to a slow or bad network connection. Possible fixes:\\n\"+\n     \"</p>\\n\"+\n     \"<ul>\\n\"+\n     \"<li>re-rerun `output_notebook()` to attempt to load from CDN again, or</li>\\n\"+\n     \"<li>use INLINE resources instead, as so:</li>\\n\"+\n     \"</ul>\\n\"+\n     \"<code>\\n\"+\n     \"from bokeh.resources import INLINE\\n\"+\n     \"output_notebook(resources=INLINE)\\n\"+\n     \"</code>\\n\"+\n     \"</div>\"}};\n\n  function display_loaded() {\n    var el = document.getElementById(null);\n    if (el != null) {\n      el.textContent = \"BokehJS is loading...\";\n    }\n    if (root.Bokeh !== undefined) {\n      if (el != null) {\n        el.textContent = \"BokehJS \" + root.Bokeh.version + \" successfully loaded.\";\n      }\n    } else if (Date.now() < root._bokeh_timeout) {\n      setTimeout(display_loaded, 100)\n    }\n  }\n\n\n  function run_callbacks() {\n    try {\n      root._bokeh_onload_callbacks.forEach(function(callback) { callback() });\n    }\n    finally {\n      delete root._bokeh_onload_callbacks\n    }\n    console.info(\"Bokeh: all callbacks have finished\");\n  }\n\n  function load_libs(js_urls, callback) {\n    root._bokeh_onload_callbacks.push(callback);\n    if (root._bokeh_is_loading > 0) {\n      console.log(\"Bokeh: BokehJS is being loaded, scheduling callback at\", now());\n      return null;\n    }\n    if (js_urls == null || js_urls.length === 0) {\n      run_callbacks();\n      return null;\n    }\n    console.log(\"Bokeh: BokehJS not loaded, scheduling load and callback at\", now());\n    root._bokeh_is_loading = js_urls.length;\n    for (var i = 0; i < js_urls.length; i++) {\n      var url = js_urls[i];\n      var s = document.createElement('script');\n      s.src = url;\n      s.async = false;\n      s.onreadystatechange = s.onload = function() {\n        root._bokeh_is_loading--;\n        if (root._bokeh_is_loading === 0) {\n          console.log(\"Bokeh: all BokehJS libraries loaded\");\n          run_callbacks()\n        }\n      };\n      s.onerror = function() {\n        console.warn(\"failed to load library \" + url);\n      };\n      console.log(\"Bokeh: injecting script tag for BokehJS library: \", url);\n      document.getElementsByTagName(\"head\")[0].appendChild(s);\n    }\n  };\n\n  var js_urls = [\"https://cdn.pydata.org/bokeh/release/bokeh-1.0.4.min.js\", \"https://cdn.pydata.org/bokeh/release/bokeh-widgets-1.0.4.min.js\", \"https://cdn.pydata.org/bokeh/release/bokeh-tables-1.0.4.min.js\", \"https://cdn.pydata.org/bokeh/release/bokeh-gl-1.0.4.min.js\"];\n\n  var inline_js = [\n    function(Bokeh) {\n      Bokeh.set_log_level(\"info\");\n    },\n    \n    function(Bokeh) {\n      \n    },\n    function(Bokeh) {\n      console.log(\"Bokeh: injecting CSS: https://cdn.pydata.org/bokeh/release/bokeh-1.0.4.min.css\");\n      Bokeh.embed.inject_css(\"https://cdn.pydata.org/bokeh/release/bokeh-1.0.4.min.css\");\n      console.log(\"Bokeh: injecting CSS: https://cdn.pydata.org/bokeh/release/bokeh-widgets-1.0.4.min.css\");\n      Bokeh.embed.inject_css(\"https://cdn.pydata.org/bokeh/release/bokeh-widgets-1.0.4.min.css\");\n      console.log(\"Bokeh: injecting CSS: https://cdn.pydata.org/bokeh/release/bokeh-tables-1.0.4.min.css\");\n      Bokeh.embed.inject_css(\"https://cdn.pydata.org/bokeh/release/bokeh-tables-1.0.4.min.css\");\n    }\n  ];\n\n  function run_inline_js() {\n    \n    if ((root.Bokeh !== undefined) || (force === true)) {\n      for (var i = 0; i < inline_js.length; i++) {\n        inline_js[i].call(root, root.Bokeh);\n      }} else if (Date.now() < root._bokeh_timeout) {\n      setTimeout(run_inline_js, 100);\n    } else if (!root._bokeh_failed_load) {\n      console.log(\"Bokeh: BokehJS failed to load within specified timeout.\");\n      root._bokeh_failed_load = true;\n    } else if (force !== true) {\n      var cell = $(document.getElementById(null)).parents('.cell').data().cell;\n      cell.output_area.append_execute_result(NB_LOAD_WARNING)\n    }\n\n  }\n\n  if (root._bokeh_is_loading === 0) {\n    console.log(\"Bokeh: BokehJS loaded, going straight to plotting\");\n    run_inline_js();\n  } else {\n    load_libs(js_urls, function() {\n      console.log(\"Bokeh: BokehJS plotting callback run at\", now());\n      run_inline_js();\n    });\n  }\n}(window));"
          },
          "metadata": {
            "tags": []
          }
        },
        {
          "output_type": "display_data",
          "data": {
            "text/html": [
              "\n",
              "\n",
              "\n",
              "\n",
              "\n",
              "\n",
              "  <div class=\"bk-root\" id=\"d3658bc0-451d-4934-accd-c748d96036f7\" data-root-id=\"2427\"></div>\n"
            ]
          },
          "metadata": {
            "tags": []
          }
        },
        {
          "output_type": "display_data",
          "data": {
            "application/javascript": [
              "(function(root) {\n",
              "  function embed_document(root) {\n",
              "    \n",
              "  var docs_json = {\"1353f047-3c5d-4333-b165-f2bf652dd7a9\":{\"roots\":{\"references\":[{\"attributes\":{\"below\":[{\"id\":\"2436\",\"type\":\"LinearAxis\"}],\"left\":[{\"id\":\"2441\",\"type\":\"LinearAxis\"}],\"renderers\":[{\"id\":\"2436\",\"type\":\"LinearAxis\"},{\"id\":\"2440\",\"type\":\"Grid\"},{\"id\":\"2441\",\"type\":\"LinearAxis\"},{\"id\":\"2445\",\"type\":\"Grid\"},{\"id\":\"2447\",\"type\":\"BoxAnnotation\"},{\"id\":\"2464\",\"type\":\"Legend\"},{\"id\":\"2455\",\"type\":\"GlyphRenderer\"}],\"title\":{\"id\":\"2457\",\"type\":\"Title\"},\"toolbar\":{\"id\":\"2449\",\"type\":\"Toolbar\"},\"x_range\":{\"id\":\"2428\",\"type\":\"DataRange1d\"},\"x_scale\":{\"id\":\"2432\",\"type\":\"LinearScale\"},\"y_range\":{\"id\":\"2430\",\"type\":\"DataRange1d\"},\"y_scale\":{\"id\":\"2434\",\"type\":\"LinearScale\"}},\"id\":\"2427\",\"subtype\":\"Figure\",\"type\":\"Plot\"},{\"attributes\":{},\"id\":\"2460\",\"type\":\"BasicTickFormatter\"},{\"attributes\":{\"factors\":[\"Male\",\"Female\"],\"palette\":[\"skyblue\",\"green\"]},\"id\":\"2451\",\"type\":\"CategoricalColorMapper\"},{\"attributes\":{\"callback\":null},\"id\":\"2430\",\"type\":\"DataRange1d\"},{\"attributes\":{\"fill_alpha\":{\"value\":0.1},\"fill_color\":{\"value\":\"#1f77b4\"},\"line_alpha\":{\"value\":0.1},\"line_color\":{\"value\":\"#1f77b4\"},\"size\":{\"units\":\"screen\",\"value\":8},\"x\":{\"field\":\"Age\"},\"y\":{\"field\":\"Salary\"}},\"id\":\"2454\",\"type\":\"Circle\"},{\"attributes\":{},\"id\":\"2437\",\"type\":\"BasicTicker\"},{\"attributes\":{\"fill_color\":{\"field\":\"Gender\",\"transform\":{\"id\":\"2451\",\"type\":\"CategoricalColorMapper\"}},\"line_color\":{\"field\":\"Gender\",\"transform\":{\"id\":\"2451\",\"type\":\"CategoricalColorMapper\"}},\"size\":{\"units\":\"screen\",\"value\":8},\"x\":{\"field\":\"Age\"},\"y\":{\"field\":\"Salary\"}},\"id\":\"2453\",\"type\":\"Circle\"},{\"attributes\":{},\"id\":\"2432\",\"type\":\"LinearScale\"},{\"attributes\":{},\"id\":\"2442\",\"type\":\"BasicTicker\"},{\"attributes\":{\"plot\":null,\"text\":\"\"},\"id\":\"2457\",\"type\":\"Title\"},{\"attributes\":{\"data_source\":{\"id\":\"2154\",\"type\":\"ColumnDataSource\"},\"glyph\":{\"id\":\"2453\",\"type\":\"Circle\"},\"hover_glyph\":null,\"muted_glyph\":null,\"nonselection_glyph\":{\"id\":\"2454\",\"type\":\"Circle\"},\"selection_glyph\":null,\"view\":{\"id\":\"2456\",\"type\":\"CDSView\"}},\"id\":\"2455\",\"type\":\"GlyphRenderer\"},{\"attributes\":{\"callback\":null},\"id\":\"2428\",\"type\":\"DataRange1d\"},{\"attributes\":{\"plot\":{\"id\":\"2427\",\"subtype\":\"Figure\",\"type\":\"Plot\"},\"ticker\":{\"id\":\"2437\",\"type\":\"BasicTicker\"}},\"id\":\"2440\",\"type\":\"Grid\"},{\"attributes\":{\"bottom_units\":\"screen\",\"fill_alpha\":{\"value\":0.5},\"fill_color\":{\"value\":\"lightgrey\"},\"left_units\":\"screen\",\"level\":\"overlay\",\"line_alpha\":{\"value\":1.0},\"line_color\":{\"value\":\"black\"},\"line_dash\":[4,4],\"line_width\":{\"value\":2},\"plot\":null,\"render_mode\":\"css\",\"right_units\":\"screen\",\"top_units\":\"screen\"},\"id\":\"2447\",\"type\":\"BoxAnnotation\"},{\"attributes\":{\"source\":{\"id\":\"2154\",\"type\":\"ColumnDataSource\"}},\"id\":\"2456\",\"type\":\"CDSView\"},{\"attributes\":{\"axis_label\":\"Salary\",\"formatter\":{\"id\":\"2460\",\"type\":\"BasicTickFormatter\"},\"plot\":{\"id\":\"2427\",\"subtype\":\"Figure\",\"type\":\"Plot\"},\"ticker\":{\"id\":\"2442\",\"type\":\"BasicTicker\"}},\"id\":\"2441\",\"type\":\"LinearAxis\"},{\"attributes\":{\"callback\":null,\"overlay\":{\"id\":\"2447\",\"type\":\"BoxAnnotation\"}},\"id\":\"2446\",\"type\":\"BoxSelectTool\"},{\"attributes\":{},\"id\":\"2326\",\"type\":\"Selection\"},{\"attributes\":{},\"id\":\"2434\",\"type\":\"LinearScale\"},{\"attributes\":{\"label\":{\"field\":\"Gender\"},\"renderers\":[{\"id\":\"2455\",\"type\":\"GlyphRenderer\"}]},\"id\":\"2465\",\"type\":\"LegendItem\"},{\"attributes\":{},\"id\":\"2325\",\"type\":\"UnionRenderers\"},{\"attributes\":{\"dimension\":1,\"plot\":{\"id\":\"2427\",\"subtype\":\"Figure\",\"type\":\"Plot\"},\"ticker\":{\"id\":\"2442\",\"type\":\"BasicTicker\"}},\"id\":\"2445\",\"type\":\"Grid\"},{\"attributes\":{\"callback\":null,\"data\":{\"Age\":[31,27,24,36,39,28,26,29,24,26,26,24,24,30,23,24,23,26,30,28,31,21,34,26,30,22,23,26,26,26,24,23,24,27,18,30,33,34,31,25,28,23,30,24,27,25,26,26,25,37,22,34,40,29,36,28,27,26,29,25,33,27,24,25,24,43,30,32,24,25,28,26,28,27,20,26,24,28,30,29,26,26,28,26,25,22,26,22,29,26,27,27,29,28,26,28,27,26,21,27,31,27,25,26,32,27,20,34,25,27,30,23,27,37,31,25,24,27,21,29,26,25,31,23,24,28,26,26,27,32,37,28,24,26,26,31,28,19,23,29,28,23,30,26,25,27,26,18,26,26,27,26,29,25,23,28,27,28,26,24,27,25,30,22,40,24,30,29,24,28,33,26,39,26,25,27,34,30,29,26,40,27,30,25,26,25,38,28,29,27,21,27,23,26,21,30,27,24,25,33,26,25,28,26,32,26,21,22,29,20,26,34,38,24,26,30,32,22,30,24,27,28,29,26,27,30,26,23,26,38,23,29,25,24,28,25,22,27,22,27,31,26,29,30,24,30,28,23,27,26,28,28,24,24,24,24,31,26,28,28,23,25,22,24,28,28,22,22,34,24,29,24,26,21,30,31,29,20,28,25,26,27,24,24,35,26,26,24,28,24,39,27,27,28,27,28,23,32,27,28,24,23,28,27,31,28,27,33,29,23,25,30,25,24,32,24,28,26,24,38,24,23,20,25,22,28,28,39,25,24,30,26,36,30,40,28,25,30,26,29,29,25,24,27,30,23,27,25,24,40,29,34,23,36,30,27,28,30,23,27,38,32,27,30,40,25,38,37,26,29,26,28,26,25,27,42,27,29,25,25,21,28,28,27,24,25,31,30,28,26,28,27,34,26,26,24,26,27,29,28,27,30,31,23,22,25,25,29,24,24,30,22,27,33,23,30,30,26],\"Distance\":{\"__ndarray__\":\"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\",\"dtype\":\"float64\",\"shape\":[418]},\"Engineer\":[0,1,1,1,1,1,1,1,1,1,1,0,1,1,0,1,1,1,1,0,1,0,1,1,1,0,0,1,1,0,1,1,1,1,1,1,1,0,0,0,1,0,1,1,0,1,0,1,1,1,1,1,1,0,1,0,1,1,0,1,1,1,1,1,1,1,1,1,1,0,1,1,1,1,1,1,0,0,0,1,0,0,1,1,1,1,1,1,0,0,1,0,1,1,0,0,1,0,1,1,1,1,1,0,1,1,0,1,0,0,0,1,1,1,1,1,1,0,1,0,1,1,1,1,0,1,1,1,1,1,0,1,1,1,1,1,0,1,1,0,1,1,0,1,1,1,1,0,1,0,1,1,1,1,1,1,1,1,1,1,1,1,1,1,1,1,1,0,1,1,0,1,1,1,1,1,1,0,0,0,1,1,1,1,1,1,1,0,0,1,1,1,1,1,0,0,1,1,1,1,1,1,1,1,1,1,0,1,0,1,1,1,1,1,1,0,1,1,1,1,0,1,1,1,0,1,1,0,0,1,0,1,1,0,1,1,0,0,1,0,0,1,1,1,1,1,1,1,1,1,0,1,1,1,1,1,1,0,1,0,1,1,1,1,1,1,1,1,1,1,1,1,1,0,1,0,1,1,1,0,1,1,1,0,1,0,1,1,1,0,1,1,1,0,1,1,1,0,0,0,1,1,0,1,1,0,1,1,1,0,0,1,1,1,1,1,1,0,1,1,0,1,0,1,1,1,1,0,1,0,1,0,1,1,1,1,0,1,0,1,1,1,1,1,1,1,0,0,0,1,1,1,0,1,1,0,1,1,1,1,1,1,1,1,1,1,1,0,1,0,1,1,1,1,0,1,1,0,1,0,1,1,1,1,0,0,0,1,0,1,1,1,1,0,1,1,1,1,1,1,1,1,1,1,1,1,1,1,1,1,1,1,1,1,1,1,1,1],\"Gender\":[\"Male\",\"Male\",\"Male\",\"Female\",\"Male\",\"Male\",\"Male\",\"Male\",\"Male\",\"Female\",\"Male\",\"Male\",\"Female\",\"Female\",\"Male\",\"Female\",\"Male\",\"Male\",\"Male\",\"Male\",\"Female\",\"Male\",\"Male\",\"Female\",\"Male\",\"Male\",\"Female\",\"Female\",\"Female\",\"Male\",\"Female\",\"Male\",\"Male\",\"Male\",\"Male\",\"Female\",\"Male\",\"Female\",\"Male\",\"Male\",\"Male\",\"Female\",\"Male\",\"Male\",\"Male\",\"Male\",\"Male\",\"Male\",\"Female\",\"Male\",\"Male\",\"Male\",\"Female\",\"Female\",\"Male\",\"Female\",\"Male\",\"Male\",\"Male\",\"Female\",\"Male\",\"Female\",\"Male\",\"Female\",\"Male\",\"Male\",\"Female\",\"Male\",\"Male\",\"Male\",\"Male\",\"Male\",\"Male\",\"Male\",\"Female\",\"Female\",\"Female\",\"Female\",\"Male\",\"Female\",\"Male\",\"Female\",\"Male\",\"Male\",\"Male\",\"Female\",\"Male\",\"Female\",\"Male\",\"Male\",\"Female\",\"Male\",\"Male\",\"Male\",\"Female\",\"Male\",\"Female\",\"Female\",\"Female\",\"Male\",\"Male\",\"Male\",\"Female\",\"Female\",\"Female\",\"Male\",\"Female\",\"Male\",\"Female\",\"Female\",\"Male\",\"Male\",\"Male\",\"Male\",\"Male\",\"Male\",\"Male\",\"Female\",\"Male\",\"Male\",\"Male\",\"Male\",\"Male\",\"Male\",\"Male\",\"Male\",\"Male\",\"Male\",\"Female\",\"Male\",\"Male\",\"Female\",\"Male\",\"Female\",\"Female\",\"Male\",\"Female\",\"Female\",\"Female\",\"Female\",\"Male\",\"Male\",\"Male\",\"Male\",\"Female\",\"Female\",\"Male\",\"Male\",\"Female\",\"Female\",\"Male\",\"Female\",\"Male\",\"Male\",\"Male\",\"Male\",\"Male\",\"Male\",\"Male\",\"Male\",\"Male\",\"Male\",\"Male\",\"Male\",\"Male\",\"Male\",\"Female\",\"Male\",\"Male\",\"Male\",\"Male\",\"Male\",\"Male\",\"Female\",\"Female\",\"Male\",\"Male\",\"Female\",\"Female\",\"Male\",\"Male\",\"Female\",\"Male\",\"Male\",\"Male\",\"Male\",\"Male\",\"Male\",\"Male\",\"Male\",\"Female\",\"Female\",\"Male\",\"Female\",\"Male\",\"Male\",\"Female\",\"Male\",\"Female\",\"Male\",\"Female\",\"Female\",\"Female\",\"Female\",\"Male\",\"Female\",\"Male\",\"Male\",\"Female\",\"Male\",\"Male\",\"Male\",\"Male\",\"Male\",\"Male\",\"Male\",\"Female\",\"Male\",\"Female\",\"Female\",\"Male\",\"Male\",\"Female\",\"Female\",\"Male\",\"Female\",\"Male\",\"Male\",\"Male\",\"Male\",\"Male\",\"Male\",\"Male\",\"Male\",\"Male\",\"Male\",\"Male\",\"Male\",\"Male\",\"Male\",\"Female\",\"Male\",\"Male\",\"Female\",\"Male\",\"Female\",\"Female\",\"Male\",\"Female\",\"Male\",\"Male\",\"Male\",\"Male\",\"Male\",\"Male\",\"Male\",\"Male\",\"Male\",\"Female\",\"Female\",\"Male\",\"Male\",\"Female\",\"Male\",\"Male\",\"Female\",\"Female\",\"Male\",\"Male\",\"Male\",\"Male\",\"Male\",\"Male\",\"Female\",\"Male\",\"Male\",\"Male\",\"Male\",\"Male\",\"Male\",\"Male\",\"Male\",\"Female\",\"Male\",\"Female\",\"Male\",\"Female\",\"Male\",\"Male\",\"Male\",\"Male\",\"Male\",\"Female\",\"Male\",\"Female\",\"Female\",\"Female\",\"Female\",\"Male\",\"Male\",\"Male\",\"Female\",\"Female\",\"Male\",\"Male\",\"Female\",\"Male\",\"Male\",\"Male\",\"Male\",\"Male\",\"Male\",\"Male\",\"Male\",\"Male\",\"Male\",\"Male\",\"Male\",\"Male\",\"Male\",\"Male\",\"Female\",\"Male\",\"Male\",\"Male\",\"Female\",\"Male\",\"Male\",\"Male\",\"Female\",\"Male\",\"Male\",\"Male\",\"Male\",\"Male\",\"Female\",\"Female\",\"Male\",\"Male\",\"Male\",\"Male\",\"Female\",\"Female\",\"Male\",\"Male\",\"Male\",\"Female\",\"Female\",\"Male\",\"Male\",\"Male\",\"Male\",\"Male\",\"Male\",\"Male\",\"Male\",\"Male\",\"Male\",\"Male\",\"Male\",\"Male\",\"Female\",\"Male\",\"Male\",\"Male\",\"Male\",\"Female\",\"Male\",\"Male\",\"Male\",\"Male\",\"Male\",\"Male\",\"Male\",\"Male\",\"Male\",\"Male\",\"Male\",\"Male\",\"Male\",\"Male\",\"Male\",\"Male\",\"Male\",\"Male\",\"Male\",\"Female\",\"Male\",\"Male\",\"Male\",\"Male\",\"Male\",\"Male\",\"Female\",\"Male\",\"Male\",\"Female\",\"Female\",\"Male\",\"Male\",\"Male\",\"Male\",\"Male\",\"Female\",\"Female\",\"Female\",\"Female\",\"Male\",\"Male\",\"Male\",\"Female\",\"Male\",\"Male\",\"Male\",\"Female\",\"Male\",\"Male\",\"Male\"],\"MBA\":{\"__ndarray__\":\"AAAAAAAAAAAAAAAAAADwPwAAAAAAAPA/AAAAAAAAAAAAAAAAAAAAAAAAAAAAAAAAAAAAAAAAAAAAAAAAAAAAAAAAAAAAAAAAAAAAAAAAAAAAAAAAAAAAAAAAAAAAAAAAAAAAAAAAAAAAAAAAAAAAAAAAAAAAAAAAAAAAAAAAAAAAAAAAAAAAAAAAAAAAAAAAAAAAAAAA8D8AAAAAAADwPwAAAAAAAAAAAAAAAAAA8D8AAAAAAADwPwAAAAAAAAAAAAAAAAAAAAAAAAAAAAAAAAAAAAAAAAAAAAAAAAAAAAAAAAAAAAAAAAAAAAAAAAAAAAAAAAAAAAAAAAAAAADwPwAAAAAAAPA/AAAAAAAAAAAAAAAAAAAAAAAAAAAAAAAAAAAAAAAA8D8AAAAAAAAAAAAAAAAAAPA/AAAAAAAA8D8AAAAAAAAAAAAAAAAAAAAAAAAAAAAA8D8AAAAAAAAAAAAAAAAAAAAAAAAAAAAAAAAAAAAAAAAAAAAAAAAAAAAAAAAAAAAAAAAAAAAAAADwPwAAAAAAAPA/AAAAAAAAAAAAAAAAAAAAAAAAAAAAAPA/AAAAAAAA8D8AAAAAAADwPwAAAAAAAAAAAAAAAAAAAAAAAAAAAAAAAAAAAAAAAAAAAAAAAAAAAAAAAAAAAAAAAAAAAAAAAAAAAAAAAAAAAAAAAAAAAAAAAAAAAAAAAPA/AAAAAAAAAAAAAAAAAAAAAAAAAAAAAAAAAAAAAAAAAAAAAAAAAAAAAAAAAAAAAPA/AAAAAAAAAAAAAAAAAAAAAAAAAAAAAAAAAAAAAAAAAAAAAAAAAAAAAAAAAAAAAPA/AAAAAAAA8D8AAAAAAAAAAAAAAAAAAAAAAAAAAAAAAAAAAAAAAAAAAAAAAAAAAPA/AAAAAAAAAAAAAAAAAAAAAAAAAAAAAAAAAAAAAAAAAAAAAAAAAAAAAAAAAAAAAAAAAAAAAAAA8D8AAAAAAAAAAAAAAAAAAPA/AAAAAAAAAAAAAAAAAAAAAAAAAAAAAAAAAAAAAAAA8D8AAAAAAAAAAAAAAAAAAAAAAAAAAAAAAAAAAAAAAAAAAAAAAAAAAAAAAAAAAAAA8D8AAAAAAAAAAAAAAAAAAPA/AAAAAAAA8D8AAAAAAADwPwAAAAAAAAAAAAAAAAAAAAAAAAAAAADwPwAAAAAAAAAAAAAAAAAAAAAAAAAAAAAAAAAAAAAAAAAAAAAAAAAAAAAAAAAAAAAAAAAAAAAAAAAAAAAAAAAAAAAAAAAAAADwPwAAAAAAAAAAAAAAAAAAAAAAAAAAAAAAAAAAAAAAAAAAAAAAAAAAAAAAAAAAAAAAAAAAAAAAAAAAAAAAAAAAAAAAAAAAAAAAAAAAAAAAAAAAAAAAAAAAAAAAAAAAAAAAAAAAAAAAAAAAAAAAAAAA8D8AAAAAAAAAAAAAAAAAAAAAAAAAAAAAAAAAAAAAAAAAAAAAAAAAAAAAAAAAAAAAAAAAAAAAAAAAAAAAAAAAAAAAAAAAAAAAAAAAAAAAAAAAAAAAAAAAAAAAAAAAAAAAAAAAAAAAAAAAAAAAAAAAAPA/AAAAAAAAAAAAAAAAAAAAAAAAAAAAAAAAAAAAAAAAAAAAAAAAAAAAAAAAAAAAAPA/AAAAAAAA8D8AAAAAAADwPwAAAAAAAAAAAAAAAAAAAAAAAAAAAAAAAAAAAAAAAAAAAAAAAAAAAAAAAAAAAADwPwAAAAAAAAAAAAAAAAAAAAAAAAAAAAAAAAAAAAAAAPA/AAAAAAAAAAAAAAAAAAAAAAAAAAAAAPA/AAAAAAAAAAAAAAAAAAAAAAAAAAAAAAAAAAAAAAAAAAAAAAAAAAAAAAAAAAAAAAAAAAAAAAAAAAAAAAAAAAAAAAAAAAAAAPA/AAAAAAAAAAAAAAAAAAAAAAAAAAAAAAAAAAAAAAAAAAAAAAAAAAAAAAAAAAAAAAAAAAAAAAAAAAAAAAAAAADwPwAAAAAAAPA/AAAAAAAAAAAAAAAAAADwPwAAAAAAAAAAAAAAAAAA8D8AAAAAAAAAAAAAAAAAAAAAAAAAAAAAAAAAAAAAAAAAAAAAAAAAAAAAAAAAAAAAAAAAAAAAAAAAAAAAAAAAAAAAAAAAAAAAAAAAAAAAAADwPwAAAAAAAPA/AAAAAAAAAAAAAAAAAAAAAAAAAAAAAAAAAAAAAAAAAAAAAAAAAADwPwAAAAAAAAAAAAAAAAAA8D8AAAAAAAAAAAAAAAAAAAAAAAAAAAAAAAAAAAAAAAAAAAAAAAAAAAAAAAAAAAAA8D8AAAAAAADwPwAAAAAAAPA/AAAAAAAAAAAAAAAAAAAAAAAAAAAAAAAAAAAAAAAA8D8AAAAAAADwPwAAAAAAAPA/AAAAAAAAAAAAAAAAAAAAAAAAAAAAAAAAAAAAAAAAAAAAAAAAAAAAAAAAAAAAAAAAAAAAAAAA8D8AAAAAAAAAAAAAAAAAAAAAAAAAAAAAAAAAAAAAAADwPwAAAAAAAPA/AAAAAAAA8D8AAAAAAAAAAAAAAAAAAAAAAAAAAAAAAAAAAAAAAAAAAAAAAAAAAAAAAAAAAAAA8D8AAAAAAAAAAAAAAAAAAAAAAAAAAAAAAAAAAAAAAADwPwAAAAAAAAAAAAAAAAAAAAAAAAAAAADwPwAAAAAAAAAAAAAAAAAA8D8AAAAAAAAAAAAAAAAAAAAAAAAAAAAAAAAAAAAAAADwPwAAAAAAAAAAAAAAAAAA8D8AAAAAAAAAAAAAAAAAAAAAAAAAAAAAAAAAAAAAAAAAAAAAAAAAAAAAAAAAAAAAAAAAAAAAAADwPwAAAAAAAPA/AAAAAAAAAAAAAAAAAAAAAAAAAAAAAAAAAAAAAAAAAAAAAAAAAADwPwAAAAAAAPA/AAAAAAAAAAAAAAAAAAAAAAAAAAAAAAAAAAAAAAAAAAAAAAAAAADwPwAAAAAAAAAAAAAAAAAAAAAAAAAAAAAAAAAAAAAAAAAAAAAAAAAAAAAAAAAAAADwPwAAAAAAAAAAAAAAAAAAAAAAAAAAAADwPwAAAAAAAAAAAAAAAAAAAAAAAAAAAAAAAAAAAAAAAAAAAAAAAAAAAAAAAAAAAADwPwAAAAAAAPA/AAAAAAAAAAAAAAAAAAAAAAAAAAAAAAAAAAAAAAAAAAAAAAAAAAAAAAAAAAAAAPA/AAAAAAAAAAAAAAAAAADwPwAAAAAAAAAAAAAAAAAAAAAAAAAAAADwPwAAAAAAAPh/AAAAAAAAAAAAAAAAAAAAAAAAAAAAAAAAAAAAAAAAAAAAAAAAAADwPwAAAAAAAAAAAAAAAAAAAAAAAAAAAAAAAAAAAAAAAAAAAAAAAAAA8D8AAAAAAADwPwAAAAAAAAAAAAAAAAAA8D8AAAAAAAAAAAAAAAAAAAAAAAAAAAAAAAAAAAAAAAAAAAAAAAAAAAAAAAAAAAAAAAAAAAAAAADwPwAAAAAAAAAAAAAAAAAA8D8AAAAAAADwPwAAAAAAAPA/AAAAAAAAAAAAAAAAAAAAAAAAAAAAAAAAAAAAAAAAAAAAAAAAAAAAAAAAAAAAAPA/AAAAAAAAAAAAAAAAAAAAAAAAAAAAAPA/AAAAAAAAAAAAAAAAAADwPwAAAAAAAAAAAAAAAAAAAAAAAAAAAAAAAAAAAAAAAAAAAAAAAAAA8D8AAAAAAAAAAAAAAAAAAAAAAAAAAAAAAAAAAAAAAAAAAAAAAAAAAAAAAAAAAAAAAAAAAAAAAAAAAAAAAAAAAAAAAAAAAAAAAAAAAAAAAAAAAAAAAAAAAAAAAAAAAAAAAAAAAAAAAAAAAAAAAAAAAPA/AAAAAAAA8D8AAAAAAAAAAAAAAAAAAAAAAAAAAAAA8D8AAAAAAADwPwAAAAAAAPA/AAAAAAAAAAAAAAAAAAAAAAAAAAAAAAAAAAAAAAAAAAAAAAAAAAAAAAAAAAAAAPA/AAAAAAAAAAAAAAAAAAAAAAAAAAAAAAAAAAAAAAAA8D8AAAAAAAAAAAAAAAAAAPA/AAAAAAAAAAAAAAAAAADwPwAAAAAAAAAAAAAAAAAAAAAAAAAAAAAAAAAAAAAAAPA/AAAAAAAA8D8AAAAAAAAAAAAAAAAAAAAAAAAAAAAAAAAAAAAAAAAAAAAAAAAAAAAAAAAAAAAA8D8AAAAAAAAAAAAAAAAAAAAAAAAAAAAAAAAAAAAAAAAAAAAAAAAAAPA/AAAAAAAAAAAAAAAAAAAAAAAAAAAAAPA/AAAAAAAAAAAAAAAAAADwPwAAAAAAAAAAAAAAAAAAAAAAAAAAAADwPwAAAAAAAAAAAAAAAAAA8D8AAAAAAADwPwAAAAAAAAAAAAAAAAAAAAAAAAAAAAAAAAAAAAAAAPA/AAAAAAAAAAAAAAAAAADwPwAAAAAAAAAAAAAAAAAAAAAAAAAAAAAAAAAAAAAAAAAAAAAAAAAA8D8AAAAAAAAAAAAAAAAAAAAAAAAAAAAAAAA=\",\"dtype\":\"float64\",\"shape\":[418]},\"Salary\":{\"__ndarray__\":\"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\",\"dtype\":\"float64\",\"shape\":[418]},\"Transport\":[\"Car\",\"Public Transport\",\"Public Transport\",\"Car\",\"Car\",\"Public Transport\",\"Public Transport\",\"Public Transport\",\"2Wheeler\",\"2Wheeler\",\"Public Transport\",\"Public Transport\",\"2Wheeler\",\"Public Transport\",\"2Wheeler\",\"Public Transport\",\"Public Transport\",\"Public Transport\",\"Car\",\"Public Transport\",\"Public Transport\",\"2Wheeler\",\"2Wheeler\",\"2Wheeler\",\"Public Transport\",\"2Wheeler\",\"2Wheeler\",\"2Wheeler\",\"2Wheeler\",\"Public Transport\",\"2Wheeler\",\"Public Transport\",\"Public Transport\",\"Public Transport\",\"Public Transport\",\"Public Transport\",\"Car\",\"Public Transport\",\"Public Transport\",\"Public Transport\",\"Public Transport\",\"Public Transport\",\"Public Transport\",\"Public Transport\",\"Public Transport\",\"Public Transport\",\"Public Transport\",\"Public Transport\",\"2Wheeler\",\"Car\",\"Public Transport\",\"Public Transport\",\"Car\",\"Public Transport\",\"Public Transport\",\"Public Transport\",\"Public Transport\",\"Public Transport\",\"Public Transport\",\"2Wheeler\",\"Car\",\"2Wheeler\",\"2Wheeler\",\"2Wheeler\",\"Public Transport\",\"Car\",\"Public Transport\",\"Public Transport\",\"Public Transport\",\"Public Transport\",\"Public Transport\",\"Public Transport\",\"Public Transport\",\"Public Transport\",\"2Wheeler\",\"2Wheeler\",\"Public Transport\",\"Public Transport\",\"Public Transport\",\"Public Transport\",\"Public Transport\",\"2Wheeler\",\"Public Transport\",\"Public Transport\",\"Public Transport\",\"Public Transport\",\"Public Transport\",\"Public Transport\",\"Public Transport\",\"Public Transport\",\"Public Transport\",\"Public Transport\",\"Public Transport\",\"Public Transport\",\"Public Transport\",\"Public Transport\",\"Public Transport\",\"2Wheeler\",\"Public Transport\",\"Public Transport\",\"Public Transport\",\"Public Transport\",\"2Wheeler\",\"Public Transport\",\"Public Transport\",\"Public Transport\",\"Public Transport\",\"Car\",\"2Wheeler\",\"Public Transport\",\"Public Transport\",\"2Wheeler\",\"Public Transport\",\"Car\",\"Public Transport\",\"Public Transport\",\"Public Transport\",\"Public Transport\",\"Public Transport\",\"Public Transport\",\"Public Transport\",\"Public Transport\",\"Public Transport\",\"2Wheeler\",\"2Wheeler\",\"2Wheeler\",\"Public Transport\",\"Public Transport\",\"Public Transport\",\"Public Transport\",\"Car\",\"Public Transport\",\"Public Transport\",\"Public Transport\",\"Public Transport\",\"Public Transport\",\"Public Transport\",\"Public Transport\",\"Public Transport\",\"Public Transport\",\"2Wheeler\",\"Public Transport\",\"Public Transport\",\"Public Transport\",\"Public Transport\",\"2Wheeler\",\"Public Transport\",\"2Wheeler\",\"Public Transport\",\"Public Transport\",\"Public Transport\",\"Public Transport\",\"Public Transport\",\"Public Transport\",\"2Wheeler\",\"Public Transport\",\"Public Transport\",\"2Wheeler\",\"Public Transport\",\"Public Transport\",\"Public Transport\",\"Public Transport\",\"Public Transport\",\"Public Transport\",\"Car\",\"2Wheeler\",\"Public Transport\",\"2Wheeler\",\"Public Transport\",\"2Wheeler\",\"Public Transport\",\"Public Transport\",\"Car\",\"Public Transport\",\"2Wheeler\",\"Public Transport\",\"Public Transport\",\"Public Transport\",\"2Wheeler\",\"Public Transport\",\"Car\",\"Public Transport\",\"2Wheeler\",\"Public Transport\",\"Public Transport\",\"Public Transport\",\"Car\",\"Public Transport\",\"Public Transport\",\"Public Transport\",\"Public Transport\",\"Public Transport\",\"2Wheeler\",\"Public Transport\",\"2Wheeler\",\"Public Transport\",\"2Wheeler\",\"Public Transport\",\"Public Transport\",\"Public Transport\",\"Public Transport\",\"Public Transport\",\"Public Transport\",\"Public Transport\",\"Public Transport\",\"Public Transport\",\"Public Transport\",\"2Wheeler\",\"Public Transport\",\"Public Transport\",\"Public Transport\",\"Car\",\"Car\",\"Public Transport\",\"Public Transport\",\"Public Transport\",\"Car\",\"2Wheeler\",\"Public Transport\",\"2Wheeler\",\"Public Transport\",\"Public Transport\",\"Public Transport\",\"2Wheeler\",\"Public Transport\",\"Public Transport\",\"Public Transport\",\"Public Transport\",\"Public Transport\",\"Car\",\"2Wheeler\",\"Public Transport\",\"Public Transport\",\"Public Transport\",\"2Wheeler\",\"Public Transport\",\"2Wheeler\",\"Public Transport\",\"Public Transport\",\"Public Transport\",\"Public Transport\",\"Public Transport\",\"Public Transport\",\"Public Transport\",\"Public Transport\",\"2Wheeler\",\"Public Transport\",\"Public Transport\",\"Public Transport\",\"Public Transport\",\"Public Transport\",\"Public Transport\",\"Public Transport\",\"Public Transport\",\"2Wheeler\",\"Public Transport\",\"Car\",\"Public Transport\",\"Public Transport\",\"Public Transport\",\"2Wheeler\",\"Public Transport\",\"2Wheeler\",\"Public Transport\",\"Public Transport\",\"Public Transport\",\"2Wheeler\",\"2Wheeler\",\"Car\",\"Public Transport\",\"Public Transport\",\"Public Transport\",\"Public Transport\",\"2Wheeler\",\"Public Transport\",\"Public Transport\",\"Public Transport\",\"Public Transport\",\"Public Transport\",\"2Wheeler\",\"Public Transport\",\"Public Transport\",\"2Wheeler\",\"Public Transport\",\"Public Transport\",\"Public Transport\",\"2Wheeler\",\"2Wheeler\",\"Public Transport\",\"Public Transport\",\"Car\",\"Public Transport\",\"Public Transport\",\"Public Transport\",\"2Wheeler\",\"Public Transport\",\"Public Transport\",\"Car\",\"Public Transport\",\"2Wheeler\",\"Public Transport\",\"2Wheeler\",\"Public Transport\",\"Public Transport\",\"Public Transport\",\"2Wheeler\",\"Public Transport\",\"Public Transport\",\"Public Transport\",\"Public Transport\",\"Public Transport\",\"2Wheeler\",\"2Wheeler\",\"Public Transport\",\"Public Transport\",\"Public Transport\",\"Public Transport\",\"Public Transport\",\"2Wheeler\",\"Car\",\"Public Transport\",\"Public Transport\",\"Public Transport\",\"Public Transport\",\"Public Transport\",\"Public Transport\",\"Public Transport\",\"Car\",\"Public Transport\",\"2Wheeler\",\"Public Transport\",\"Public Transport\",\"Public Transport\",\"Public Transport\",\"Car\",\"2Wheeler\",\"2Wheeler\",\"Public Transport\",\"2Wheeler\",\"2Wheeler\",\"Public Transport\",\"Public Transport\",\"2Wheeler\",\"Public Transport\",\"Public Transport\",\"Public Transport\",\"Public Transport\",\"Public Transport\",\"Public Transport\",\"Car\",\"2Wheeler\",\"Public Transport\",\"Public Transport\",\"Car\",\"Public Transport\",\"Public Transport\",\"Public Transport\",\"2Wheeler\",\"2Wheeler\",\"2Wheeler\",\"Car\",\"Car\",\"Public Transport\",\"Public Transport\",\"Car\",\"Public Transport\",\"Car\",\"Car\",\"Public Transport\",\"Public Transport\",\"2Wheeler\",\"Public Transport\",\"Public Transport\",\"Public Transport\",\"2Wheeler\",\"Car\",\"Public Transport\",\"Public Transport\",\"Public Transport\",\"2Wheeler\",\"Public Transport\",\"Public Transport\",\"Public Transport\",\"Public Transport\",\"Public Transport\",\"Public Transport\",\"Public Transport\",\"Public Transport\",\"Public Transport\",\"2Wheeler\",\"Public Transport\",\"Public Transport\",\"2Wheeler\",\"Public Transport\",\"Public Transport\",\"Public Transport\",\"Public Transport\",\"Public Transport\",\"Public Transport\",\"Public Transport\",\"Public Transport\",\"Public Transport\",\"Public Transport\",\"Public Transport\",\"Public Transport\",\"2Wheeler\",\"Public Transport\",\"Public Transport\",\"Public Transport\",\"Public Transport\",\"Public Transport\",\"Public Transport\",\"Public Transport\",\"Public Transport\",\"2Wheeler\",\"Public Transport\",\"Public Transport\",\"Public Transport\"],\"Work Exp\":[11,5,1,17,21,7,4,6,0,2,6,2,2,8,0,6,1,2,11,3,10,3,14,4,8,1,4,8,4,4,1,0,6,4,0,8,10,14,7,4,6,0,8,1,3,2,7,5,2,18,0,13,20,7,18,5,6,4,5,6,14,5,6,5,2,24,6,9,1,3,5,4,6,6,2,2,0,9,8,6,3,7,4,3,3,0,2,2,6,3,5,5,6,4,3,4,4,5,3,4,9,8,1,3,9,5,1,14,2,4,8,4,9,19,10,3,2,4,3,7,3,2,10,0,0,5,4,4,8,12,19,6,0,3,6,8,9,1,0,7,5,1,10,5,5,5,5,0,3,3,7,4,8,4,3,6,6,5,4,2,6,3,8,1,20,0,7,7,4,6,13,4,21,8,1,6,16,6,7,4,22,3,8,3,6,3,18,10,5,6,3,4,0,3,3,8,7,4,3,14,4,4,5,3,11,3,3,0,7,2,5,14,19,0,8,7,14,0,6,2,5,7,7,4,6,8,3,2,5,19,0,9,4,2,5,7,0,7,0,9,9,5,9,8,0,8,5,2,5,5,5,5,2,6,4,3,12,3,9,6,0,3,2,0,5,6,2,0,16,2,6,0,3,3,9,9,5,2,3,5,2,4,2,2,16,5,6,4,4,2,21,4,5,6,9,5,1,10,8,5,1,2,6,4,7,10,4,11,5,2,2,8,7,2,10,1,6,2,6,19,2,4,2,2,2,5,5,21,3,2,9,3,16,10,20,7,3,8,4,11,6,1,1,5,6,2,4,3,2,22,9,12,3,16,6,3,6,10,2,8,20,10,6,8,20,4,20,19,4,7,4,4,7,1,8,22,8,6,1,1,3,7,5,4,2,4,9,8,6,2,6,3,15,4,4,0,6,4,7,3,4,7,12,4,0,2,4,11,0,1,8,3,1,11,2,6,7,2],\"index\":[0,1,2,3,4,5,6,7,8,9,10,11,12,13,14,15,16,17,18,19,20,21,22,23,24,25,26,27,28,29,30,31,32,33,34,35,36,37,38,39,40,41,42,43,44,45,46,47,48,49,50,51,52,53,54,55,56,57,58,59,60,61,62,63,64,65,66,67,68,69,70,71,72,73,74,75,76,77,78,79,80,81,82,83,84,85,86,87,88,89,90,91,92,93,94,95,96,97,98,99,100,101,102,103,104,105,106,107,108,109,110,111,112,113,114,115,116,117,118,119,120,121,122,123,124,125,126,127,128,129,130,131,132,133,134,135,136,137,138,139,140,141,142,143,144,145,146,147,148,149,150,151,152,153,154,155,156,157,158,159,160,161,162,163,164,165,166,167,168,169,170,171,172,173,174,175,176,177,178,179,180,181,182,183,184,185,186,187,188,189,190,191,192,193,194,195,196,197,198,199,200,201,202,203,204,205,206,207,208,209,210,211,212,213,214,215,216,217,218,219,220,221,222,223,224,225,226,227,228,229,230,231,232,233,234,235,236,237,238,239,240,241,242,243,244,245,246,247,248,249,250,251,252,253,254,255,256,257,258,259,260,261,262,263,264,265,266,267,268,269,270,271,272,273,274,275,276,277,278,279,280,281,282,283,284,285,286,287,288,289,290,291,292,293,294,295,296,297,298,299,300,301,302,303,304,305,306,307,308,309,310,311,312,313,314,315,316,317,318,319,320,321,322,323,324,325,326,327,328,329,330,331,332,333,334,335,336,337,338,339,340,341,342,343,344,345,346,347,348,349,350,351,352,353,354,355,356,357,358,359,360,361,362,363,364,365,366,367,368,369,370,371,372,373,374,375,376,377,378,379,380,381,382,383,384,385,386,387,388,389,390,391,392,393,394,395,396,397,398,399,400,401,402,403,404,405,406,407,408,409,410,411,412,413,414,415,416,417],\"license\":[1,0,0,1,1,0,0,0,0,0,0,0,0,0,0,0,0,0,1,0,0,0,1,0,0,1,0,0,1,1,0,0,1,0,0,0,0,0,0,0,1,0,0,0,1,0,0,0,0,1,0,0,0,0,1,0,0,1,0,0,0,0,0,0,0,1,0,0,0,0,0,0,0,0,0,0,0,0,0,0,1,0,0,0,0,0,0,0,0,0,0,0,1,0,0,0,0,0,0,0,0,0,0,0,0,0,0,1,0,0,0,0,0,1,0,0,0,0,0,0,0,0,0,0,0,0,0,1,0,0,1,0,0,0,0,0,0,0,0,0,1,0,0,0,0,0,0,0,0,0,0,0,0,0,0,0,0,1,0,0,0,0,0,0,1,1,0,1,0,1,1,0,0,0,0,0,0,0,0,0,1,0,1,0,0,0,1,0,0,0,0,0,0,0,0,1,0,0,0,0,0,0,0,0,0,0,0,0,0,1,0,1,1,0,1,0,0,0,0,0,0,0,0,0,0,0,1,0,0,1,0,0,1,1,1,0,1,0,0,0,0,0,0,0,0,1,0,0,0,0,1,0,0,1,0,0,1,0,0,0,0,0,0,1,0,0,0,0,1,0,0,0,1,0,0,0,0,0,1,1,0,0,0,0,0,0,0,0,0,0,1,0,0,0,0,0,0,0,0,1,1,0,0,1,0,0,0,0,1,0,1,1,0,0,0,0,1,1,0,1,1,0,0,0,0,0,0,1,0,0,0,0,0,0,1,1,0,0,0,1,0,0,1,0,0,0,0,0,0,1,0,0,0,1,1,1,0,1,1,0,1,1,0,0,1,0,1,1,0,0,1,0,0,0,0,1,0,0,0,0,0,0,0,1,0,0,0,0,0,1,0,0,1,0,0,0,0,0,0,0,0,0,0,0,0,0,0,0,0,0,0,0,0,0,0,0,1,1]},\"selected\":{\"id\":\"2326\",\"type\":\"Selection\"},\"selection_policy\":{\"id\":\"2325\",\"type\":\"UnionRenderers\"}},\"id\":\"2154\",\"type\":\"ColumnDataSource\"},{\"attributes\":{\"items\":[{\"id\":\"2465\",\"type\":\"LegendItem\"}],\"plot\":{\"id\":\"2427\",\"subtype\":\"Figure\",\"type\":\"Plot\"}},\"id\":\"2464\",\"type\":\"Legend\"},{\"attributes\":{},\"id\":\"2462\",\"type\":\"BasicTickFormatter\"},{\"attributes\":{\"axis_label\":\"Age\",\"formatter\":{\"id\":\"2462\",\"type\":\"BasicTickFormatter\"},\"plot\":{\"id\":\"2427\",\"subtype\":\"Figure\",\"type\":\"Plot\"},\"ticker\":{\"id\":\"2437\",\"type\":\"BasicTicker\"}},\"id\":\"2436\",\"type\":\"LinearAxis\"},{\"attributes\":{\"active_drag\":\"auto\",\"active_inspect\":\"auto\",\"active_multi\":null,\"active_scroll\":\"auto\",\"active_tap\":\"auto\",\"tools\":[{\"id\":\"2446\",\"type\":\"BoxSelectTool\"},{\"id\":\"2466\",\"type\":\"HoverTool\"}]},\"id\":\"2449\",\"type\":\"Toolbar\"},{\"attributes\":{\"callback\":null,\"tooltips\":[[\"Transport\",\"@Transport\"]]},\"id\":\"2466\",\"type\":\"HoverTool\"}],\"root_ids\":[\"2427\"]},\"title\":\"Bokeh Application\",\"version\":\"1.0.4\"}};\n",
              "  var render_items = [{\"docid\":\"1353f047-3c5d-4333-b165-f2bf652dd7a9\",\"roots\":{\"2427\":\"d3658bc0-451d-4934-accd-c748d96036f7\"}}];\n",
              "  root.Bokeh.embed.embed_items_notebook(docs_json, render_items);\n",
              "\n",
              "  }\n",
              "  if (root.Bokeh !== undefined) {\n",
              "    embed_document(root);\n",
              "  } else {\n",
              "    var attempts = 0;\n",
              "    var timer = setInterval(function(root) {\n",
              "      if (root.Bokeh !== undefined) {\n",
              "        embed_document(root);\n",
              "        clearInterval(timer);\n",
              "      }\n",
              "      attempts++;\n",
              "      if (attempts > 100) {\n",
              "        console.log(\"Bokeh: ERROR: Unable to run BokehJS code because BokehJS library is missing\");\n",
              "        clearInterval(timer);\n",
              "      }\n",
              "    }, 10, root)\n",
              "  }\n",
              "})(window);"
            ],
            "application/vnd.bokehjs_exec.v0+json": ""
          },
          "metadata": {
            "tags": [],
            "application/vnd.bokehjs_exec.v0+json": {
              "id": "2427"
            }
          }
        }
      ]
    },
    {
      "cell_type": "code",
      "metadata": {
        "id": "DiZUXu3Pj5Sg",
        "colab_type": "code",
        "colab": {
          "base_uri": "https://localhost:8080/",
          "height": 449
        },
        "outputId": "4616611d-5173-4ce1-980f-c441dd5f5a06"
      },
      "source": [
        "data1 = data.drop(['Gender','Engineer','MBA','license','Transport'],axis=1)\n",
        "std_scaler = StandardScaler(copy=True, with_mean=True, with_std=True)\n",
        "\n",
        "scaled_array = std_scaler.fit_transform(data1)\n",
        "\n",
        "scaled_df = pd.DataFrame(scaled_array, columns=data1.columns)\n",
        "sns.set()\n",
        "plt.figure(figsize=(6,6))\n",
        "scaled_df.boxplot()\n",
        "plt.xticks(rotation='vertical')\n",
        "plt.show();"
      ],
      "execution_count": 120,
      "outputs": [
        {
          "output_type": "display_data",
          "data": {
            "image/png": "[encoded data removed]",
            "text/plain": [
              "<Figure size 432x432 with 1 Axes>"
            ]
          },
          "metadata": {
            "tags": []
          }
        }
      ]
    },
    {
      "cell_type": "code",
      "metadata": {
        "id": "V3JIEC0h5yor",
        "colab_type": "code",
        "colab": {
          "base_uri": "https://localhost:8080/",
          "height": 523
        },
        "outputId": "cb63767b-5678-4e24-da89-1d2ad4106cce"
      },
      "source": [
        "data_cor = data.corr()\n",
        "\n",
        "\n",
        "plt.figure(figsize=(10,8))\n",
        "sns.heatmap(data_cor,annot=True);"
      ],
      "execution_count": 121,
      "outputs": [
        {
          "output_type": "display_data",
          "data": {
            "image/png": "[encoded data removed]",
            "text/plain": [
              "<Figure size 720x576 with 2 Axes>"
            ]
          },
          "metadata": {
            "tags": []
          }
        }
      ]
    },
    {
      "cell_type": "markdown",
      "metadata": {
        "id": "6r6etbXt6p6B",
        "colab_type": "text"
      },
      "source": [
        "As per the above correlation plot we can say that the feature Age is highly correlated with Work Exp & Salary and also the Work Exp is highly correlated with Salary.\n",
        "\n",
        "So we will drop Work Exp & Salary variable as these are highly correlated  with Age.\n"
      ]
    },
    {
      "cell_type": "code",
      "metadata": {
        "id": "UEWnsOlu64pp",
        "colab_type": "code",
        "colab": {
          "base_uri": "https://localhost:8080/",
          "height": 135
        },
        "outputId": "d7bad110-f6ce-42a7-9950-a5d00389bf27"
      },
      "source": [
        "data = data.drop(['Work Exp','Salary'],axis=1)\n",
        "\n",
        "data.head(3)"
      ],
      "execution_count": 122,
      "outputs": [
        {
          "output_type": "execute_result",
          "data": {
            "text/html": [
              "<div>\n",
              "<style scoped>\n",
              "    .dataframe tbody tr th:only-of-type {\n",
              "        vertical-align: middle;\n",
              "    }\n",
              "\n",
              "    .dataframe tbody tr th {\n",
              "        vertical-align: top;\n",
              "    }\n",
              "\n",
              "    .dataframe thead th {\n",
              "        text-align: right;\n",
              "    }\n",
              "</style>\n",
              "<table border=\"1\" class=\"dataframe\">\n",
              "  <thead>\n",
              "    <tr style=\"text-align: right;\">\n",
              "      <th></th>\n",
              "      <th>Age</th>\n",
              "      <th>Gender</th>\n",
              "      <th>Engineer</th>\n",
              "      <th>MBA</th>\n",
              "      <th>Distance</th>\n",
              "      <th>license</th>\n",
              "      <th>Transport</th>\n",
              "    </tr>\n",
              "  </thead>\n",
              "  <tbody>\n",
              "    <tr>\n",
              "      <th>0</th>\n",
              "      <td>28</td>\n",
              "      <td>1</td>\n",
              "      <td>1</td>\n",
              "      <td>0.0</td>\n",
              "      <td>5.1</td>\n",
              "      <td>0</td>\n",
              "      <td>1</td>\n",
              "    </tr>\n",
              "    <tr>\n",
              "      <th>1</th>\n",
              "      <td>24</td>\n",
              "      <td>1</td>\n",
              "      <td>1</td>\n",
              "      <td>0.0</td>\n",
              "      <td>6.1</td>\n",
              "      <td>0</td>\n",
              "      <td>1</td>\n",
              "    </tr>\n",
              "    <tr>\n",
              "      <th>2</th>\n",
              "      <td>27</td>\n",
              "      <td>0</td>\n",
              "      <td>1</td>\n",
              "      <td>0.0</td>\n",
              "      <td>6.1</td>\n",
              "      <td>0</td>\n",
              "      <td>1</td>\n",
              "    </tr>\n",
              "  </tbody>\n",
              "</table>\n",
              "</div>"
            ],
            "text/plain": [
              "   Age  Gender Engineer  MBA  Distance license  Transport\n",
              "0   28       1        1  0.0       5.1       0          1\n",
              "1   24       1        1  0.0       6.1       0          1\n",
              "2   27       0        1  0.0       6.1       0          1"
            ]
          },
          "metadata": {
            "tags": []
          },
          "execution_count": 122
        }
      ]
    },
    {
      "cell_type": "code",
      "metadata": {
        "id": "yF4F9ChWr4GO",
        "colab_type": "code",
        "colab": {
          "base_uri": "https://localhost:8080/",
          "height": 159
        },
        "outputId": "dee2c3ef-d6dc-4869-f03d-a1c665da8542"
      },
      "source": [
        "# let's split depedent & Indepent Variables\n",
        "x = data.drop(['Transport'],axis=1)\n",
        "y = data['Transport']\n",
        "\n",
        "os = SMOTE(random_state=1234)\n",
        "x_train,x_test,y_train,y_test = \\\n",
        "               train_test_split(x,y,test_size=0.2,random_state=1234,stratify=y)\n",
        "\n",
        "print(x_train.shape,x_test.shape)\n",
        "print()\n",
        "print(y_train.shape,y_test.shape)\n",
        "\n",
        "# For training dataset\n",
        "x_columns = x_train.columns\n",
        "print()\n",
        "print('Train Target :',Counter(y_train))\n",
        "print()\n",
        "print('Test Target :', Counter(y_test))\n",
        "\n",
        "# For training dataset\n",
        "columns = x_train.columns\n",
        "\n",
        "os_data_x,os_data_y = os.fit_sample(x_train,y_train)\n",
        "os_data_x = pd.DataFrame(data = os_data_x,columns=columns)\n",
        "os_data_y = pd.DataFrame(data = os_data_y,columns=['Transport'])\n",
        "\n",
        "print('SMOTE Target :', Counter(os_data_y['Transport']))\n"
      ],
      "execution_count": 123,
      "outputs": [
        {
          "output_type": "stream",
          "text": [
            "(333, 6) (84, 6)\n",
            "\n",
            "(333,) (84,)\n",
            "\n",
            "Train Target : Counter({1: 305, 0: 28})\n",
            "\n",
            "Test Target : Counter({1: 77, 0: 7})\n",
            "SMOTE Target : Counter({0: 305, 1: 305})\n"
          ],
          "name": "stdout"
        }
      ]
    },
    {
      "cell_type": "code",
      "metadata": {
        "id": "Cn7eCF-32tWs",
        "colab_type": "code",
        "colab": {}
      },
      "source": [
        "result_dict = {}\n",
        "\n",
        "# Helper function to summarize\n",
        "def summarize_classification(y_test,y_pred):\n",
        "    \n",
        "    acc = accuracy_score(y_test,y_pred,normalize=True)\n",
        "    num_acc = accuracy_score(y_test,y_pred,normalize=False)\n",
        "    \n",
        "    prec = precision_score(y_test,y_pred)\n",
        "    recall = recall_score(y_test,y_pred)\n",
        "    F1_score =  f1_score(y_test,y_pred)\n",
        "    \n",
        "    return{'Accuracy:': acc,\n",
        "           'Accuracy_count:': num_acc,\n",
        "           'Precision:': prec,\n",
        "           'Recall:': recall,\n",
        "           'F1_score:':F1_score}"
      ],
      "execution_count": 0,
      "outputs": []
    },
    {
      "cell_type": "code",
      "metadata": {
        "id": "ilemY9HN9DXj",
        "colab_type": "code",
        "colab": {}
      },
      "source": [
        "# Helper function to Build Model\n",
        "def build_model(classifier_fn,\n",
        "                name_of_y_col,\n",
        "                name_of_x_cols,\n",
        "                dataset,test_frac=0.2,\n",
        "                show_plot_roc=None):\n",
        "    \n",
        "    # Separating the  input features (X) and target variable (y)\n",
        "    x = dataset[name_of_x_cols]\n",
        "    y= dataset[name_of_y_col]\n",
        "    \n",
        "    # feature Scaling\n",
        "    scale_x = StandardScaler()\n",
        "    os = SMOTE(random_state=1234)\n",
        "    x = scale_x.fit_transform(x)\n",
        "    \n",
        "    x_train,x_test,y_train,y_test = \\\n",
        "            train_test_split(x,y,test_size=test_frac,random_state=1234,stratify=y)\n",
        "    \n",
        "    os_data_x,os_data_y = os.fit_sample(x_train,y_train)\n",
        "    os_data_x = pd.DataFrame(data = os_data_x,columns=x_columns)\n",
        "    os_data_y = pd.DataFrame(data = os_data_y,columns=['Transport'])\n",
        "    \n",
        "    model = classifier_fn(os_data_x,os_data_y)\n",
        "    \n",
        "    y_pred = model.predict(x_test)\n",
        "    \n",
        "    y_pred_train = model.predict(x_train)\n",
        "    \n",
        "    train_summary = summarize_classification(y_train,y_pred_train)\n",
        "    test_summary = summarize_classification(y_test,y_pred)\n",
        "    \n",
        "    pred_result = pd.DataFrame({'y_test':y_test,'y_pred':y_pred})\n",
        "    \n",
        "    model_crosstab = pd.crosstab(pred_result.y_pred,pred_result.y_test)\n",
        "    \n",
        "    if show_plot_roc==True:\n",
        "        logit_roc_auc = roc_auc_score(y_test, model.predict(x_test))\n",
        "        fpr, tpr, thresholds = roc_curve(y_test, model.predict_proba(x_test)[:,1])\n",
        "        plt.figure(figsize=(6,6))\n",
        "        plt.style.use('fivethirtyeight')\n",
        "        plt.plot(fpr, tpr, label='Classification (area = %0.2f)' % logit_roc_auc)\n",
        "        plt.plot([0, 1], [0, 1],'r--')\n",
        "        plt.xlim([-0.05, 1.0])\n",
        "        plt.ylim([0.0, 1.05])\n",
        "        plt.xlabel('False Positive Rate')\n",
        "        plt.ylabel('True Positive Rate')\n",
        "        plt.title('Receiver operating characteristic')\n",
        "        plt.legend(loc=\"lower right\")\n",
        "        plt.show()\n",
        "        \n",
        "    \n",
        "    return{'training':train_summary,\n",
        "          'test':test_summary,\n",
        "          'confusion_matrix':model_crosstab}"
      ],
      "execution_count": 0,
      "outputs": []
    },
    {
      "cell_type": "code",
      "metadata": {
        "id": "dpjbHWT2DO7c",
        "colab_type": "code",
        "colab": {}
      },
      "source": [
        "# Helper function to compare the score of different Model.    \n",
        "def compare_result():\n",
        "    for key in result_dict:\n",
        "        print('Classification: ',key)\n",
        "        \n",
        "        print()\n",
        "        print('Training data:-')\n",
        "        for score in result_dict[key]['training']:\n",
        "            print(score,result_dict[key]['training'][score])\n",
        "            \n",
        "        print()\n",
        "        print('Test Data:-')\n",
        "        for score in result_dict[key]['test']:\n",
        "            print(score,result_dict[key]['test'][score])\n",
        "            \n",
        "        print()"
      ],
      "execution_count": 0,
      "outputs": []
    },
    {
      "cell_type": "markdown",
      "metadata": {
        "id": "PV7HWWR2DVvW",
        "colab_type": "text"
      },
      "source": [
        "### Model 1 : Logistic Regression"
      ]
    },
    {
      "cell_type": "code",
      "metadata": {
        "id": "22pXroJADX_j",
        "colab_type": "code",
        "colab": {}
      },
      "source": [
        "def logistic_fn(x_train,y_train):\n",
        "    model = LogisticRegression(solver='liblinear',random_state=1234)\n",
        "    model.fit(x_train,y_train)\n",
        "    \n",
        "    return model"
      ],
      "execution_count": 0,
      "outputs": []
    },
    {
      "cell_type": "code",
      "metadata": {
        "id": "QJyRdSHVDf5X",
        "colab_type": "code",
        "colab": {
          "base_uri": "https://localhost:8080/",
          "height": 473
        },
        "outputId": "e0b80645-78d6-4655-dbaa-4477e5657d96"
      },
      "source": [
        "%time\n",
        "\n",
        "result_dict['Transport ~ Logistic'] = \\\n",
        "    build_model(logistic_fn,'Transport',x_columns,data,show_plot_roc=True)\n"
      ],
      "execution_count": 128,
      "outputs": [
        {
          "output_type": "stream",
          "text": [
            "CPU times: user 2 µs, sys: 0 ns, total: 2 µs\n",
            "Wall time: 6.44 µs\n"
          ],
          "name": "stdout"
        },
        {
          "output_type": "display_data",
          "data": {
            "image/png": "[encoded data removed]",
            "text/plain": [
              "<Figure size 432x432 with 1 Axes>"
            ]
          },
          "metadata": {
            "tags": []
          }
        }
      ]
    },
    {
      "cell_type": "markdown",
      "metadata": {
        "id": "AhBoAnrfG9Q8",
        "colab_type": "text"
      },
      "source": [
        "### Model 2 : K-Nearest Neighbors (KNN)"
      ]
    },
    {
      "cell_type": "code",
      "metadata": {
        "id": "JsN_AdKuHBpp",
        "colab_type": "code",
        "colab": {}
      },
      "source": [
        "def knn_fn(x_train,y_train,n_neighbors=3):\n",
        "    \n",
        "    model = KNeighborsClassifier(n_neighbors=n_neighbors)\n",
        "    model.fit(x_train,y_train)\n",
        "    \n",
        "    return model"
      ],
      "execution_count": 0,
      "outputs": []
    },
    {
      "cell_type": "code",
      "metadata": {
        "id": "DD9vXKO1HB_a",
        "colab_type": "code",
        "colab": {
          "base_uri": "https://localhost:8080/",
          "height": 473
        },
        "outputId": "99133927-0628-4fe5-b4b0-bc56f15ff4d0"
      },
      "source": [
        "%time\n",
        "\n",
        "result_dict['Transport ~ KNN'] = \\\n",
        "    build_model(knn_fn,'Transport',x_columns,data,show_plot_roc=True)"
      ],
      "execution_count": 130,
      "outputs": [
        {
          "output_type": "stream",
          "text": [
            "CPU times: user 2 µs, sys: 0 ns, total: 2 µs\n",
            "Wall time: 6.68 µs\n"
          ],
          "name": "stdout"
        },
        {
          "output_type": "display_data",
          "data": {
            "image/png": "[encoded data removed]",
            "text/plain": [
              "<Figure size 432x432 with 1 Axes>"
            ]
          },
          "metadata": {
            "tags": []
          }
        }
      ]
    },
    {
      "cell_type": "markdown",
      "metadata": {
        "id": "IpqIQjbiIiMl",
        "colab_type": "text"
      },
      "source": [
        "### Model 3 : Naive Bayes Classifier"
      ]
    },
    {
      "cell_type": "code",
      "metadata": {
        "id": "q-NSl7SgHCQ5",
        "colab_type": "code",
        "colab": {}
      },
      "source": [
        "def naive_bayes_fn(x_train,y_train,priors=None):\n",
        "    \n",
        "    model = GaussianNB(priors=priors)\n",
        "    model.fit(x_train,y_train)\n",
        "    \n",
        "    return model "
      ],
      "execution_count": 0,
      "outputs": []
    },
    {
      "cell_type": "code",
      "metadata": {
        "id": "Mrd9tL-8HCJp",
        "colab_type": "code",
        "colab": {
          "base_uri": "https://localhost:8080/",
          "height": 437
        },
        "outputId": "45877f40-d518-4b44-ca17-c678089bea87"
      },
      "source": [
        "result_dict['Transport ~ Naive_Bayes'] = \\\n",
        "    build_model(naive_bayes_fn,'Transport',x_columns,data,show_plot_roc=True)"
      ],
      "execution_count": 132,
      "outputs": [
        {
          "output_type": "display_data",
          "data": {
            "image/png": "[encoded data removed]",
            "text/plain": [
              "<Figure size 432x432 with 1 Axes>"
            ]
          },
          "metadata": {
            "tags": []
          }
        }
      ]
    },
    {
      "cell_type": "code",
      "metadata": {
        "id": "sQweya62HCGR",
        "colab_type": "code",
        "colab": {
          "base_uri": "https://localhost:8080/",
          "height": 870
        },
        "outputId": "3d38706c-9510-41be-b172-d70bc7ed4da0"
      },
      "source": [
        "compare_result()"
      ],
      "execution_count": 133,
      "outputs": [
        {
          "output_type": "stream",
          "text": [
            "Classification:  Transport ~ Logistic\n",
            "\n",
            "Training data:-\n",
            "Accuracy: 0.9669669669669669\n",
            "Accuracy_count: 322\n",
            "Precision: 1.0\n",
            "Recall: 0.9639344262295082\n",
            "F1_score: 0.9816360601001669\n",
            "\n",
            "Test Data:-\n",
            "Accuracy: 0.9642857142857143\n",
            "Accuracy_count: 81\n",
            "Precision: 1.0\n",
            "Recall: 0.961038961038961\n",
            "F1_score: 0.9801324503311257\n",
            "\n",
            "Classification:  Transport ~ KNN\n",
            "\n",
            "Training data:-\n",
            "Accuracy: 0.984984984984985\n",
            "Accuracy_count: 328\n",
            "Precision: 1.0\n",
            "Recall: 0.9836065573770492\n",
            "F1_score: 0.9917355371900827\n",
            "\n",
            "Test Data:-\n",
            "Accuracy: 0.9523809523809523\n",
            "Accuracy_count: 80\n",
            "Precision: 0.9866666666666667\n",
            "Recall: 0.961038961038961\n",
            "F1_score: 0.9736842105263157\n",
            "\n",
            "Classification:  Transport ~ Naive_Bayes\n",
            "\n",
            "Training data:-\n",
            "Accuracy: 0.972972972972973\n",
            "Accuracy_count: 324\n",
            "Precision: 0.9933333333333333\n",
            "Recall: 0.9770491803278688\n",
            "F1_score: 0.9851239669421487\n",
            "\n",
            "Test Data:-\n",
            "Accuracy: 0.9642857142857143\n",
            "Accuracy_count: 81\n",
            "Precision: 1.0\n",
            "Recall: 0.961038961038961\n",
            "F1_score: 0.9801324503311257\n",
            "\n"
          ],
          "name": "stdout"
        }
      ]
    },
    {
      "cell_type": "markdown",
      "metadata": {
        "id": "JNMwaayMm8eA",
        "colab_type": "text"
      },
      "source": [
        "### Model 4 : Voting Classifiers\n",
        "\n",
        "This majority-vote classifier is called a hard voting classifier"
      ]
    },
    {
      "cell_type": "code",
      "metadata": {
        "id": "7yrfb4xEm7sc",
        "colab_type": "code",
        "colab": {
          "base_uri": "https://localhost:8080/",
          "height": 426
        },
        "outputId": "a629ccc4-d365-49b0-a363-e83c8fc4b6a2"
      },
      "source": [
        "%time\n",
        "\n",
        "log_clf = LogisticRegression(solver='liblinear',random_state=1234)\n",
        "knn_clf = KNeighborsClassifier()\n",
        "gnb_clf = GaussianNB()\n",
        "\n",
        "voting_clf = VotingClassifier(\n",
        "    estimators = [('log_reg',log_clf),('knn',knn_clf),('gnb' ,gnb_clf)],voting='hard')\n",
        "\n",
        "voting_clf.fit(x_train,y_train)"
      ],
      "execution_count": 134,
      "outputs": [
        {
          "output_type": "stream",
          "text": [
            "CPU times: user 3 µs, sys: 0 ns, total: 3 µs\n",
            "Wall time: 7.39 µs\n"
          ],
          "name": "stdout"
        },
        {
          "output_type": "execute_result",
          "data": {
            "text/plain": [
              "VotingClassifier(estimators=[('log_reg',\n",
              "                              LogisticRegression(C=1.0, class_weight=None,\n",
              "                                                 dual=False, fit_intercept=True,\n",
              "                                                 intercept_scaling=1,\n",
              "                                                 l1_ratio=None, max_iter=100,\n",
              "                                                 multi_class='warn',\n",
              "                                                 n_jobs=None, penalty='l2',\n",
              "                                                 random_state=1234,\n",
              "                                                 solver='liblinear', tol=0.0001,\n",
              "                                                 verbose=0, warm_start=False)),\n",
              "                             ('knn',\n",
              "                              KNeighborsClassifier(algorithm='auto',\n",
              "                                                   leaf_size=30,\n",
              "                                                   metric='minkowski',\n",
              "                                                   metric_params=None,\n",
              "                                                   n_jobs=None, n_neighbors=5,\n",
              "                                                   p=2, weights='uniform')),\n",
              "                             ('gnb',\n",
              "                              GaussianNB(priors=None, var_smoothing=1e-09))],\n",
              "                 flatten_transform=True, n_jobs=None, voting='hard',\n",
              "                 weights=None)"
            ]
          },
          "metadata": {
            "tags": []
          },
          "execution_count": 134
        }
      ]
    },
    {
      "cell_type": "code",
      "metadata": {
        "id": "K3YUqbW_0mcG",
        "colab_type": "code",
        "colab": {
          "base_uri": "https://localhost:8080/",
          "height": 301
        },
        "outputId": "43fd17fb-1f05-462a-e4ff-f9b62649af4b"
      },
      "source": [
        "y_pred_voting = voting_clf.predict(x_test)\n",
        "\n",
        "print('VotingClassifier Accuracy Score :', voting_clf.score(x_test,y_test))\n",
        "print()\n",
        "print(pd.crosstab(y_test,y_pred_voting))\n",
        "print()\n",
        "print(classification_report(y_test,y_pred_voting))"
      ],
      "execution_count": 135,
      "outputs": [
        {
          "output_type": "stream",
          "text": [
            "VotingClassifier Accuracy Score : 0.9880952380952381\n",
            "\n",
            "col_0      0   1\n",
            "Transport       \n",
            "0          7   0\n",
            "1          1  76\n",
            "\n",
            "              precision    recall  f1-score   support\n",
            "\n",
            "           0       0.88      1.00      0.93         7\n",
            "           1       1.00      0.99      0.99        77\n",
            "\n",
            "    accuracy                           0.99        84\n",
            "   macro avg       0.94      0.99      0.96        84\n",
            "weighted avg       0.99      0.99      0.99        84\n",
            "\n"
          ],
          "name": "stdout"
        }
      ]
    },
    {
      "cell_type": "code",
      "metadata": {
        "id": "HWGegcX_HCDd",
        "colab_type": "code",
        "colab": {
          "base_uri": "https://localhost:8080/",
          "height": 88
        },
        "outputId": "684332fb-eb48-48ef-95cc-2cacc5e009e9"
      },
      "source": [
        "# Let’s look at each classifier’s accuracy on the test set:\n",
        "\n",
        "for clf in (log_clf,knn_clf,gnb_clf,voting_clf):\n",
        "  \n",
        "  clf.fit(x_train,y_train)\n",
        "  y_pred = clf.predict(x_test)\n",
        "    \n",
        "  print(clf.__class__.__name__,accuracy_score(y_test,y_pred)*100)"
      ],
      "execution_count": 136,
      "outputs": [
        {
          "output_type": "stream",
          "text": [
            "LogisticRegression 94.04761904761905\n",
            "KNeighborsClassifier 100.0\n",
            "GaussianNB 97.61904761904762\n",
            "VotingClassifier 98.80952380952381\n"
          ],
          "name": "stdout"
        }
      ]
    },
    {
      "cell_type": "markdown",
      "metadata": {
        "id": "tWubwd8hRAhR",
        "colab_type": "text"
      },
      "source": [
        "## Bagging Models\n",
        "### Model 5 : Random Forest Classifiers with default bagging"
      ]
    },
    {
      "cell_type": "code",
      "metadata": {
        "id": "lnCzwItEOUn_",
        "colab_type": "code",
        "colab": {
          "base_uri": "https://localhost:8080/",
          "height": 437
        },
        "outputId": "b57944dc-71d7-4bac-86b6-dbc6da801fa2"
      },
      "source": [
        "def random_forest(x_train,y_train):\n",
        "  \n",
        "  model = RandomForestClassifier(n_estimators=50, max_leaf_nodes=5, n_jobs=-1)\n",
        "  model.fit(x_train, y_train)\n",
        "  return model\n",
        "\n",
        "result_dict['Transport ~ Random Forest'] = \\\n",
        "    build_model(random_forest,'Transport',x_columns,data,show_plot_roc=True)"
      ],
      "execution_count": 137,
      "outputs": [
        {
          "output_type": "display_data",
          "data": {
            "image/png": "[encoded data removed]",
            "text/plain": [
              "<Figure size 432x432 with 1 Axes>"
            ]
          },
          "metadata": {
            "tags": []
          }
        }
      ]
    },
    {
      "cell_type": "markdown",
      "metadata": {
        "id": "sO56ng2qHUwm",
        "colab_type": "text"
      },
      "source": [
        "### Model 5a : Bagging  for Logistic Regression Classifiers"
      ]
    },
    {
      "cell_type": "code",
      "metadata": {
        "id": "A77okOuGG3ma",
        "colab_type": "code",
        "colab": {
          "base_uri": "https://localhost:8080/",
          "height": 301
        },
        "outputId": "6a99293f-8992-46ef-f106-478562b08c1f"
      },
      "source": [
        "bag_clf = BaggingClassifier(\n",
        "    LogisticRegression(solver='liblinear'),\n",
        "    max_samples=100, bootstrap=True, n_jobs=-1)\n",
        "bag_clf.fit(os_data_x, os_data_y)\n",
        "y_pred_bagging = bag_clf.predict(x_test)\n",
        "\n",
        "print('BaggingClassifier for Logistic Regression Accuracy Score :', voting_clf.score(x_test,y_test))\n",
        "print()\n",
        "print(pd.crosstab(y_test,y_pred_bagging))\n",
        "print()\n",
        "print(classification_report(y_test,y_pred_bagging))"
      ],
      "execution_count": 138,
      "outputs": [
        {
          "output_type": "stream",
          "text": [
            "BaggingClassifier for Logistic Regression Accuracy Score : 0.9880952380952381\n",
            "\n",
            "col_0       0   1\n",
            "Transport        \n",
            "0           6   1\n",
            "1          12  65\n",
            "\n",
            "              precision    recall  f1-score   support\n",
            "\n",
            "           0       0.33      0.86      0.48         7\n",
            "           1       0.98      0.84      0.91        77\n",
            "\n",
            "    accuracy                           0.85        84\n",
            "   macro avg       0.66      0.85      0.69        84\n",
            "weighted avg       0.93      0.85      0.87        84\n",
            "\n"
          ],
          "name": "stdout"
        }
      ]
    },
    {
      "cell_type": "markdown",
      "metadata": {
        "id": "AtIV_ZeX74AH",
        "colab_type": "text"
      },
      "source": [
        "### Model 5b : Bagging  for KNN Classifiers\n",
        "\n",
        "* According to this oob evaluation, this BaggingClassifier is likely to achieve about 96.99% accuracy on the test set. \n",
        "* Let’s verify this:\n",
        "* We get 98.88% accuracy on the test set—close enough!"
      ]
    },
    {
      "cell_type": "code",
      "metadata": {
        "id": "Mt2DWzGcxzia",
        "colab_type": "code",
        "colab": {
          "base_uri": "https://localhost:8080/",
          "height": 337
        },
        "outputId": "2bbfeb02-84eb-42c1-bf53-4701713f6c09"
      },
      "source": [
        "bag_clf = BaggingClassifier(\n",
        "    KNeighborsClassifier(),max_samples=100, bootstrap=True, n_jobs=-1, oob_score=True)\n",
        "bag_clf.fit(x_train, y_train)\n",
        "y_pred_bagging = bag_clf.predict(x_test)\n",
        "\n",
        "print('BaggingClassifier for KNN Accuracy Score :', voting_clf.score(x_test,y_test),'\\n')\n",
        "print('Out of Bag Score :',bag_clf.oob_score_,'\\n')\n",
        "print(pd.crosstab(y_test,y_pred_bagging))\n",
        "print()\n",
        "print(classification_report(y_test,y_pred_bagging))"
      ],
      "execution_count": 139,
      "outputs": [
        {
          "output_type": "stream",
          "text": [
            "BaggingClassifier for KNN Accuracy Score : 0.9880952380952381 \n",
            "\n",
            "Out of Bag Score : 0.975975975975976 \n",
            "\n",
            "col_0      0   1\n",
            "Transport       \n",
            "0          6   1\n",
            "1          0  77\n",
            "\n",
            "              precision    recall  f1-score   support\n",
            "\n",
            "           0       1.00      0.86      0.92         7\n",
            "           1       0.99      1.00      0.99        77\n",
            "\n",
            "    accuracy                           0.99        84\n",
            "   macro avg       0.99      0.93      0.96        84\n",
            "weighted avg       0.99      0.99      0.99        84\n",
            "\n"
          ],
          "name": "stdout"
        }
      ]
    },
    {
      "cell_type": "markdown",
      "metadata": {
        "id": "g_tcMNU5GSMn",
        "colab_type": "text"
      },
      "source": [
        "### Model 5c : Bagging  for Naive Bayes Classifiers\n",
        "\n",
        "\n",
        "* According to this oob evaluation, this BaggingClassifier is likely to achieve about 96.39% accuracy on the test set. \n",
        "* Let’s verify this:\n",
        "* We get 98.88% accuracy on the test set—close enough!"
      ]
    },
    {
      "cell_type": "code",
      "metadata": {
        "id": "lDpOXiLTF5Zk",
        "colab_type": "code",
        "colab": {
          "base_uri": "https://localhost:8080/",
          "height": 337
        },
        "outputId": "d79b81ed-6f1a-4559-a555-7888e3da1a9e"
      },
      "source": [
        "\n",
        "bag_clf = BaggingClassifier(\n",
        "    GaussianNB(),max_samples=100, bootstrap=True, n_jobs=-1,oob_score=True)\n",
        "\n",
        "bag_clf.fit(x_train, y_train)\n",
        "y_pred_bagging = bag_clf.predict(x_test)\n",
        "\n",
        "print('BaggingClassifier for Naive Bayes Accuracy Score :', voting_clf.score(x_test,y_test),'\\n')\n",
        "print('Out of Bag Score :',bag_clf.oob_score_,'\\n')\n",
        "print(pd.crosstab(y_test,y_pred_bagging))\n",
        "print()\n",
        "print(classification_report(y_test,y_pred_bagging))\n"
      ],
      "execution_count": 140,
      "outputs": [
        {
          "output_type": "stream",
          "text": [
            "BaggingClassifier for Naive Bayes Accuracy Score : 0.9880952380952381 \n",
            "\n",
            "Out of Bag Score : 0.954954954954955 \n",
            "\n",
            "col_0      0   1\n",
            "Transport       \n",
            "0          6   1\n",
            "1          4  73\n",
            "\n",
            "              precision    recall  f1-score   support\n",
            "\n",
            "           0       0.60      0.86      0.71         7\n",
            "           1       0.99      0.95      0.97        77\n",
            "\n",
            "    accuracy                           0.94        84\n",
            "   macro avg       0.79      0.90      0.84        84\n",
            "weighted avg       0.95      0.94      0.95        84\n",
            "\n"
          ],
          "name": "stdout"
        }
      ]
    },
    {
      "cell_type": "markdown",
      "metadata": {
        "id": "HI6jpY43SClw",
        "colab_type": "text"
      },
      "source": [
        "## Boosting Classifier\n",
        "### Model 6 : Gradient Boosting Classifier"
      ]
    },
    {
      "cell_type": "code",
      "metadata": {
        "id": "vTzHkL-8RYxL",
        "colab_type": "code",
        "colab": {
          "base_uri": "https://localhost:8080/",
          "height": 337
        },
        "outputId": "ca51b19b-3f8c-458d-e731-5a53a842dc8b"
      },
      "source": [
        "%time\n",
        "\n",
        "GB_clf = GradientBoostingClassifier(max_depth=2, n_estimators=3, learning_rate=1.0)\n",
        "\n",
        "GB_clf.fit(x_train, y_train)\n",
        "\n",
        "y_pred_GB_clf = GB_clf.predict(x_test)\n",
        "\n",
        "print('GradientBoostingClassifier Accuracy Score :', GB_clf.score(x_test,y_test),'\\n')\n",
        "\n",
        "print(pd.crosstab(y_test,y_pred_GB_clf))\n",
        "print()\n",
        "print(classification_report(y_test,y_pred_GB_clf))"
      ],
      "execution_count": 142,
      "outputs": [
        {
          "output_type": "stream",
          "text": [
            "CPU times: user 2 µs, sys: 1e+03 ns, total: 3 µs\n",
            "Wall time: 5.48 µs\n",
            "GradientBoostingClassifier Accuracy Score : 1.0 \n",
            "\n",
            "col_0      0   1\n",
            "Transport       \n",
            "0          7   0\n",
            "1          0  77\n",
            "\n",
            "              precision    recall  f1-score   support\n",
            "\n",
            "           0       1.00      1.00      1.00         7\n",
            "           1       1.00      1.00      1.00        77\n",
            "\n",
            "    accuracy                           1.00        84\n",
            "   macro avg       1.00      1.00      1.00        84\n",
            "weighted avg       1.00      1.00      1.00        84\n",
            "\n"
          ],
          "name": "stdout"
        }
      ]
    },
    {
      "cell_type": "markdown",
      "metadata": {
        "id": "Rqip-SHBTDDt",
        "colab_type": "text"
      },
      "source": [
        "### Model 6a : Extreme Gradient Boosting Classifier (XGBoost)"
      ]
    },
    {
      "cell_type": "code",
      "metadata": {
        "id": "BZtgvswLS-PE",
        "colab_type": "code",
        "colab": {
          "base_uri": "https://localhost:8080/",
          "height": 372
        },
        "outputId": "b211211d-637e-4280-930b-55213a39ea8b"
      },
      "source": [
        "%time\n",
        "\n",
        "import xgboost as xgb\n",
        "\n",
        "xgb_clf = Pipeline(steps=[('xgboost',xgb.XGBClassifier(objective='binary:logistic'))])\n",
        "\n",
        "scores = cross_val_score(xgb_clf,os_data_x,os_data_y,cv=10)\n",
        "\n",
        "print('Accuracy for XGBoost Classifier with Cross Validation on SMOTE data: ',scores.mean(),'\\n')\n",
        "\n",
        "xgb_clf.fit(x_train.astype('float'),y_train.astype('float'))\n",
        "\n",
        "y_pred_xgb_clf = xgb_clf.predict(x_test.astype('float'))\n",
        "\n",
        "print('XGBoosting Accuracy Score on Un-balanced dataset :', accuracy_score(y_test,y_pred_xgb_clf),'\\n')\n",
        "\n",
        "print(pd.crosstab(y_test,y_pred_xgb_clf))\n",
        "print()\n",
        "print(classification_report(y_test,y_pred_xgb_clf))"
      ],
      "execution_count": 143,
      "outputs": [
        {
          "output_type": "stream",
          "text": [
            "CPU times: user 3 µs, sys: 1 µs, total: 4 µs\n",
            "Wall time: 6.44 µs\n",
            "Accuracy for XGBoost Classifier with Cross Validation on SMOTE data:  0.9918279569892471 \n",
            "\n",
            "XGBoosting Accuracy Score on Un-balanced dataset : 1.0 \n",
            "\n",
            "col_0      0.0  1.0\n",
            "Transport          \n",
            "0            7    0\n",
            "1            0   77\n",
            "\n",
            "              precision    recall  f1-score   support\n",
            "\n",
            "           0       1.00      1.00      1.00         7\n",
            "           1       1.00      1.00      1.00        77\n",
            "\n",
            "    accuracy                           1.00        84\n",
            "   macro avg       1.00      1.00      1.00        84\n",
            "weighted avg       1.00      1.00      1.00        84\n",
            "\n"
          ],
          "name": "stdout"
        }
      ]
    },
    {
      "cell_type": "markdown",
      "metadata": {
        "id": "qRMAwNimKGoQ",
        "colab_type": "text"
      },
      "source": [
        "## Let's build theModel for 3 Class Classifcation problem\n",
        "* Logistic Regression\n",
        "* KNN\n",
        "* Naive Bayes \n",
        "* XGBoost"
      ]
    },
    {
      "cell_type": "code",
      "metadata": {
        "id": "glIkYOKUwGlc",
        "colab_type": "code",
        "colab": {
          "base_uri": "https://localhost:8080/",
          "height": 35
        },
        "outputId": "ac3bb5ef-a948-4d64-b7d1-642161acd6ba"
      },
      "source": [
        "np.random.seed(1234)\n",
        "df_3Class = df_3Class.dropna()\n",
        "\n",
        "df_3Class['Transport'] = df_3Class['Transport'].astype('category')\n",
        "df_3Class['license'] = df_3Class['license'].astype('category')\n",
        "df_3Class['MBA'] = df_3Class['MBA'].astype('category')\n",
        "df_3Class['Engineer'] = df_3Class['Engineer'].astype('category')\n",
        "df_3Class['Gender'] = df_3Class['Gender'].astype('category')\n",
        "\n",
        "label = LabelEncoder()\n",
        "\n",
        "df_3Class['Transport'] = label.fit_transform(df_3Class['Transport'])\n",
        "df_3Class['Gender'] = label.fit_transform(df_3Class['Gender'])\n",
        "\n",
        "df_3Class = df_3Class.drop(['Work Exp','Salary'],axis=1)\n",
        "\n",
        "print(Counter(df_3Class.Transport))"
      ],
      "execution_count": 144,
      "outputs": [
        {
          "output_type": "stream",
          "text": [
            "Counter({2: 299, 0: 83, 1: 35})\n"
          ],
          "name": "stdout"
        }
      ]
    },
    {
      "cell_type": "code",
      "metadata": {
        "id": "xnXdr2IYuulu",
        "colab_type": "code",
        "colab": {
          "base_uri": "https://localhost:8080/",
          "height": 88
        },
        "outputId": "e50ce9e3-b935-492a-f260-c00693febc7b"
      },
      "source": [
        "# let's split depedent & Indepent Variables for 3 Class Classification Problem\n",
        "x = df_3Class.drop(['Transport'],axis=1)\n",
        "y = df_3Class['Transport']\n",
        "\n",
        "os = SMOTE(random_state=1234)\n",
        "x_train,x_test,y_train,y_test = train_test_split(x,y,test_size=0.2,random_state=1234,stratify=y)\n",
        "\n",
        "print(x_train.shape,x_test.shape)\n",
        "print(y_train.shape,y_test.shape)\n",
        "\n",
        "# For training dataset\n",
        "columns = x_train.columns\n",
        "\n",
        "os_data_x,os_data_y = os.fit_sample(x_train,y_train)\n",
        "os_data_x = pd.DataFrame(data = os_data_x,columns=columns)\n",
        "os_data_y = pd.DataFrame(data = os_data_y,columns=['Transport'])\n",
        "\n",
        "print(os_data_x.shape,os_data_y.shape)\n",
        "\n",
        "print(Counter(os_data_y['Transport']))"
      ],
      "execution_count": 145,
      "outputs": [
        {
          "output_type": "stream",
          "text": [
            "(333, 6) (84, 6)\n",
            "(333,) (84,)\n",
            "(717, 6) (717, 1)\n",
            "Counter({2: 239, 0: 239, 1: 239})\n"
          ],
          "name": "stdout"
        }
      ]
    },
    {
      "cell_type": "markdown",
      "metadata": {
        "id": "9tEWFCaEojrq",
        "colab_type": "text"
      },
      "source": [
        "### Model 1 : Multinomial Logistic Regression"
      ]
    },
    {
      "cell_type": "code",
      "metadata": {
        "id": "bq24gcdTm3KI",
        "colab_type": "code",
        "colab": {
          "base_uri": "https://localhost:8080/",
          "height": 70
        },
        "outputId": "4e44e4c0-adc8-44e0-d4f6-bfe9bcf3d9e2"
      },
      "source": [
        "%%time\n",
        "\n",
        "pl_log_reg = Pipeline(steps=[('scaler',StandardScaler()),\n",
        "                             ('log_reg',LogisticRegression(multi_class='multinomial',solver='sag',max_iter=20))])\n",
        "\n",
        "scores = cross_val_score(pl_log_reg,os_data_x,os_data_y,cv=10,scoring='accuracy')\n",
        "print('Accuracy for Logisitic Regression : ',scores.mean())"
      ],
      "execution_count": 146,
      "outputs": [
        {
          "output_type": "stream",
          "text": [
            "Accuracy for Logisitic Regression :  0.8132246376811594\n",
            "CPU times: user 107 ms, sys: 1.36 ms, total: 109 ms\n",
            "Wall time: 113 ms\n"
          ],
          "name": "stdout"
        }
      ]
    },
    {
      "cell_type": "code",
      "metadata": {
        "id": "xvatkIAlxH5-",
        "colab_type": "code",
        "colab": {
          "base_uri": "https://localhost:8080/",
          "height": 340
        },
        "outputId": "8f315879-f0d9-43ea-98c5-49a4445c7e78"
      },
      "source": [
        "log_model = LogisticRegression(multi_class='multinomial',solver='sag',max_iter=20,random_state=1234,)\n",
        "log_model.fit(x_train,y_train)\n",
        "\n",
        "y_pred_log = log_model.predict(x_test)\n",
        "\n",
        "act_pred = pd.DataFrame({'Acual':y_test,'Predicted':y_pred_log})\n",
        "\n",
        "act_pred.sample(10)"
      ],
      "execution_count": 147,
      "outputs": [
        {
          "output_type": "execute_result",
          "data": {
            "text/html": [
              "<div>\n",
              "<style scoped>\n",
              "    .dataframe tbody tr th:only-of-type {\n",
              "        vertical-align: middle;\n",
              "    }\n",
              "\n",
              "    .dataframe tbody tr th {\n",
              "        vertical-align: top;\n",
              "    }\n",
              "\n",
              "    .dataframe thead th {\n",
              "        text-align: right;\n",
              "    }\n",
              "</style>\n",
              "<table border=\"1\" class=\"dataframe\">\n",
              "  <thead>\n",
              "    <tr style=\"text-align: right;\">\n",
              "      <th></th>\n",
              "      <th>Acual</th>\n",
              "      <th>Predicted</th>\n",
              "    </tr>\n",
              "  </thead>\n",
              "  <tbody>\n",
              "    <tr>\n",
              "      <th>192</th>\n",
              "      <td>0</td>\n",
              "      <td>2</td>\n",
              "    </tr>\n",
              "    <tr>\n",
              "      <th>231</th>\n",
              "      <td>2</td>\n",
              "      <td>2</td>\n",
              "    </tr>\n",
              "    <tr>\n",
              "      <th>5</th>\n",
              "      <td>2</td>\n",
              "      <td>2</td>\n",
              "    </tr>\n",
              "    <tr>\n",
              "      <th>161</th>\n",
              "      <td>2</td>\n",
              "      <td>2</td>\n",
              "    </tr>\n",
              "    <tr>\n",
              "      <th>35</th>\n",
              "      <td>2</td>\n",
              "      <td>2</td>\n",
              "    </tr>\n",
              "    <tr>\n",
              "      <th>31</th>\n",
              "      <td>2</td>\n",
              "      <td>2</td>\n",
              "    </tr>\n",
              "    <tr>\n",
              "      <th>287</th>\n",
              "      <td>0</td>\n",
              "      <td>2</td>\n",
              "    </tr>\n",
              "    <tr>\n",
              "      <th>386</th>\n",
              "      <td>2</td>\n",
              "      <td>2</td>\n",
              "    </tr>\n",
              "    <tr>\n",
              "      <th>375</th>\n",
              "      <td>1</td>\n",
              "      <td>2</td>\n",
              "    </tr>\n",
              "    <tr>\n",
              "      <th>238</th>\n",
              "      <td>2</td>\n",
              "      <td>2</td>\n",
              "    </tr>\n",
              "  </tbody>\n",
              "</table>\n",
              "</div>"
            ],
            "text/plain": [
              "     Acual  Predicted\n",
              "192      0          2\n",
              "231      2          2\n",
              "5        2          2\n",
              "161      2          2\n",
              "35       2          2\n",
              "31       2          2\n",
              "287      0          2\n",
              "386      2          2\n",
              "375      1          2\n",
              "238      2          2"
            ]
          },
          "metadata": {
            "tags": []
          },
          "execution_count": 147
        }
      ]
    },
    {
      "cell_type": "code",
      "metadata": {
        "id": "sCVKt1xq-7Mp",
        "colab_type": "code",
        "colab": {
          "base_uri": "https://localhost:8080/",
          "height": 337
        },
        "outputId": "2e8924ce-f429-4c1c-9e8c-af25f09f0f1c"
      },
      "source": [
        "print('Logistic Regression Accuracy Score :', log_model.score(x_test,y_test))\n",
        "print()\n",
        "print(pd.crosstab(y_test,y_pred_log))\n",
        "print()\n",
        "print(classification_report(y_test,y_pred_log))"
      ],
      "execution_count": 148,
      "outputs": [
        {
          "output_type": "stream",
          "text": [
            "Logistic Regression Accuracy Score : 0.6904761904761905\n",
            "\n",
            "col_0      0  1   2\n",
            "Transport          \n",
            "0          0  2  15\n",
            "1          0  0   7\n",
            "2          2  0  58\n",
            "\n",
            "              precision    recall  f1-score   support\n",
            "\n",
            "           0       0.00      0.00      0.00        17\n",
            "           1       0.00      0.00      0.00         7\n",
            "           2       0.72      0.97      0.83        60\n",
            "\n",
            "    accuracy                           0.69        84\n",
            "   macro avg       0.24      0.32      0.28        84\n",
            "weighted avg       0.52      0.69      0.59        84\n",
            "\n"
          ],
          "name": "stdout"
        }
      ]
    },
    {
      "cell_type": "markdown",
      "metadata": {
        "id": "iLwjYJceocpO",
        "colab_type": "text"
      },
      "source": [
        "### Model 2 : Multi Class K-Nearest Neighbors (KNN)"
      ]
    },
    {
      "cell_type": "code",
      "metadata": {
        "id": "PVkt-GC-oni_",
        "colab_type": "code",
        "colab": {
          "base_uri": "https://localhost:8080/",
          "height": 554
        },
        "outputId": "b8c377fe-2a6a-4823-df1f-07fc8c72b8c9"
      },
      "source": [
        "# Setup arrays to store train and test accuracies\n",
        "neighbors = np.arange(1, 20)\n",
        "train_accuracy = np.empty(len(neighbors))\n",
        "test_accuracy = np.empty(len(neighbors))\n",
        "\n",
        "# Loop over different values of k\n",
        "for i, k in enumerate(neighbors):\n",
        "    # Setup a k-NN Classifier with k neighbors: knn\n",
        "    knn = KNeighborsClassifier(n_neighbors=k)\n",
        "\n",
        "    # Fit the classifier to the training data\n",
        "    knn.fit(x_train,y_train)\n",
        "    \n",
        "    #Compute accuracy on the training set\n",
        "    train_accuracy[i] = knn.score(x_train, y_train)\n",
        "\n",
        "    #Compute accuracy on the testing set\n",
        "    test_accuracy[i] = knn.score(x_test, y_test)\n",
        "\n",
        "# Generate plot\n",
        "plt.figure(figsize=(10,8))\n",
        "plt.title('k-NN: Varying Number of Neighbors')\n",
        "plt.plot(neighbors, test_accuracy, label = 'Testing Accuracy')\n",
        "plt.plot(neighbors, train_accuracy, label = 'Training Accuracy')\n",
        "plt.legend()\n",
        "plt.xlabel('Number of Neighbors')\n",
        "plt.ylabel('Accuracy')\n",
        "plt.xlim(1,19)\n",
        "plt.show()\n"
      ],
      "execution_count": 149,
      "outputs": [
        {
          "output_type": "display_data",
          "data": {
            "image/png": "[encoded data removed]",
            "text/plain": [
              "<Figure size 720x576 with 1 Axes>"
            ]
          },
          "metadata": {
            "tags": []
          }
        }
      ]
    },
    {
      "cell_type": "code",
      "metadata": {
        "id": "na4S2rbjULtv",
        "colab_type": "code",
        "colab": {
          "base_uri": "https://localhost:8080/",
          "height": 319
        },
        "outputId": "4ce4cca6-4c1c-4559-ba74-46434987d640"
      },
      "source": [
        "knn = KNeighborsClassifier(n_neighbors=7)\n",
        "\n",
        "knn.fit(x_train,y_train)\n",
        "\n",
        "y_pred_knn = knn.predict(x_test)\n",
        "\n",
        "# print(confusion_matrix(y_test,y_pred_knn))\n",
        "print(pd.crosstab(y_test,y_pred_knn))\n",
        "print('KNN Accuracy Score :', knn.score(x_test,y_test))\n",
        "print()\n",
        "print(classification_report(y_test,y_pred_knn))"
      ],
      "execution_count": 150,
      "outputs": [
        {
          "output_type": "stream",
          "text": [
            "col_0      0  1   2\n",
            "Transport          \n",
            "0          1  0  16\n",
            "1          0  5   2\n",
            "2          3  0  57\n",
            "KNN Accuracy Score : 0.75\n",
            "\n",
            "              precision    recall  f1-score   support\n",
            "\n",
            "           0       0.25      0.06      0.10        17\n",
            "           1       1.00      0.71      0.83         7\n",
            "           2       0.76      0.95      0.84        60\n",
            "\n",
            "    accuracy                           0.75        84\n",
            "   macro avg       0.67      0.57      0.59        84\n",
            "weighted avg       0.68      0.75      0.69        84\n",
            "\n"
          ],
          "name": "stdout"
        }
      ]
    },
    {
      "cell_type": "code",
      "metadata": {
        "id": "wkJMfteEygkW",
        "colab_type": "code",
        "colab": {
          "base_uri": "https://localhost:8080/",
          "height": 355
        },
        "outputId": "a337543a-950d-48b8-df7e-80e0b59a0998"
      },
      "source": [
        "# Setup the pipeline steps: steps\n",
        "steps = [('scaler', StandardScaler()),\n",
        "        ('knn', KNeighborsClassifier())]\n",
        "        \n",
        "# Creating the pipeline: pipeline\n",
        "pipeline = Pipeline(steps)\n",
        "\n",
        "# Fit the pipeline to the training set: knn_scaled\n",
        "knn_scaled = pipeline.fit(x_train,y_train)\n",
        "\n",
        "# Instantiate and fit a k-NN classifier to the unscaled data\n",
        "knn_unscaled = KNeighborsClassifier().fit(x_train, y_train)\n",
        "\n",
        "y_pred_knn_pl = pipeline.predict(x_test)\n",
        "\n",
        "# Compute and print metrics\n",
        "print(pd.crosstab(y_test,y_pred_knn_pl))\n",
        "print('Accuracy with Scaling: {}'.format(knn_scaled.score(x_test,y_test)))\n",
        "print('Accuracy without Scaling: {}'.format(knn_unscaled.score(x_test,y_test)))\n",
        "print()\n",
        "print('Confusion Matrix of the scaled KNN:')\n",
        "print(classification_report(y_test,y_pred_knn_pl))\n"
      ],
      "execution_count": 151,
      "outputs": [
        {
          "output_type": "stream",
          "text": [
            "col_0      0  1   2\n",
            "Transport          \n",
            "0          4  0  13\n",
            "1          1  4   2\n",
            "2          3  0  57\n",
            "Accuracy with Scaling: 0.7738095238095238\n",
            "Accuracy without Scaling: 0.7619047619047619\n",
            "\n",
            "Confusion Matrix of the scaled KNN:\n",
            "              precision    recall  f1-score   support\n",
            "\n",
            "           0       0.50      0.24      0.32        17\n",
            "           1       1.00      0.57      0.73         7\n",
            "           2       0.79      0.95      0.86        60\n",
            "\n",
            "    accuracy                           0.77        84\n",
            "   macro avg       0.76      0.59      0.64        84\n",
            "weighted avg       0.75      0.77      0.74        84\n",
            "\n"
          ],
          "name": "stdout"
        }
      ]
    },
    {
      "cell_type": "markdown",
      "metadata": {
        "id": "5SszZLBI4e21",
        "colab_type": "text"
      },
      "source": [
        "### Model 3 : Multinomial Naive Bayes Classifier"
      ]
    },
    {
      "cell_type": "code",
      "metadata": {
        "id": "eanc2WkL4lee",
        "colab_type": "code",
        "colab": {
          "base_uri": "https://localhost:8080/",
          "height": 248
        },
        "outputId": "a89211a5-8515-4f57-8780-c7dc16d0cf42"
      },
      "source": [
        "from sklearn.naive_bayes import MultinomialNB\n",
        "\n",
        "NB_model = MultinomialNB(fit_prior=None)\n",
        "NB_model.fit(x_train,y_train)\n",
        "\n",
        "\n",
        "y_pred_NB = NB_model.predict(x_test)\n",
        "\n",
        "# Compute and print metrics\n",
        "print('Accuracy without Scaling: {}'.format(NB_model.score(x_test,y_test)))\n",
        "print()\n",
        "print('Confusion Matrix of the scaled KNN:')\n",
        "print(classification_report(y_test,y_pred_NB))"
      ],
      "execution_count": 152,
      "outputs": [
        {
          "output_type": "stream",
          "text": [
            "Accuracy without Scaling: 0.6785714285714286\n",
            "\n",
            "Confusion Matrix of the scaled KNN:\n",
            "              precision    recall  f1-score   support\n",
            "\n",
            "           0       0.25      0.24      0.24        17\n",
            "           1       0.36      0.57      0.44         7\n",
            "           2       0.86      0.82      0.84        60\n",
            "\n",
            "    accuracy                           0.68        84\n",
            "   macro avg       0.49      0.54      0.51        84\n",
            "weighted avg       0.69      0.68      0.68        84\n",
            "\n"
          ],
          "name": "stdout"
        }
      ]
    },
    {
      "cell_type": "markdown",
      "metadata": {
        "id": "Acmqbira_3fZ",
        "colab_type": "text"
      },
      "source": [
        "### Model 4 : Multi Class XGBoost Classifier"
      ]
    },
    {
      "cell_type": "code",
      "metadata": {
        "id": "stD9VG0_w2lk",
        "colab_type": "code",
        "colab": {
          "base_uri": "https://localhost:8080/",
          "height": 70
        },
        "outputId": "9adcc3d4-3685-472e-d16a-76ce605a14ce"
      },
      "source": [
        "%time\n",
        "\n",
        "import xgboost as xgb\n",
        "\n",
        "pl_xgb = Pipeline(steps=[('xgboost',xgb.XGBClassifier(objective='multi::softmax'))])\n",
        "\n",
        "scores = cross_val_score(pl_xgb,os_data_x,os_data_y,cv=10)\n",
        "\n",
        "print('Accuracy for XGBoost Classifier : ',scores.mean())"
      ],
      "execution_count": 153,
      "outputs": [
        {
          "output_type": "stream",
          "text": [
            "CPU times: user 2 µs, sys: 1 µs, total: 3 µs\n",
            "Wall time: 6.2 µs\n",
            "Accuracy for XGBoost Classifier :  0.9096618357487923\n"
          ],
          "name": "stdout"
        }
      ]
    },
    {
      "cell_type": "markdown",
      "metadata": {
        "id": "HtNnDN3I6lDf",
        "colab_type": "text"
      },
      "source": [
        "### Model : Mutlinomial  Voting Classifiers"
      ]
    },
    {
      "cell_type": "code",
      "metadata": {
        "id": "xltpnGRgnJRI",
        "colab_type": "code",
        "colab": {
          "base_uri": "https://localhost:8080/",
          "height": 426
        },
        "outputId": "070d0ce3-bb43-47fb-9f0e-d30ee740388a"
      },
      "source": [
        "%time\n",
        "\n",
        "log_clf = LogisticRegression(multi_class='multinomial',solver='sag')\n",
        "knn_clf = KNeighborsClassifier()\n",
        "gnb_clf = GaussianNB()\n",
        "\n",
        "voting_clf = VotingClassifier(\n",
        "    estimators = [('log_reg',log_clf),('knn',knn_clf),('gnb' ,gnb_clf)],voting='hard')\n",
        "\n",
        "voting_clf.fit(x_train,y_train)"
      ],
      "execution_count": 154,
      "outputs": [
        {
          "output_type": "stream",
          "text": [
            "CPU times: user 2 µs, sys: 1e+03 ns, total: 3 µs\n",
            "Wall time: 7.15 µs\n"
          ],
          "name": "stdout"
        },
        {
          "output_type": "execute_result",
          "data": {
            "text/plain": [
              "VotingClassifier(estimators=[('log_reg',\n",
              "                              LogisticRegression(C=1.0, class_weight=None,\n",
              "                                                 dual=False, fit_intercept=True,\n",
              "                                                 intercept_scaling=1,\n",
              "                                                 l1_ratio=None, max_iter=100,\n",
              "                                                 multi_class='multinomial',\n",
              "                                                 n_jobs=None, penalty='l2',\n",
              "                                                 random_state=None,\n",
              "                                                 solver='sag', tol=0.0001,\n",
              "                                                 verbose=0, warm_start=False)),\n",
              "                             ('knn',\n",
              "                              KNeighborsClassifier(algorithm='auto',\n",
              "                                                   leaf_size=30,\n",
              "                                                   metric='minkowski',\n",
              "                                                   metric_params=None,\n",
              "                                                   n_jobs=None, n_neighbors=5,\n",
              "                                                   p=2, weights='uniform')),\n",
              "                             ('gnb',\n",
              "                              GaussianNB(priors=None, var_smoothing=1e-09))],\n",
              "                 flatten_transform=True, n_jobs=None, voting='hard',\n",
              "                 weights=None)"
            ]
          },
          "metadata": {
            "tags": []
          },
          "execution_count": 154
        }
      ]
    },
    {
      "cell_type": "code",
      "metadata": {
        "id": "-_KkboKm6XD7",
        "colab_type": "code",
        "colab": {
          "base_uri": "https://localhost:8080/",
          "height": 337
        },
        "outputId": "367fd744-23b5-43fb-ace6-5eaf235ee8c5"
      },
      "source": [
        "y_pred_voting = voting_clf.predict(x_test)\n",
        "\n",
        "print('VotingClassifier Accuracy Score :', voting_clf.score(x_test,y_test))\n",
        "print()\n",
        "print(pd.crosstab(y_test,y_pred_voting))\n",
        "print()\n",
        "print(classification_report(y_test,y_pred_voting))"
      ],
      "execution_count": 155,
      "outputs": [
        {
          "output_type": "stream",
          "text": [
            "VotingClassifier Accuracy Score : 0.7619047619047619\n",
            "\n",
            "col_0      0  1   2\n",
            "Transport          \n",
            "0          2  1  14\n",
            "1          0  4   3\n",
            "2          2  0  58\n",
            "\n",
            "              precision    recall  f1-score   support\n",
            "\n",
            "           0       0.50      0.12      0.19        17\n",
            "           1       0.80      0.57      0.67         7\n",
            "           2       0.77      0.97      0.86        60\n",
            "\n",
            "    accuracy                           0.76        84\n",
            "   macro avg       0.69      0.55      0.57        84\n",
            "weighted avg       0.72      0.76      0.71        84\n",
            "\n"
          ],
          "name": "stdout"
        }
      ]
    },
    {
      "cell_type": "markdown",
      "metadata": {
        "id": "NOM4CQtYYQ7C",
        "colab_type": "text"
      },
      "source": [
        "### Model : Mutlinomial  Bagging Classifiers"
      ]
    },
    {
      "cell_type": "code",
      "metadata": {
        "id": "vNLo_ZHr6XoQ",
        "colab_type": "code",
        "colab": {
          "base_uri": "https://localhost:8080/",
          "height": 372
        },
        "outputId": "6a240b03-b8e4-46f9-8da0-8f8503ebd5f7"
      },
      "source": [
        "bag_clf = BaggingClassifier(\n",
        "    KNeighborsClassifier(),max_samples=100, bootstrap=True, n_jobs=-1, oob_score=True)\n",
        "bag_clf.fit(x_train, y_train)\n",
        "y_pred_bagging = bag_clf.predict(x_test)\n",
        "\n",
        "print('BaggingClassifier for KNN Accuracy Score :', voting_clf.score(x_test,y_test),'\\n')\n",
        "print('Out of Bag Score :',bag_clf.oob_score_,'\\n')\n",
        "print(pd.crosstab(y_test,y_pred_bagging))\n",
        "print()\n",
        "print(classification_report(y_test,y_pred_bagging))"
      ],
      "execution_count": 156,
      "outputs": [
        {
          "output_type": "stream",
          "text": [
            "BaggingClassifier for KNN Accuracy Score : 0.7619047619047619 \n",
            "\n",
            "Out of Bag Score : 0.7627627627627628 \n",
            "\n",
            "col_0      0  1   2\n",
            "Transport          \n",
            "0          2  0  15\n",
            "1          0  4   3\n",
            "2          2  0  58\n",
            "\n",
            "              precision    recall  f1-score   support\n",
            "\n",
            "           0       0.50      0.12      0.19        17\n",
            "           1       1.00      0.57      0.73         7\n",
            "           2       0.76      0.97      0.85        60\n",
            "\n",
            "    accuracy                           0.76        84\n",
            "   macro avg       0.75      0.55      0.59        84\n",
            "weighted avg       0.73      0.76      0.71        84\n",
            "\n"
          ],
          "name": "stdout"
        }
      ]
    },
    {
      "cell_type": "code",
      "metadata": {
        "id": "dnjrbGvlYemM",
        "colab_type": "code",
        "colab": {}
      },
      "source": [
        ""
      ],
      "execution_count": 0,
      "outputs": []
    }
  ]
}